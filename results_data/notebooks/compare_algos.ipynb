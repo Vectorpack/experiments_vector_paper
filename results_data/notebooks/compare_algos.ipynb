{
 "cells": [
  {
   "cell_type": "code",
   "execution_count": 1,
   "id": "posted-tokyo",
   "metadata": {},
   "outputs": [],
   "source": [
    "import pandas as pd\n",
    "from collections import defaultdict\n",
    "from itertools import product\n",
    "import matplotlib.pyplot as plt\n",
    "from matplotlib import gridspec, cm\n",
    "FONT_SIZE = 17\n",
    "\n",
    "from random import shuffle, seed\n",
    "SEED_NUMBER=42\n",
    "\n",
    "from pathlib import Path"
   ]
  },
  {
   "cell_type": "code",
   "execution_count": 2,
   "id": "smaller-territory",
   "metadata": {},
   "outputs": [
    {
     "name": "stdout",
     "output_type": "stream",
     "text": [
      "/home/mommess/Documents/Vectorpack/experiments_vector_paper/results_data\n"
     ]
    }
   ],
   "source": [
    "proj_path = Path().resolve().parent\n",
    "print(proj_path)"
   ]
  },
  {
   "cell_type": "code",
   "execution_count": 3,
   "id": "legitimate-sunrise",
   "metadata": {},
   "outputs": [],
   "source": [
    "file_P = proj_path / \"Panigrahy_multidim_OPT.csv\"\n",
    "file_I = proj_path / \"New_multidim_OPT.csv\"\n",
    "file_T = proj_path / \"Triplet_multidim.csv\""
   ]
  },
  {
   "cell_type": "code",
   "execution_count": 44,
   "id": "funded-celebration",
   "metadata": {},
   "outputs": [],
   "source": [
    "family_list = ['FF',\n",
    "               'FFD', 'FFD-Dyn',\n",
    "               'BFD-T1', 'BFD-T1-Dyn',\n",
    "               'BFD-T2', 'BFD-T2-Dyn',\n",
    "               'BFD-T3', 'BFD-T3-Dyn',\n",
    "               'BF', 'BF-Dyn',\n",
    "               'WFD-T1', 'WFD-T1-Dyn',\n",
    "               'WFD-T2', 'WFD-T2-Dyn',\n",
    "               'WFD-T3', 'WFD-T3-Dyn',\n",
    "               'WF', 'WF-Dyn',\n",
    "               'BCS-DP1', 'BCS-DP1-Dyn', 'BCS-DP1-Bin', \n",
    "               'BCS-DP2', 'BCS-DP2-Dyn', 'BCS-DP2-Bin', \n",
    "               'BCS-DP3', 'BCS-DP3-Dyn', 'BCS-DP3-Bin', \n",
    "               'BCS-NormDP', 'BCS-NormDP-Dyn', 'BCS-NormDP-Bin',\n",
    "               'BCS-L2Slacks', 'BCS-L2Slacks-Dyn', 'BCS-L2Slacks-Bin',\n",
    "               'BCS-TFSum', 'BCS-TFSum-Dyn', 'BCS-TFSum-Bin',\n",
    "               'BCS-TFMin', 'BCS-TFMin-Dyn', 'BCS-TFMin-Bin',\n",
    "               \n",
    "               'BC', 'BC-Dyn', 'BC-Bin',\n",
    "               'MB-Pairing', 'MB-Pairing-Dyn', 'MB-Pairing-Bin',\n",
    "               'MB-WFD', 'MB-WFD-Dyn',\n",
    "               \n",
    "               'meta'\n",
    "              ]\n",
    "\n",
    "def get_family(alg_name):\n",
    "    ssplit = alg_name.split('-')\n",
    "    s = ssplit[0]\n",
    "    if s == 'MB':\n",
    "        if (ssplit[1] == \"BFD\") or (ssplit[1] == \"WFD\"):\n",
    "            s+= \"-WFD\"\n",
    "        elif ssplit[1] == \"Pairing\":\n",
    "            s+= \"-\" + ssplit[1]\n",
    "        \n",
    "        if (\"Dyn\" in alg_name) or (\"Ratio\" in alg_name):\n",
    "            s+=\"-Dyn\"\n",
    "        elif (\"Bin\" in alg_name):\n",
    "            s+=\"-Bin\"\n",
    "        \n",
    "    elif s == 'BC':\n",
    "        if (\"Dyn\" in alg_name) or (\"Ratio\" in alg_name):\n",
    "            s+=\"-Dyn\"\n",
    "        elif (\"Bin\" in alg_name):\n",
    "            s+=\"-Bin\"\n",
    "\n",
    "    else:\n",
    "        if \"T1\" in alg_name:\n",
    "            s+= \"-T1\"\n",
    "        elif \"T2\" in alg_name:\n",
    "            s+= \"-T2\"\n",
    "        elif \"T3\" in alg_name:\n",
    "            s+= \"-T3\"\n",
    "            \n",
    "        if \"Rank\" in alg_name:\n",
    "            s = \"Fit-Rank\"\n",
    "        \n",
    "        if (\"Dyn\" in alg_name) or (\"Ratio\" in alg_name):\n",
    "            s+=\"-Dyn\"\n",
    "    \n",
    "    if s in family_list:\n",
    "        return s\n",
    "    else:\n",
    "        print(\"Unknown algo name\", alg_name, s)\n",
    "        return -1\n",
    "    \n",
    "def is_family(alg_name, family_name):\n",
    "    fam = get_family(alg_name)\n",
    "    return fam == family_name\n",
    "\n",
    "def create_family_dict(alg_list):\n",
    "    d = defaultdict(list)\n",
    "    \n",
    "    for alg_name in alg_list:\n",
    "        fam = get_family(alg_name)\n",
    "        if fam != -1:\n",
    "            d[fam].append(alg_name)\n",
    "        \n",
    "    return d\n",
    "\n",
    "def get_simple_family(alg_name):\n",
    "    ssplit = alg_name.split('-')\n",
    "    s = ssplit[0]\n",
    "    \n",
    "    if s == 'MB':\n",
    "        if ssplit[1] == \"Pairing\":\n",
    "            return s+\"-Pairing\"\n",
    "        else:\n",
    "            return s+\"-WFD\"\n",
    "    else:\n",
    "        return s\n",
    "    \n",
    "def create_simple_family_dict(alg_list):\n",
    "    d = defaultdict(list)\n",
    "    \n",
    "    for alg_name in alg_list:\n",
    "        fam = get_simple_family(alg_name)\n",
    "        if fam != -1:\n",
    "            d[fam].append(alg_name)\n",
    "    return d"
   ]
  },
  {
   "cell_type": "code",
   "execution_count": 5,
   "id": "b06f4daf",
   "metadata": {},
   "outputs": [],
   "source": [
    "def get_score(s):\n",
    "    score = 0\n",
    "    if \"T1\" in s:\n",
    "        score+= 0.1\n",
    "    elif \"T2\" in s:\n",
    "        score+= 0.2\n",
    "    elif \"T3\" in s:\n",
    "        score+= 0.3\n",
    "\n",
    "    if s == \"FF\":\n",
    "        score = 0\n",
    "    elif s.startswith('FF'):\n",
    "        score+= 1\n",
    "    elif s.startswith('BF'):\n",
    "        score+= 2\n",
    "    elif s.startswith('WF'):\n",
    "        score+= 3\n",
    "    elif s.startswith('BC'):\n",
    "        score+= 4\n",
    "    elif s.startswith('MB-WFD') or s.startswith('MB-BFD'):\n",
    "        score+= 5\n",
    "    elif s.startswith('MB-Pairing'):\n",
    "        score+= 6\n",
    "    elif s.startswith('meta-'):\n",
    "        score+=99\n",
    "    return score"
   ]
  },
  {
   "cell_type": "code",
   "execution_count": 40,
   "id": "f2c00adf",
   "metadata": {},
   "outputs": [],
   "source": [
    "def rename_T3_dyn(alg):\n",
    "    if ('-T3' in alg) and ('-Dyn' in alg):\n",
    "        tmp = alg.split('_') # To keep the '_timems' in alg\n",
    "        l = tmp[0].split('-')\n",
    "        l.remove('Dyn')\n",
    "        l.insert(4, 'Dyn')\n",
    "        tmp[0] = '-'.join(l)\n",
    "        alg = '_'.join(tmp)\n",
    "    return alg"
   ]
  },
  {
   "cell_type": "code",
   "execution_count": 45,
   "id": "7f8f90ac",
   "metadata": {},
   "outputs": [],
   "source": [
    "def rename_algos(algo_list):\n",
    "    new_list = [x.replace(\"WFDm-BS\", \"MB-WFD\").replace(\"BFDm-BS\", \"MB-BFD\").replace(\"Pairing-BS\", \"MB-Pairing\") for x in algo_list]\n",
    "    return [rename_T3_dyn(x).replace(\"ReciprocAvg\", \"RecipAvg\").replace(\"BCS-\", \"BC-\").replace(\"L2Norm\", \"L2Slacks\") for x in new_list]"
   ]
  },
  {
   "cell_type": "markdown",
   "id": "powerful-custody",
   "metadata": {},
   "source": [
    "## Get results"
   ]
  },
  {
   "cell_type": "code",
   "execution_count": 46,
   "id": "challenging-career",
   "metadata": {},
   "outputs": [],
   "source": [
    "def load_df(filename, with_classes=True, **kwargs):\n",
    "    df = pd.read_csv(filename, sep='\\t')\n",
    "    #if with_OPT:\n",
    "    if \"OPT\" in df.columns:\n",
    "        # First 3 columns are ['instance_name', 'LB', 'OPT']\n",
    "        start_cols = 3\n",
    "    else:\n",
    "        start_cols = 2\n",
    "        # First 2 columns are ['instance_name', 'LB']\n",
    "    \n",
    "    # Rename some algorithms\n",
    "    df.columns = rename_algos(df.columns)\n",
    "      \n",
    "    all_column_names = df.columns[start_cols:]\n",
    "    \n",
    "    if (len(all_column_names) % 2) != 0:\n",
    "        print(f\"ERROR: {len(all_column_names)} {len(df.columns)}\")\n",
    "\n",
    "    alg_names = [x for x in all_column_names if not \"_time\" in x]\n",
    "    nb_algos = len(alg_names)\n",
    "    \n",
    "    alg_names_multi = [x for x in alg_names if x.startswith(\"MB-\")]\n",
    "    \n",
    "    # Complement MB results with the solutions of FF\n",
    "    for alg in alg_names_multi:\n",
    "        df.loc[df[alg] == -1, alg] = df['FF']\n",
    "    \n",
    "    for x in alg_names:\n",
    "        if '.' in x:\n",
    "            print(\"Error ALGO NAME:\", x)\n",
    "    \n",
    "    best_LB_OPT = df[\"LB\"].copy()\n",
    "    if \"OPT\" in df.columns:\n",
    "        # complement with optimal values\n",
    "        idx = df[df[\"OPT\"] != -1].index\n",
    "        best_LB_OPT.loc[idx] = df.loc[idx][\"OPT\"]\n",
    "        df.drop(['OPT'], axis=1, inplace=True)\n",
    "    df.insert(2, 'LB_or_OPT', best_LB_OPT)\n",
    "    \n",
    "    df.insert(1, 'n', df['instance_name'].apply(lambda x: int(x.split('_')[1])))\n",
    "    df.insert(2, 'd', df['instance_name'].apply(lambda x: int(x.split('_')[2])))\n",
    "    if with_classes:\n",
    "        df.insert(1, 'class', df['instance_name'].apply(lambda x: x.split('_')[0][5:]))\n",
    "        \n",
    "    df.drop(['instance_name'], axis=1, inplace=True)\n",
    "    \n",
    "    return df, alg_names, alg_names_multi"
   ]
  },
  {
   "cell_type": "code",
   "execution_count": 12,
   "id": "730d6aeb",
   "metadata": {},
   "outputs": [],
   "source": [
    "def get_results(df, alg_names, by_list, group_as_index=False):\n",
    "    sub_df = df[by_list].copy()\n",
    "    \n",
    "    df[\"best_sol\"] = df[alg_names].min(axis=1)\n",
    "\n",
    "    time_cols = [i+'_timems' for i in alg_names]\n",
    "    \n",
    "    eps = df[alg_names].apply(lambda x: (round(x / df[\"LB_or_OPT\"] - 1, 3))*100) # *100 to get a percentage value\n",
    "    time = df[time_cols].apply(lambda x: round(x, 4))\n",
    "    time.columns = alg_names\n",
    "    diff = df[alg_names].apply(lambda x: x - df[\"LB_or_OPT\"])\n",
    "    diff_best = df[alg_names].apply(lambda x: x - df[\"best_sol\"])\n",
    "    match_LB = df[alg_names].apply(lambda x: x == df[\"LB\"])\n",
    "    \n",
    "    best = df[alg_names].apply(lambda x: x == df[\"best_sol\"])\n",
    "    \n",
    "    eps = pd.concat([sub_df, eps], axis=1).groupby(by=by_list, as_index=group_as_index).mean()\n",
    "    time = pd.concat([sub_df, time], axis=1).groupby(by=by_list, as_index=group_as_index).mean()\n",
    "    diff = pd.concat([sub_df, diff], axis=1).groupby(by=by_list, as_index=group_as_index).mean()\n",
    "    diff_best = pd.concat([sub_df, diff_best], axis=1).groupby(by=by_list, as_index=group_as_index).mean()\n",
    "    \n",
    "    best = pd.concat([sub_df, best], axis=1).groupby(by=by_list, as_index=group_as_index).sum()\n",
    "    match_LB = pd.concat([sub_df, match_LB], axis=1).groupby(by=by_list, as_index=group_as_index).sum()\n",
    "    \n",
    "    return eps, time, diff, diff_best, best, match_LB"
   ]
  },
  {
   "cell_type": "code",
   "execution_count": 13,
   "id": "1619ae19",
   "metadata": {},
   "outputs": [],
   "source": [
    "def filter_algo_list(algo_list, remove_prefix):\n",
    "    def predicate(alg, remove_prefix):\n",
    "        for s in remove_prefix:\n",
    "            if alg.startswith(s):\n",
    "                #print(\"removing\", alg)\n",
    "                return True\n",
    "        return False\n",
    "    \n",
    "    l = [alg for alg in algo_list if not predicate(alg, remove_prefix)]\n",
    "    return l"
   ]
  },
  {
   "cell_type": "markdown",
   "id": "2eb47413",
   "metadata": {},
   "source": [
    "# Load dataframes"
   ]
  },
  {
   "cell_type": "code",
   "execution_count": 47,
   "id": "5a1d2e72",
   "metadata": {},
   "outputs": [
    {
     "name": "stdout",
     "output_type": "stream",
     "text": [
      "Loaded 351 algos including 76 MB algos!\n"
     ]
    }
   ],
   "source": [
    "df_P, all_algos, multi_algos = load_df(file_P, with_classes=True)\n",
    "df_I, _, _ = load_df(file_I, with_classes=True)\n",
    "df_T, _, _ = load_df(file_T, with_classes=True)\n",
    "\n",
    "print(f\"Loaded {len(all_algos)} algos including {len(multi_algos)} MB algos!\")"
   ]
  },
  {
   "cell_type": "markdown",
   "id": "909d6b1a",
   "metadata": {},
   "source": [
    "# Compare algos with Unit weights only"
   ]
  },
  {
   "cell_type": "code",
   "execution_count": 49,
   "id": "c70ac369",
   "metadata": {},
   "outputs": [
    {
     "name": "stdout",
     "output_type": "stream",
     "text": [
      "There are 34 Unit algos\n"
     ]
    }
   ],
   "source": [
    "alg_names_unit = [x for x in all_algos if \"-Unit\" in x and not \"T3\" in x]\n",
    "alg_names_unit.insert(0, 'FF')\n",
    "print(f\"There are {len(alg_names_unit)} Unit algos\")"
   ]
  },
  {
   "cell_type": "code",
   "execution_count": 50,
   "id": "9e5b2081",
   "metadata": {},
   "outputs": [],
   "source": [
    "# Filter out BF and WF algos\n",
    "alg_names_unit = [x for x in alg_names_unit if not \"BF-\" in x and not \"WF-\" in x]"
   ]
  },
  {
   "cell_type": "code",
   "execution_count": 51,
   "id": "1160eec8",
   "metadata": {},
   "outputs": [],
   "source": [
    "# For all Centric + Multibin algos\n",
    "unit_results_P = get_results(df_P, alg_names_unit, ['class', 'n', 'd'], group_as_index=True)\n",
    "unit_results_I = get_results(df_I, alg_names_unit, ['class', 'n', 'd'], group_as_index=True)\n",
    "unit_results_T = get_results(df_T, alg_names_unit, ['class', 'n', 'd'], group_as_index=True)\n",
    "\n",
    "# results contains: eps, time, diff, diff_best, best, match_LB"
   ]
  },
  {
   "cell_type": "markdown",
   "id": "d90f3584",
   "metadata": {},
   "source": [
    "## Find algos consistently outperformed by others\n",
    "There are none for Centric. Even BF and WF are better than DotProduct1 for some instances."
   ]
  },
  {
   "cell_type": "code",
   "execution_count": null,
   "id": "b55b225b",
   "metadata": {},
   "outputs": [],
   "source": [
    "df = df_T\n",
    "algs = alg_names_unit\n",
    "\n",
    "nb_instances = df.shape[0]\n",
    "for algo_test in algs:\n",
    "    counts = df[algs].apply(lambda x: x <= df[algo_test]).sum()\n",
    "    l = list(counts[counts == nb_instances].index)\n",
    "    l.remove(algo_test)\n",
    "    if (len(l) > 0):\n",
    "        #to_remove = to_remove.union(l)\n",
    "        print(f\"{algo_test}: {len(l)} are better than me\")\n",
    "        if (len(l) < 10):\n",
    "            print('\\t', l)"
   ]
  },
  {
   "cell_type": "markdown",
   "id": "f19234e4",
   "metadata": {},
   "source": [
    "## Find algorithms performing equally"
   ]
  },
  {
   "cell_type": "code",
   "execution_count": null,
   "id": "8aa965c5",
   "metadata": {},
   "outputs": [],
   "source": [
    "df = df_P\n",
    "algs = alg_names_unit\n",
    "\n",
    "nb_instances = df.shape[0]\n",
    "sub_list = algs.copy()\n",
    "new_list = []\n",
    "for i in range(len(algs)):\n",
    "    algo_test = sub_list.pop(0)\n",
    "    new_list.append(algo_test)\n",
    "    # Find algos performing equally to algo_test\n",
    "    counts = df[sub_list].apply(lambda x: x == df[algo_test]).sum()\n",
    "    l = list(counts[counts == nb_instances].index)\n",
    "    if (len(l) != 0):\n",
    "        # If some are found, remove them from the sub_list\n",
    "        print(f\"{algo_test} identical to: {l}\")\n",
    "        sub_list = [x for x in sub_list if not x in l]\n",
    "    if (len(sub_list) == 0):\n",
    "        break\n",
    "# Sub_list contains 'unique' algos\n",
    "print(f\"There are {len(new_list)} 'unique' algos\")"
   ]
  },
  {
   "cell_type": "markdown",
   "id": "476eec5e",
   "metadata": {},
   "source": [
    "## Find best algos for each class and parameters"
   ]
  },
  {
   "cell_type": "code",
   "execution_count": null,
   "id": "c2d19770",
   "metadata": {},
   "outputs": [],
   "source": [
    "algs = alg_names_unit\n",
    "\n",
    "eps = unit_results_P[0]\n",
    "for c in range(1,10): # For Panigrahy dataframe\n",
    "    print(\"\\tClass\", c)\n",
    "    \n",
    "    print(\"\\t\\tPercentage err to LB\")\n",
    "    eps_avg = eps.loc[str(c)][algs].mean()\n",
    "    eps_avg.sort_values(ascending=True, inplace=True)\n",
    "    print(eps_avg.head(10))"
   ]
  },
  {
   "cell_type": "code",
   "execution_count": null,
   "id": "1aca4852",
   "metadata": {},
   "outputs": [],
   "source": [
    "algs = alg_names_unit\n",
    "\n",
    "eps = unit_results_I[0]\n",
    "for c in range(1,7): # For New dataframe\n",
    "    print(\"\\tClass\", c)\n",
    "    \n",
    "    print(\"\\t\\tPercentage err to LB\")\n",
    "    eps_avg = eps.loc[str(c)][algs].mean()\n",
    "    eps_avg.sort_values(ascending=True, inplace=True)\n",
    "    print(eps_avg.head(10))"
   ]
  },
  {
   "cell_type": "code",
   "execution_count": null,
   "id": "57462fd3",
   "metadata": {},
   "outputs": [],
   "source": [
    "algs = alg_names_unit\n",
    "\n",
    "eps = unit_results_T[0]\n",
    "for c in ['C', 'F']: # For Triplet dataframe\n",
    "    print(\"\\tClass\", c)\n",
    "    \n",
    "    print(\"\\t\\tPercentage err to LB\")\n",
    "    eps_avg = eps.loc[str(c)][algs].mean()\n",
    "    eps_avg.sort_values(ascending=True, inplace=True)\n",
    "    print(eps_avg.head(10))"
   ]
  },
  {
   "cell_type": "markdown",
   "id": "acd5b4b7",
   "metadata": {},
   "source": [
    "## Plots"
   ]
  },
  {
   "cell_type": "code",
   "execution_count": 52,
   "id": "3bc42f9a",
   "metadata": {},
   "outputs": [],
   "source": [
    "def create_small_colors(n):\n",
    "    cmap = cm.get_cmap('nipy_spectral')\n",
    "    #cmap = cm.get_cmap('turbo')\n",
    "    if n > 1:\n",
    "        c = []\n",
    "        for i in range(n):\n",
    "            c.append(cmap(float(i/(n-1))))\n",
    "        #shuffle(c)\n",
    "    else:\n",
    "        c = [cmap(0)]\n",
    "    return c"
   ]
  },
  {
   "cell_type": "code",
   "execution_count": 65,
   "id": "b4eafa2a",
   "metadata": {},
   "outputs": [],
   "source": [
    "MARKS = ['o', 'v', 'd', '*', '^', 'X']\n",
    "MARKS2 = ['o', 'v', 'd']\n",
    "\n",
    "def create_markers(n, short=False):\n",
    "    if short:\n",
    "        m = len(MARKS2)\n",
    "        return [MARKS2[i%m] for i in range(n)]\n",
    "    else:\n",
    "        m = len(MARKS)\n",
    "        return [MARKS[i%m] for i in range(n)]"
   ]
  },
  {
   "cell_type": "code",
   "execution_count": 54,
   "id": "a3e93b62",
   "metadata": {},
   "outputs": [],
   "source": [
    "def simplify_family_dict(fam_dict):\n",
    "    new_dict = defaultdict(list)\n",
    "    \n",
    "    for fam, fam_list in fam_dict.items():\n",
    "        sp = fam.split(\"-\")\n",
    "        s = sp[0]\n",
    "        if len(sp) > 1 and sp[1].startswith('T'):\n",
    "            s+= \"-\" + sp[1]\n",
    "        \n",
    "        if len(sp) > 1 and sp[0] == \"MB\":\n",
    "            s+= \"-\" + sp[1]\n",
    "        \n",
    "        new_dict[s].extend(fam_list)\n",
    "        \n",
    "    return new_dict"
   ]
  },
  {
   "cell_type": "code",
   "execution_count": 66,
   "id": "808f4cd6",
   "metadata": {},
   "outputs": [],
   "source": [
    "def plot_summary_family(x_data, y_data, alg_list,\n",
    "                 stitle, xlabel, ylabel,\n",
    "                 **kwargs):\n",
    "    \n",
    "    # kwargs parameters\n",
    "    if \"bbox_anchor\" in kwargs:\n",
    "        bbox_anchor = kwargs[\"bbox_anchor\"]\n",
    "    else:\n",
    "        bbox_anchor = (kwargs.get(\"bbox_anchor_x\", 0.5), kwargs.get(\"bbox_anchor_y\", -0.1))\n",
    "    \n",
    "    ncols = kwargs.get(\"ncols\", 5)\n",
    "\n",
    "    if kwargs.get(\"do_mean\", True):\n",
    "        x = x_data[alg_list].mean()\n",
    "        y = y_data[alg_list].mean()\n",
    "    else:\n",
    "        x = x_data[alg_list]\n",
    "        y = y_data[alg_list]\n",
    "    \n",
    "    fig = plt.figure(figsize=(15,10))\n",
    "    \n",
    "    # To sort the algos by FFD, BFD, WFD, BCS, MB order\n",
    "    alg_list.sort(key=lambda x: get_score(x))\n",
    "    \n",
    "    fam_dict = create_family_dict(alg_list)\n",
    "    if kwargs.get(\"simplify_dict\", True):\n",
    "        fam_dict = simplify_family_dict(fam_dict)\n",
    "    \n",
    "    marker_list = create_markers(len(alg_list), kwargs.get(\"short_markers\", False))\n",
    "    color_list = create_small_colors(len(fam_dict))\n",
    "    seed(SEED_NUMBER)\n",
    "    shuffle(color_list)\n",
    "    \n",
    "    i = 0\n",
    "    j = 0\n",
    "    legend_markers = []\n",
    "    legend_names = []\n",
    "    for fam, fam_list in fam_dict.items():\n",
    "        n_algos = len(fam_list)\n",
    "        \n",
    "        for alg in fam_list:\n",
    "            plt.scatter(x[alg], y[alg], color=color_list[i], marker=marker_list[j], s=100)\n",
    "            legend_markers.append(plt.Line2D([0,0],[0,0],color=color_list[i], marker=marker_list[j], linestyle=''))\n",
    "            legend_names.append(alg)\n",
    "            j+=1\n",
    "        i+=1\n",
    "    \n",
    "    plt.title(stitle, fontsize=FONT_SIZE+4)\n",
    "    plt.xlabel(xlabel, fontsize=FONT_SIZE+4)\n",
    "    plt.ylabel(ylabel, fontsize=FONT_SIZE+4)\n",
    "    plt.xticks(fontsize=FONT_SIZE)\n",
    "    plt.yticks(fontsize=FONT_SIZE)\n",
    "    \n",
    "    if kwargs.get(\"show_legend\", True):\n",
    "        legend_size = kwargs.get(\"legend_size\", FONT_SIZE-5)\n",
    "        fig.legend(legend_markers, legend_names, numpoints=1, loc='lower center',\n",
    "                   fontsize=legend_size, ncol=ncols, bbox_to_anchor=bbox_anchor)\n",
    "    \n",
    "    if kwargs.get(\"log_scale\", False):\n",
    "        plt.xscale('log')\n",
    "    plt.show()\n",
    "    \n",
    "    filename = kwargs.get(\"filename\", None)\n",
    "    if filename:\n",
    "        fig.savefig(filename, bbox_inches='tight')"
   ]
  },
  {
   "cell_type": "code",
   "execution_count": 56,
   "id": "09a1d6f1",
   "metadata": {},
   "outputs": [],
   "source": [
    "def plot_n_eps(x_data, y_data, c, alg_list,\n",
    "               stitle, xlabel, ylabel,\n",
    "               **kwargs):\n",
    "    \n",
    "    # kwargs parameters\n",
    "    if \"bbox_anchor\" in kwargs:\n",
    "        bbox_anchor = kwargs[\"bbox_anchor\"]\n",
    "    else:\n",
    "        bbox_anchor = (kwargs.get(\"bbox_anchor_x\", 0.5), kwargs.get(\"bbox_anchor_y\", -0.12))\n",
    "    \n",
    "    ncols = kwargs.get(\"ncols\", 5)\n",
    "    \n",
    "    fig = plt.figure(figsize=(15,8))\n",
    "    gs = fig.add_gridspec(3, 1)\n",
    "    (ax1, ax2, ax3) = gs.subplots(sharex=True, sharey=True)\n",
    "    \n",
    "    # To sort the algos by FFD, BFD, WFD, BCS, MB order\n",
    "    alg_list.sort(key=lambda x: get_score(x))\n",
    "    \n",
    "    color_list = create_small_colors(len(alg_list))\n",
    "    seed(SEED_NUMBER+1)\n",
    "    shuffle(color_list)\n",
    "    \n",
    "    y1 = y_data.loc[c, :, 3]\n",
    "    y2 = y_data.loc[c, :, 5]\n",
    "    y3 = y_data.loc[c, :, 10]\n",
    "\n",
    "    for i in range(len(alg_list)):\n",
    "        alg = alg_list[i]\n",
    "        ax1.plot(x_data, y1[alg], '.:', c=color_list[i], label=alg, linewidth=2, markersize=15)\n",
    "        ax2.plot(x_data, y2[alg], '.:', c=color_list[i], label=alg, linewidth=2, markersize=15)\n",
    "        ax3.plot(x_data, y3[alg], '.:', c=color_list[i], label=alg, linewidth=2, markersize=15)\n",
    "    \n",
    "    #simple_names = [dict_simple_names.get(x,x) for x in alg_list]\n",
    "    markers = [plt.Line2D([0,0],[0,0],color=color, marker='o', linestyle='') for color in color_list]\n",
    "    fig.legend(markers, alg_list, numpoints=1, loc='lower center', fontsize=FONT_SIZE-4,\n",
    "               ncol=ncols, bbox_to_anchor=bbox_anchor)\n",
    "\n",
    "    plt.xticks(x_data)\n",
    "    #fig.subtitle(stitle, fontsize=FONT_SIZE)\n",
    "    plt.xlabel(xlabel, fontsize=FONT_SIZE)\n",
    "    ax2.set_ylabel(ylabel, fontsize=FONT_SIZE+3)\n",
    "    \n",
    "    ax1.set_title(stitle + \", d=3\", fontsize=FONT_SIZE)\n",
    "    ax2.set_title(\"d=5\", fontsize=FONT_SIZE-2)\n",
    "    ax3.set_title(\"d=10\", fontsize=FONT_SIZE-2)\n",
    "    \n",
    "    ax1.tick_params(axis=\"y\", labelsize=FONT_SIZE-3)\n",
    "    ax2.tick_params(axis=\"y\", labelsize=FONT_SIZE-3)\n",
    "    ax3.tick_params(axis=\"both\", labelsize=FONT_SIZE-3)\n",
    "    \n",
    "    if kwargs.get(\"log_scale_x\", False):\n",
    "        plt.xscale('log')\n",
    "    if kwargs.get(\"log_scale_y\", False):\n",
    "        plt.yscale('log')\n",
    "    \n",
    "    plt.show()\n",
    "    \n",
    "    filename = kwargs.get(\"filename\", None)\n",
    "    if filename:\n",
    "        fig.savefig(filename, bbox_inches='tight')"
   ]
  },
  {
   "cell_type": "code",
   "execution_count": 57,
   "id": "464ea735",
   "metadata": {},
   "outputs": [],
   "source": [
    "def create_selected_list(eps, fam_dict, with_meta=False):\n",
    "    l = []\n",
    "    for fam, fam_list in fam_dict.items():\n",
    "        if fam == \"FF\":\n",
    "            l.append(\"FF\")\n",
    "        else:\n",
    "            eps_avg = eps[fam_list].mean()\n",
    "            eps_avg.sort_values(ascending=True, inplace=True)\n",
    "            l.extend(eps_avg.index[:1])\n",
    "    \n",
    "    if with_meta:\n",
    "        l = l + [\"meta-centric\", \"meta-all\"]\n",
    "    return l"
   ]
  },
  {
   "cell_type": "markdown",
   "id": "e65a9248",
   "metadata": {},
   "source": [
    "## Plot lines %error as a function of n\n",
    "\n",
    "For each class a selection of algorithms is made using 'create_selected_list'"
   ]
  },
  {
   "cell_type": "code",
   "execution_count": 58,
   "id": "0066eda2",
   "metadata": {},
   "outputs": [],
   "source": [
    "unit_fam_dict = create_simple_family_dict(alg_names_unit)\n",
    "#del unit_fam_dict[\"FF\"]"
   ]
  },
  {
   "cell_type": "code",
   "execution_count": null,
   "id": "94366486",
   "metadata": {},
   "outputs": [],
   "source": [
    "for c in range(1,10):\n",
    "    fname = proj_path / f\"plots/lines/unit_lines_P{c}.pdf\"\n",
    "    sel_algos_unit = create_selected_list(unit_results_P[0].loc[str(c)], unit_fam_dict, with_meta=False)\n",
    "    plot_n_eps([20, 40, 60, 120, 250, 500], unit_results_P[0], str(c), sel_algos_unit,\n",
    "           f\"Class {c} of Panigrahy\", \"Number of items\", \"Average % error\",\n",
    "           ncols=4, bbox_anchor=(0.5, -0.06), filename=fname)"
   ]
  },
  {
   "cell_type": "code",
   "execution_count": null,
   "id": "68e84e8e",
   "metadata": {},
   "outputs": [],
   "source": [
    "for c in range(1,7):\n",
    "    fname = proj_path / f\"plots/lines/unit_lines_I{c}.pdf\"\n",
    "    sel_algos_unit = create_selected_list(unit_results_I[0].loc[str(c)], unit_fam_dict, with_meta=False)\n",
    "    plot_n_eps([20, 40, 60, 120, 250, 500], unit_results_I[0], str(c), sel_algos_unit,\n",
    "           f\"Class {c} of New\", \"Number of items\", \"Average % error\",\n",
    "           ncols=4, bbox_anchor=(0.5, -0.06), filename=fname)"
   ]
  },
  {
   "cell_type": "code",
   "execution_count": null,
   "id": "e78e5cd9",
   "metadata": {},
   "outputs": [],
   "source": [
    "for c in [\"F\", \"C\"]:\n",
    "    fname = proj_path / f\"plots/lines/unit_lines_T{c}.pdf\"\n",
    "    sel_algos_unit = create_selected_list(unit_results_T[0].loc[str(c)], unit_fam_dict, with_meta=False)\n",
    "    plot_n_eps([60, 120, 249, 501], unit_results_T[0], str(c), sel_algos_unit,\n",
    "           f\"Class {c} of Triplet\", \"Number of items\", \"Average % error\",\n",
    "           ncols=4, bbox_anchor=(0.5, -0.06), filename=fname)"
   ]
  },
  {
   "cell_type": "markdown",
   "id": "67fa591d",
   "metadata": {},
   "source": [
    "### EPS and Time values"
   ]
  },
  {
   "cell_type": "code",
   "execution_count": 146,
   "id": "5c5e2ce5",
   "metadata": {
    "collapsed": true
   },
   "outputs": [
    {
     "data": {
      "text/plain": [
       "FF                            2.166667\n",
       "FFD-L1-Unit                   2.674074\n",
       "FFD-Linf-Unit                 2.548148\n",
       "FFD-L2-Unit                   2.503704\n",
       "BFD-T1-L1-Unit                6.959259\n",
       "BFD-T1-Linf-Unit              6.822222\n",
       "BFD-T1-L2-Unit                7.000000\n",
       "BFD-T1-L2Load-Unit            7.025926\n",
       "WFD-T1-L1-Unit                4.448148\n",
       "WFD-T1-Linf-Unit              4.592593\n",
       "WFD-T1-L2-Unit                4.562963\n",
       "WFD-T1-L2Load-Unit            6.014815\n",
       "BC-DP1-Unit                  19.622222\n",
       "BC-DP2-Unit                  20.251852\n",
       "BC-NormDP-Unit               27.003704\n",
       "BC-L2Norm-Unit               19.648148\n",
       "BC-TFSum-Unit                19.403704\n",
       "BC-TFMin-Unit                25.092593\n",
       "MB-WFD-Linf-Unit             55.948148\n",
       "MB-WFD-L1-Unit               56.133333\n",
       "MB-WFD-L2-Unit               57.270370\n",
       "MB-BFD-L2Load-Unit           50.833333\n",
       "MB-Pairing-DP1-Unit        3980.125926\n",
       "MB-Pairing-DP2-Unit        7524.625926\n",
       "MB-Pairing-DP3-Unit        8751.644444\n",
       "MB-Pairing-NormDP-Unit    11628.062963\n",
       "dtype: float64"
      ]
     },
     "execution_count": 146,
     "metadata": {},
     "output_type": "execute_result"
    }
   ],
   "source": [
    "unit_results_P[1].loc[:,500,:][alg_names_unit].mean()"
   ]
  },
  {
   "cell_type": "code",
   "execution_count": 145,
   "id": "289b3b76",
   "metadata": {
    "collapsed": true
   },
   "outputs": [
    {
     "data": {
      "text/plain": [
       "FF                            6.0\n",
       "FFD-L1-Unit                   6.6\n",
       "FFD-Linf-Unit                 6.2\n",
       "FFD-L2-Unit                   6.1\n",
       "BFD-T1-L1-Unit               15.2\n",
       "BFD-T1-Linf-Unit             15.1\n",
       "BFD-T1-L2-Unit               15.2\n",
       "BFD-T1-L2Load-Unit           15.1\n",
       "WFD-T1-L1-Unit               11.3\n",
       "WFD-T1-Linf-Unit             12.2\n",
       "WFD-T1-L2-Unit               11.5\n",
       "WFD-T1-L2Load-Unit           13.1\n",
       "BC-DP1-Unit                  39.5\n",
       "BC-DP2-Unit                  39.4\n",
       "BC-NormDP-Unit               55.9\n",
       "BC-L2Norm-Unit               40.1\n",
       "BC-TFSum-Unit                39.7\n",
       "BC-TFMin-Unit                50.9\n",
       "MB-WFD-Linf-Unit             98.9\n",
       "MB-WFD-L1-Unit              105.4\n",
       "MB-WFD-L2-Unit              101.3\n",
       "MB-BFD-L2Load-Unit           89.8\n",
       "MB-Pairing-DP1-Unit       10414.3\n",
       "MB-Pairing-DP2-Unit       20493.7\n",
       "MB-Pairing-DP3-Unit       19202.5\n",
       "MB-Pairing-NormDP-Unit    31657.9\n",
       "dtype: float64"
      ]
     },
     "execution_count": 145,
     "metadata": {},
     "output_type": "execute_result"
    }
   ],
   "source": [
    "unit_results_P[1][alg_names_unit].max()"
   ]
  },
  {
   "cell_type": "markdown",
   "id": "23641b16",
   "metadata": {},
   "source": [
    "##### For P5"
   ]
  },
  {
   "cell_type": "code",
   "execution_count": 21,
   "id": "bd5ae467",
   "metadata": {},
   "outputs": [],
   "source": [
    "sel_algos_unit_P5 = create_selected_list(unit_results_P[0].loc['5'], unit_fam_dict, with_meta=False)"
   ]
  },
  {
   "cell_type": "code",
   "execution_count": 27,
   "id": "902d008d",
   "metadata": {},
   "outputs": [
    {
     "data": {
      "text/html": [
       "<div>\n",
       "<style scoped>\n",
       "    .dataframe tbody tr th:only-of-type {\n",
       "        vertical-align: middle;\n",
       "    }\n",
       "\n",
       "    .dataframe tbody tr th {\n",
       "        vertical-align: top;\n",
       "    }\n",
       "\n",
       "    .dataframe thead th {\n",
       "        text-align: right;\n",
       "    }\n",
       "</style>\n",
       "<table border=\"1\" class=\"dataframe\">\n",
       "  <thead>\n",
       "    <tr style=\"text-align: right;\">\n",
       "      <th></th>\n",
       "      <th>FF</th>\n",
       "      <th>FFD-L2-Unit</th>\n",
       "      <th>BFD-T1-L2Load-Unit</th>\n",
       "      <th>WFD-T1-L2Load-Unit</th>\n",
       "      <th>BC-L2Norm-Unit</th>\n",
       "      <th>MB-Pairing-NormDP-Unit</th>\n",
       "      <th>MB-WFD-L2-Unit</th>\n",
       "    </tr>\n",
       "    <tr>\n",
       "      <th>d</th>\n",
       "      <th></th>\n",
       "      <th></th>\n",
       "      <th></th>\n",
       "      <th></th>\n",
       "      <th></th>\n",
       "      <th></th>\n",
       "      <th></th>\n",
       "    </tr>\n",
       "  </thead>\n",
       "  <tbody>\n",
       "    <tr>\n",
       "      <th>3</th>\n",
       "      <td>5.86</td>\n",
       "      <td>5.24</td>\n",
       "      <td>5.24</td>\n",
       "      <td>5.24</td>\n",
       "      <td>0.93</td>\n",
       "      <td>2.16</td>\n",
       "      <td>5.24</td>\n",
       "    </tr>\n",
       "    <tr>\n",
       "      <th>5</th>\n",
       "      <td>8.43</td>\n",
       "      <td>8.41</td>\n",
       "      <td>8.41</td>\n",
       "      <td>8.41</td>\n",
       "      <td>2.48</td>\n",
       "      <td>3.40</td>\n",
       "      <td>8.11</td>\n",
       "    </tr>\n",
       "    <tr>\n",
       "      <th>10</th>\n",
       "      <td>11.48</td>\n",
       "      <td>11.47</td>\n",
       "      <td>11.47</td>\n",
       "      <td>11.47</td>\n",
       "      <td>4.31</td>\n",
       "      <td>5.24</td>\n",
       "      <td>11.17</td>\n",
       "    </tr>\n",
       "  </tbody>\n",
       "</table>\n",
       "</div>"
      ],
      "text/plain": [
       "       FF  FFD-L2-Unit  BFD-T1-L2Load-Unit  WFD-T1-L2Load-Unit  \\\n",
       "d                                                                \n",
       "3    5.86         5.24                5.24                5.24   \n",
       "5    8.43         8.41                8.41                8.41   \n",
       "10  11.48        11.47               11.47               11.47   \n",
       "\n",
       "    BC-L2Norm-Unit  MB-Pairing-NormDP-Unit  MB-WFD-L2-Unit  \n",
       "d                                                           \n",
       "3             0.93                    2.16            5.24  \n",
       "5             2.48                    3.40            8.11  \n",
       "10            4.31                    5.24           11.17  "
      ]
     },
     "execution_count": 27,
     "metadata": {},
     "output_type": "execute_result"
    }
   ],
   "source": [
    "unit_results_P[0].loc[\"5\", 500][sel_algos_unit_P5]"
   ]
  },
  {
   "cell_type": "code",
   "execution_count": 23,
   "id": "8d1eb295",
   "metadata": {},
   "outputs": [
    {
     "data": {
      "text/plain": [
       "FF                          0.011111\n",
       "FFD-L2-Unit                 0.044444\n",
       "BFD-T1-L2Load-Unit          0.166667\n",
       "WFD-T1-L2Load-Unit          0.166667\n",
       "BC-L2Norm-Unit              4.666667\n",
       "MB-Pairing-NormDP-Unit    613.572222\n",
       "MB-WFD-L2-Unit              0.916667\n",
       "dtype: float64"
      ]
     },
     "execution_count": 23,
     "metadata": {},
     "output_type": "execute_result"
    }
   ],
   "source": [
    "unit_results_P[1].loc['5'][sel_algos_unit_P5].mean()"
   ]
  },
  {
   "cell_type": "code",
   "execution_count": 24,
   "id": "46a44d4a",
   "metadata": {},
   "outputs": [
    {
     "data": {
      "text/plain": [
       "FF                           0.2\n",
       "FFD-L2-Unit                  0.4\n",
       "BFD-T1-L2Load-Unit           1.0\n",
       "WFD-T1-L2Load-Unit           1.0\n",
       "BC-L2Norm-Unit              34.0\n",
       "MB-Pairing-NormDP-Unit    5357.5\n",
       "MB-WFD-L2-Unit               5.6\n",
       "dtype: float64"
      ]
     },
     "execution_count": 24,
     "metadata": {},
     "output_type": "execute_result"
    }
   ],
   "source": [
    "unit_results_P[1].loc['5'][sel_algos_unit_P5].max()"
   ]
  },
  {
   "cell_type": "markdown",
   "id": "e3d1bf72",
   "metadata": {},
   "source": [
    "##### For P8"
   ]
  },
  {
   "cell_type": "code",
   "execution_count": 28,
   "id": "ba4c31ae",
   "metadata": {},
   "outputs": [],
   "source": [
    "sel_algos_unit_P8 = create_selected_list(unit_results_P[0].loc['8'], unit_fam_dict, with_meta=False)"
   ]
  },
  {
   "cell_type": "code",
   "execution_count": 30,
   "id": "71bcd956",
   "metadata": {},
   "outputs": [
    {
     "data": {
      "text/html": [
       "<div>\n",
       "<style scoped>\n",
       "    .dataframe tbody tr th:only-of-type {\n",
       "        vertical-align: middle;\n",
       "    }\n",
       "\n",
       "    .dataframe tbody tr th {\n",
       "        vertical-align: top;\n",
       "    }\n",
       "\n",
       "    .dataframe thead th {\n",
       "        text-align: right;\n",
       "    }\n",
       "</style>\n",
       "<table border=\"1\" class=\"dataframe\">\n",
       "  <thead>\n",
       "    <tr style=\"text-align: right;\">\n",
       "      <th></th>\n",
       "      <th>FF</th>\n",
       "      <th>FFD-Linf-Unit</th>\n",
       "      <th>BFD-T1-Linf-Unit</th>\n",
       "      <th>WFD-T1-L2Load-Unit</th>\n",
       "      <th>BC-DP1-Unit</th>\n",
       "      <th>MB-Pairing-DP3-Unit</th>\n",
       "      <th>MB-WFD-Linf-Unit</th>\n",
       "    </tr>\n",
       "    <tr>\n",
       "      <th>d</th>\n",
       "      <th></th>\n",
       "      <th></th>\n",
       "      <th></th>\n",
       "      <th></th>\n",
       "      <th></th>\n",
       "      <th></th>\n",
       "      <th></th>\n",
       "    </tr>\n",
       "  </thead>\n",
       "  <tbody>\n",
       "    <tr>\n",
       "      <th>3</th>\n",
       "      <td>0.48</td>\n",
       "      <td>0.0</td>\n",
       "      <td>0.0</td>\n",
       "      <td>0.0</td>\n",
       "      <td>0.20</td>\n",
       "      <td>0.20</td>\n",
       "      <td>0.0</td>\n",
       "    </tr>\n",
       "    <tr>\n",
       "      <th>5</th>\n",
       "      <td>0.92</td>\n",
       "      <td>0.0</td>\n",
       "      <td>0.0</td>\n",
       "      <td>0.0</td>\n",
       "      <td>0.80</td>\n",
       "      <td>0.68</td>\n",
       "      <td>0.0</td>\n",
       "    </tr>\n",
       "    <tr>\n",
       "      <th>10</th>\n",
       "      <td>2.48</td>\n",
       "      <td>0.0</td>\n",
       "      <td>0.0</td>\n",
       "      <td>0.2</td>\n",
       "      <td>1.52</td>\n",
       "      <td>1.52</td>\n",
       "      <td>0.0</td>\n",
       "    </tr>\n",
       "  </tbody>\n",
       "</table>\n",
       "</div>"
      ],
      "text/plain": [
       "      FF  FFD-Linf-Unit  BFD-T1-Linf-Unit  WFD-T1-L2Load-Unit  BC-DP1-Unit  \\\n",
       "d                                                                            \n",
       "3   0.48            0.0               0.0                 0.0         0.20   \n",
       "5   0.92            0.0               0.0                 0.0         0.80   \n",
       "10  2.48            0.0               0.0                 0.2         1.52   \n",
       "\n",
       "    MB-Pairing-DP3-Unit  MB-WFD-Linf-Unit  \n",
       "d                                          \n",
       "3                  0.20               0.0  \n",
       "5                  0.68               0.0  \n",
       "10                 1.52               0.0  "
      ]
     },
     "execution_count": 30,
     "metadata": {},
     "output_type": "execute_result"
    }
   ],
   "source": [
    "unit_results_P[0].loc['8',500][sel_algos_unit_P8]"
   ]
  },
  {
   "cell_type": "code",
   "execution_count": 132,
   "id": "66cb5f3f",
   "metadata": {},
   "outputs": [
    {
     "data": {
      "text/plain": [
       "FF                     6.353333\n",
       "FFD-Linf-Unit          1.148333\n",
       "BFD-T1-Linf-Unit       1.148333\n",
       "WFD-T1-L2Load-Unit     1.646667\n",
       "BC-DP1-Unit            3.671667\n",
       "MB-WFD-Linf-Unit       1.148333\n",
       "MB-Pairing-DP3-Unit    3.140000\n",
       "dtype: float64"
      ]
     },
     "execution_count": 132,
     "metadata": {},
     "output_type": "execute_result"
    }
   ],
   "source": [
    "unit_results_P[0].loc['8',:,5][sel_algos_unit_P8].mean()"
   ]
  },
  {
   "cell_type": "code",
   "execution_count": 133,
   "id": "623a59d2",
   "metadata": {},
   "outputs": [
    {
     "data": {
      "text/plain": [
       "FF                     7.930000\n",
       "FFD-Linf-Unit          3.363333\n",
       "BFD-T1-Linf-Unit       3.416667\n",
       "WFD-T1-L2Load-Unit     2.401667\n",
       "BC-DP1-Unit            4.626667\n",
       "MB-WFD-Linf-Unit       3.218333\n",
       "MB-Pairing-DP3-Unit    4.508333\n",
       "dtype: float64"
      ]
     },
     "execution_count": 133,
     "metadata": {},
     "output_type": "execute_result"
    }
   ],
   "source": [
    "unit_results_P[0].loc['8',:,10][sel_algos_unit_P8].mean()"
   ]
  },
  {
   "cell_type": "code",
   "execution_count": 117,
   "id": "a1144264",
   "metadata": {},
   "outputs": [
    {
     "data": {
      "text/plain": [
       "FF                        0.372222\n",
       "FFD-Linf-Unit             0.416667\n",
       "BFD-T1-Linf-Unit          1.216667\n",
       "WFD-T1-L2Load-Unit        1.027778\n",
       "BC-DP1-Unit               3.133333\n",
       "MB-WFD-Linf-Unit         13.711111\n",
       "MB-Pairing-DP3-Unit    1711.927778\n",
       "dtype: float64"
      ]
     },
     "execution_count": 117,
     "metadata": {},
     "output_type": "execute_result"
    }
   ],
   "source": [
    "unit_results_P[1].loc['8'][sel_algos_unit_P8].mean()"
   ]
  },
  {
   "cell_type": "code",
   "execution_count": 118,
   "id": "5a3110c0",
   "metadata": {},
   "outputs": [
    {
     "data": {
      "text/plain": [
       "FF                         2.3\n",
       "FFD-Linf-Unit              2.4\n",
       "BFD-T1-Linf-Unit           6.5\n",
       "WFD-T1-L2Load-Unit         5.3\n",
       "BC-DP1-Unit               21.6\n",
       "MB-WFD-Linf-Unit          71.3\n",
       "MB-Pairing-DP3-Unit    12607.8\n",
       "dtype: float64"
      ]
     },
     "execution_count": 118,
     "metadata": {},
     "output_type": "execute_result"
    }
   ],
   "source": [
    "unit_results_P[1].loc['8'][sel_algos_unit_P8].max()"
   ]
  },
  {
   "cell_type": "markdown",
   "id": "eab591be",
   "metadata": {},
   "source": [
    "##### For I5"
   ]
  },
  {
   "cell_type": "code",
   "execution_count": 31,
   "id": "f0733b05",
   "metadata": {},
   "outputs": [],
   "source": [
    "sel_algos_unit_I5 = create_selected_list(unit_results_I[0].loc['5'], unit_fam_dict, with_meta=False)"
   ]
  },
  {
   "cell_type": "code",
   "execution_count": 32,
   "id": "436df07b",
   "metadata": {},
   "outputs": [
    {
     "data": {
      "text/html": [
       "<div>\n",
       "<style scoped>\n",
       "    .dataframe tbody tr th:only-of-type {\n",
       "        vertical-align: middle;\n",
       "    }\n",
       "\n",
       "    .dataframe tbody tr th {\n",
       "        vertical-align: top;\n",
       "    }\n",
       "\n",
       "    .dataframe thead th {\n",
       "        text-align: right;\n",
       "    }\n",
       "</style>\n",
       "<table border=\"1\" class=\"dataframe\">\n",
       "  <thead>\n",
       "    <tr style=\"text-align: right;\">\n",
       "      <th></th>\n",
       "      <th>FF</th>\n",
       "      <th>FFD-L2-Unit</th>\n",
       "      <th>BFD-T1-L2Load-Unit</th>\n",
       "      <th>WFD-T1-L2Load-Unit</th>\n",
       "      <th>BC-DP1-Unit</th>\n",
       "      <th>MB-Pairing-DP3-Unit</th>\n",
       "      <th>MB-BFD-L2Load-Unit</th>\n",
       "    </tr>\n",
       "    <tr>\n",
       "      <th>d</th>\n",
       "      <th></th>\n",
       "      <th></th>\n",
       "      <th></th>\n",
       "      <th></th>\n",
       "      <th></th>\n",
       "      <th></th>\n",
       "      <th></th>\n",
       "    </tr>\n",
       "  </thead>\n",
       "  <tbody>\n",
       "    <tr>\n",
       "      <th>3</th>\n",
       "      <td>21.04</td>\n",
       "      <td>9.27</td>\n",
       "      <td>9.19</td>\n",
       "      <td>9.48</td>\n",
       "      <td>7.89</td>\n",
       "      <td>7.96</td>\n",
       "      <td>9.27</td>\n",
       "    </tr>\n",
       "    <tr>\n",
       "      <th>5</th>\n",
       "      <td>36.04</td>\n",
       "      <td>21.72</td>\n",
       "      <td>21.44</td>\n",
       "      <td>22.15</td>\n",
       "      <td>19.42</td>\n",
       "      <td>19.21</td>\n",
       "      <td>21.80</td>\n",
       "    </tr>\n",
       "    <tr>\n",
       "      <th>10</th>\n",
       "      <td>60.35</td>\n",
       "      <td>44.12</td>\n",
       "      <td>44.19</td>\n",
       "      <td>44.96</td>\n",
       "      <td>42.44</td>\n",
       "      <td>42.36</td>\n",
       "      <td>44.19</td>\n",
       "    </tr>\n",
       "  </tbody>\n",
       "</table>\n",
       "</div>"
      ],
      "text/plain": [
       "       FF  FFD-L2-Unit  BFD-T1-L2Load-Unit  WFD-T1-L2Load-Unit  BC-DP1-Unit  \\\n",
       "d                                                                             \n",
       "3   21.04         9.27                9.19                9.48         7.89   \n",
       "5   36.04        21.72               21.44               22.15        19.42   \n",
       "10  60.35        44.12               44.19               44.96        42.44   \n",
       "\n",
       "    MB-Pairing-DP3-Unit  MB-BFD-L2Load-Unit  \n",
       "d                                            \n",
       "3                  7.96                9.27  \n",
       "5                 19.21               21.80  \n",
       "10                42.36               44.19  "
      ]
     },
     "execution_count": 32,
     "metadata": {},
     "output_type": "execute_result"
    }
   ],
   "source": [
    "unit_results_I[0].loc['5',500][sel_algos_unit_I5]"
   ]
  },
  {
   "cell_type": "code",
   "execution_count": 129,
   "id": "60e7d52c",
   "metadata": {},
   "outputs": [
    {
     "data": {
      "text/plain": [
       "FF                     23.906667\n",
       "FFD-L2-Unit            11.620000\n",
       "BFD-T1-L2Load-Unit     11.655000\n",
       "WFD-T1-L2Load-Unit     12.241667\n",
       "BC-DP1-Unit            10.866667\n",
       "MB-BFD-L2Load-Unit     11.633333\n",
       "MB-Pairing-DP3-Unit    10.810000\n",
       "dtype: float64"
      ]
     },
     "execution_count": 129,
     "metadata": {},
     "output_type": "execute_result"
    }
   ],
   "source": [
    "unit_results_I[0].loc['5',:,5][sel_algos_unit_I5].mean()"
   ]
  },
  {
   "cell_type": "code",
   "execution_count": 130,
   "id": "5c86b92f",
   "metadata": {},
   "outputs": [
    {
     "data": {
      "text/plain": [
       "FF                     28.461667\n",
       "FFD-L2-Unit            17.171667\n",
       "BFD-T1-L2Load-Unit     17.213333\n",
       "WFD-T1-L2Load-Unit     17.583333\n",
       "BC-DP1-Unit            16.990000\n",
       "MB-BFD-L2Load-Unit     17.183333\n",
       "MB-Pairing-DP3-Unit    16.986667\n",
       "dtype: float64"
      ]
     },
     "execution_count": 130,
     "metadata": {},
     "output_type": "execute_result"
    }
   ],
   "source": [
    "unit_results_I[0].loc['5',:,10][sel_algos_unit_I5].mean()"
   ]
  },
  {
   "cell_type": "code",
   "execution_count": null,
   "id": "8886c183",
   "metadata": {},
   "outputs": [],
   "source": []
  },
  {
   "cell_type": "code",
   "execution_count": 121,
   "id": "129e5146",
   "metadata": {},
   "outputs": [
    {
     "data": {
      "text/plain": [
       "FF                        0.411111\n",
       "FFD-L2-Unit               0.594444\n",
       "BFD-T1-L2Load-Unit        1.416667\n",
       "WFD-T1-L2Load-Unit        1.172222\n",
       "BC-DP1-Unit               3.722222\n",
       "MB-BFD-L2Load-Unit       12.633333\n",
       "MB-Pairing-DP3-Unit    1820.361111\n",
       "dtype: float64"
      ]
     },
     "execution_count": 121,
     "metadata": {},
     "output_type": "execute_result"
    }
   ],
   "source": [
    "unit_results_I[1].loc['5'][sel_algos_unit_I5].mean()"
   ]
  },
  {
   "cell_type": "code",
   "execution_count": 120,
   "id": "5436a9b2",
   "metadata": {},
   "outputs": [
    {
     "data": {
      "text/plain": [
       "FF                         3.1\n",
       "FFD-L2-Unit                3.6\n",
       "BFD-T1-L2Load-Unit         8.5\n",
       "WFD-T1-L2Load-Unit         7.3\n",
       "BC-DP1-Unit               25.4\n",
       "MB-BFD-L2Load-Unit        78.9\n",
       "MB-Pairing-DP3-Unit    15547.7\n",
       "dtype: float64"
      ]
     },
     "execution_count": 120,
     "metadata": {},
     "output_type": "execute_result"
    }
   ],
   "source": [
    "unit_results_I[1].loc['5'][sel_algos_unit_I5].max()"
   ]
  },
  {
   "cell_type": "markdown",
   "id": "43486f4d",
   "metadata": {},
   "source": [
    "##### For TF"
   ]
  },
  {
   "cell_type": "code",
   "execution_count": 33,
   "id": "eb458954",
   "metadata": {},
   "outputs": [],
   "source": [
    "sel_algos_unit_TF = create_selected_list(unit_results_T[0].loc['F'], unit_fam_dict, with_meta=False)"
   ]
  },
  {
   "cell_type": "code",
   "execution_count": 35,
   "id": "72e75c16",
   "metadata": {},
   "outputs": [
    {
     "data": {
      "text/html": [
       "<div>\n",
       "<style scoped>\n",
       "    .dataframe tbody tr th:only-of-type {\n",
       "        vertical-align: middle;\n",
       "    }\n",
       "\n",
       "    .dataframe tbody tr th {\n",
       "        vertical-align: top;\n",
       "    }\n",
       "\n",
       "    .dataframe thead th {\n",
       "        text-align: right;\n",
       "    }\n",
       "</style>\n",
       "<table border=\"1\" class=\"dataframe\">\n",
       "  <thead>\n",
       "    <tr style=\"text-align: right;\">\n",
       "      <th></th>\n",
       "      <th>FF</th>\n",
       "      <th>FFD-L1-Unit</th>\n",
       "      <th>BFD-T1-L1-Unit</th>\n",
       "      <th>WFD-T1-L1-Unit</th>\n",
       "      <th>BC-DP1-Unit</th>\n",
       "      <th>MB-Pairing-DP1-Unit</th>\n",
       "      <th>MB-WFD-L1-Unit</th>\n",
       "    </tr>\n",
       "    <tr>\n",
       "      <th>d</th>\n",
       "      <th></th>\n",
       "      <th></th>\n",
       "      <th></th>\n",
       "      <th></th>\n",
       "      <th></th>\n",
       "      <th></th>\n",
       "      <th></th>\n",
       "    </tr>\n",
       "  </thead>\n",
       "  <tbody>\n",
       "    <tr>\n",
       "      <th>3</th>\n",
       "      <td>16.68</td>\n",
       "      <td>16.62</td>\n",
       "      <td>16.62</td>\n",
       "      <td>16.62</td>\n",
       "      <td>16.62</td>\n",
       "      <td>8.94</td>\n",
       "      <td>16.32</td>\n",
       "    </tr>\n",
       "    <tr>\n",
       "      <th>5</th>\n",
       "      <td>19.02</td>\n",
       "      <td>16.80</td>\n",
       "      <td>16.80</td>\n",
       "      <td>16.80</td>\n",
       "      <td>16.80</td>\n",
       "      <td>14.82</td>\n",
       "      <td>16.80</td>\n",
       "    </tr>\n",
       "    <tr>\n",
       "      <th>10</th>\n",
       "      <td>22.38</td>\n",
       "      <td>16.80</td>\n",
       "      <td>16.80</td>\n",
       "      <td>16.80</td>\n",
       "      <td>16.80</td>\n",
       "      <td>22.38</td>\n",
       "      <td>16.80</td>\n",
       "    </tr>\n",
       "  </tbody>\n",
       "</table>\n",
       "</div>"
      ],
      "text/plain": [
       "       FF  FFD-L1-Unit  BFD-T1-L1-Unit  WFD-T1-L1-Unit  BC-DP1-Unit  \\\n",
       "d                                                                     \n",
       "3   16.68        16.62           16.62           16.62        16.62   \n",
       "5   19.02        16.80           16.80           16.80        16.80   \n",
       "10  22.38        16.80           16.80           16.80        16.80   \n",
       "\n",
       "    MB-Pairing-DP1-Unit  MB-WFD-L1-Unit  \n",
       "d                                        \n",
       "3                  8.94           16.32  \n",
       "5                 14.82           16.80  \n",
       "10                22.38           16.80  "
      ]
     },
     "execution_count": 35,
     "metadata": {},
     "output_type": "execute_result"
    }
   ],
   "source": [
    "unit_results_T[0].loc['F',501][sel_algos_unit_TF]"
   ]
  },
  {
   "cell_type": "code",
   "execution_count": 134,
   "id": "ca04b04e",
   "metadata": {},
   "outputs": [
    {
     "data": {
      "text/plain": [
       "FF                     19.8400\n",
       "FFD-L1-Unit            17.8000\n",
       "BFD-T1-L1-Unit         17.8000\n",
       "WFD-T1-L1-Unit         17.8000\n",
       "BC-DP1-Unit            17.8000\n",
       "MB-WFD-L1-Unit         17.8000\n",
       "MB-Pairing-DP1-Unit    18.0225\n",
       "dtype: float64"
      ]
     },
     "execution_count": 134,
     "metadata": {},
     "output_type": "execute_result"
    }
   ],
   "source": [
    "unit_results_T[0].loc['F',:,5][sel_algos_unit_TF].mean()"
   ]
  },
  {
   "cell_type": "code",
   "execution_count": 135,
   "id": "d6bf7330",
   "metadata": {},
   "outputs": [
    {
     "data": {
      "text/plain": [
       "FF                     22.46\n",
       "FFD-L1-Unit            17.80\n",
       "BFD-T1-L1-Unit         17.80\n",
       "WFD-T1-L1-Unit         17.80\n",
       "BC-DP1-Unit            17.80\n",
       "MB-WFD-L1-Unit         17.80\n",
       "MB-Pairing-DP1-Unit    22.46\n",
       "dtype: float64"
      ]
     },
     "execution_count": 135,
     "metadata": {},
     "output_type": "execute_result"
    }
   ],
   "source": [
    "unit_results_T[0].loc['F',:,10][sel_algos_unit_TF].mean()"
   ]
  },
  {
   "cell_type": "code",
   "execution_count": 123,
   "id": "74105013",
   "metadata": {},
   "outputs": [
    {
     "data": {
      "text/plain": [
       "FF                        0.416667\n",
       "FFD-L1-Unit               0.475000\n",
       "BFD-T1-L1-Unit            1.608333\n",
       "WFD-T1-L1-Unit            0.933333\n",
       "BC-DP1-Unit               7.575000\n",
       "MB-WFD-L1-Unit           14.966667\n",
       "MB-Pairing-DP1-Unit    1827.658333\n",
       "dtype: float64"
      ]
     },
     "execution_count": 123,
     "metadata": {},
     "output_type": "execute_result"
    }
   ],
   "source": [
    "unit_results_T[1].loc['F'][sel_algos_unit_TF].mean()"
   ]
  },
  {
   "cell_type": "code",
   "execution_count": 124,
   "id": "2c995124",
   "metadata": {},
   "outputs": [
    {
     "data": {
      "text/plain": [
       "FF                        2.0\n",
       "FFD-L1-Unit               2.1\n",
       "BFD-T1-L1-Unit            5.9\n",
       "WFD-T1-L1-Unit            3.0\n",
       "BC-DP1-Unit              36.3\n",
       "MB-WFD-L1-Unit           58.2\n",
       "MB-Pairing-DP1-Unit    9633.2\n",
       "dtype: float64"
      ]
     },
     "execution_count": 124,
     "metadata": {},
     "output_type": "execute_result"
    }
   ],
   "source": [
    "unit_results_T[1].loc['F'][sel_algos_unit_TF].max()"
   ]
  },
  {
   "cell_type": "markdown",
   "id": "52f59152",
   "metadata": {},
   "source": [
    "## Plot for each class - Average with n=500"
   ]
  },
  {
   "cell_type": "code",
   "execution_count": null,
   "id": "f9256165",
   "metadata": {},
   "outputs": [],
   "source": [
    "for c in range(1,10):\n",
    "    fname = proj_path / f\"plots/all_classes/unit_n500_P{c}.pdf\"\n",
    "    plot_summary_family(unit_results_P[1].loc[str(c), 500], unit_results_P[0].loc[str(c), 500], alg_names_unit,\n",
    "            f\"Panigrahy class {c}\", \"Average running time (ms) - log scale\", \"Average % error\",\n",
    "            log_scale=True, filename=fname,\n",
    "            bbox_anchor_y=-0.12)"
   ]
  },
  {
   "cell_type": "code",
   "execution_count": null,
   "id": "1e029764",
   "metadata": {},
   "outputs": [],
   "source": [
    "for c in range(1,7):\n",
    "    fname = proj_path / f\"plots/all_classes/unit_n500_I{c}.pdf\"\n",
    "    plot_summary_family(unit_results_I[1].loc[str(c), 500], unit_results_I[0].loc[str(c), 500], alg_names_unit,\n",
    "            f\"New class {c}\", \"Average running time (ms) - log scale\", \"Average % error\",\n",
    "            log_scale=True, filename=fname,\n",
    "            simplify_dict=False,\n",
    "            bbox_anchor_y=-0.12)"
   ]
  },
  {
   "cell_type": "code",
   "execution_count": null,
   "id": "681acdef",
   "metadata": {},
   "outputs": [],
   "source": [
    "for c in [\"C\", \"F\"]:\n",
    "    fname = proj_path / f\"plots/all_classes/unit_n501_T{c}.pdf\"\n",
    "    plot_summary_family(unit_results_T[1].loc[str(c), 501], unit_results_T[0].loc[str(c), 501], alg_names_unit,\n",
    "            f\"Triplet class {c}\", \"Average running time (ms) - log scale\", \"Average % error\",\n",
    "            log_scale=True, filename=fname,\n",
    "            simplify_dict=False,\n",
    "            bbox_anchor_y=-0.12)"
   ]
  },
  {
   "cell_type": "markdown",
   "id": "ce07e0fc",
   "metadata": {},
   "source": [
    "## Plot selected classes only - big average and n=500\n",
    "### Class P5"
   ]
  },
  {
   "cell_type": "code",
   "execution_count": null,
   "id": "6a2b2c25",
   "metadata": {},
   "outputs": [],
   "source": [
    "idxP5 = unit_results_P[0].loc[\"5\"][alg_names_unit].mean().sort_values().head(15).index"
   ]
  },
  {
   "cell_type": "code",
   "execution_count": null,
   "id": "d615a58f",
   "metadata": {},
   "outputs": [],
   "source": [
    "unit_results_P[0].loc[\"5\"][idxP5].mean()"
   ]
  },
  {
   "cell_type": "code",
   "execution_count": null,
   "id": "b5c8b69b",
   "metadata": {},
   "outputs": [],
   "source": [
    "unit_results_P[1].loc[\"5\",500,:][idxP5].describe()"
   ]
  },
  {
   "cell_type": "code",
   "execution_count": null,
   "id": "67775d2a",
   "metadata": {},
   "outputs": [],
   "source": [
    "alg_unit_P5 = alg_names_unit.copy()\n",
    "alg_unit_P5.remove('BC-TFSum-Unit') # Removed because greatly outperformed by all others\n",
    "fname = proj_path / \"plots/algos_unit_P5.pdf\"\n",
    "plot_summary_family(unit_results_P[1].loc[\"5\",500], unit_results_P[0].loc[\"5\",500], alg_unit_P5,\n",
    "            \"\", \"Average running time (ms) - log scale\", \"Average % error\",\n",
    "            log_scale=True, filename=fname,\n",
    "            bbox_anchor=(0.3, 0.12), ncols=2)"
   ]
  },
  {
   "cell_type": "markdown",
   "id": "c8cd5bb1",
   "metadata": {},
   "source": [
    "### Class P8"
   ]
  },
  {
   "cell_type": "code",
   "execution_count": 87,
   "id": "00565a66",
   "metadata": {},
   "outputs": [],
   "source": [
    "idxP8 = unit_results_P[0].loc[\"8\",500][alg_names_unit].mean().sort_values().head(15).index"
   ]
  },
  {
   "cell_type": "code",
   "execution_count": 88,
   "id": "2120eae2",
   "metadata": {
    "collapsed": true
   },
   "outputs": [
    {
     "data": {
      "text/plain": [
       "FFD-Linf-Unit          0.000000\n",
       "BFD-T1-Linf-Unit       0.000000\n",
       "MB-WFD-Linf-Unit       0.000000\n",
       "WFD-T1-Linf-Unit       0.013333\n",
       "WFD-T1-L2-Unit         0.053333\n",
       "FFD-L2-Unit            0.066667\n",
       "BFD-T1-L2-Unit         0.066667\n",
       "BFD-T1-L2Load-Unit     0.066667\n",
       "MB-BFD-L2Load-Unit     0.066667\n",
       "WFD-T1-L2Load-Unit     0.066667\n",
       "MB-WFD-L2-Unit         0.066667\n",
       "MB-WFD-L1-Unit         0.760000\n",
       "MB-Pairing-DP3-Unit    0.800000\n",
       "BC-DP1-Unit            0.840000\n",
       "FFD-L1-Unit            0.866667\n",
       "dtype: float64"
      ]
     },
     "execution_count": 88,
     "metadata": {},
     "output_type": "execute_result"
    }
   ],
   "source": [
    "unit_results_P[0].loc[\"8\",500][idxP8].mean()"
   ]
  },
  {
   "cell_type": "code",
   "execution_count": 91,
   "id": "5443b56a",
   "metadata": {
    "collapsed": true
   },
   "outputs": [
    {
     "data": {
      "text/html": [
       "<div>\n",
       "<style scoped>\n",
       "    .dataframe tbody tr th:only-of-type {\n",
       "        vertical-align: middle;\n",
       "    }\n",
       "\n",
       "    .dataframe tbody tr th {\n",
       "        vertical-align: top;\n",
       "    }\n",
       "\n",
       "    .dataframe thead th {\n",
       "        text-align: right;\n",
       "    }\n",
       "</style>\n",
       "<table border=\"1\" class=\"dataframe\">\n",
       "  <thead>\n",
       "    <tr style=\"text-align: right;\">\n",
       "      <th></th>\n",
       "      <th>FFD-Linf-Unit</th>\n",
       "      <th>BFD-T1-Linf-Unit</th>\n",
       "      <th>MB-WFD-Linf-Unit</th>\n",
       "      <th>WFD-T1-Linf-Unit</th>\n",
       "      <th>WFD-T1-L2-Unit</th>\n",
       "      <th>FFD-L2-Unit</th>\n",
       "      <th>BFD-T1-L2-Unit</th>\n",
       "      <th>BFD-T1-L2Load-Unit</th>\n",
       "      <th>MB-BFD-L2Load-Unit</th>\n",
       "      <th>WFD-T1-L2Load-Unit</th>\n",
       "      <th>MB-WFD-L2-Unit</th>\n",
       "      <th>MB-WFD-L1-Unit</th>\n",
       "      <th>MB-Pairing-DP3-Unit</th>\n",
       "      <th>BC-DP1-Unit</th>\n",
       "      <th>FFD-L1-Unit</th>\n",
       "    </tr>\n",
       "  </thead>\n",
       "  <tbody>\n",
       "    <tr>\n",
       "      <th>count</th>\n",
       "      <td>3.00</td>\n",
       "      <td>3.000000</td>\n",
       "      <td>3.000000</td>\n",
       "      <td>3.000000</td>\n",
       "      <td>3.000000</td>\n",
       "      <td>3.000000</td>\n",
       "      <td>3.000000</td>\n",
       "      <td>3.000000</td>\n",
       "      <td>3.000000</td>\n",
       "      <td>3.000000</td>\n",
       "      <td>3.000000</td>\n",
       "      <td>3.000000</td>\n",
       "      <td>3.000000</td>\n",
       "      <td>3.000000</td>\n",
       "      <td>3.000000</td>\n",
       "    </tr>\n",
       "    <tr>\n",
       "      <th>mean</th>\n",
       "      <td>2.30</td>\n",
       "      <td>6.133333</td>\n",
       "      <td>65.666667</td>\n",
       "      <td>3.733333</td>\n",
       "      <td>4.133333</td>\n",
       "      <td>2.333333</td>\n",
       "      <td>6.366667</td>\n",
       "      <td>6.333333</td>\n",
       "      <td>59.866667</td>\n",
       "      <td>5.166667</td>\n",
       "      <td>68.800000</td>\n",
       "      <td>57.466667</td>\n",
       "      <td>9177.833333</td>\n",
       "      <td>15.266667</td>\n",
       "      <td>2.533333</td>\n",
       "    </tr>\n",
       "    <tr>\n",
       "      <th>std</th>\n",
       "      <td>0.10</td>\n",
       "      <td>0.321455</td>\n",
       "      <td>4.921721</td>\n",
       "      <td>0.550757</td>\n",
       "      <td>0.057735</td>\n",
       "      <td>0.057735</td>\n",
       "      <td>0.230940</td>\n",
       "      <td>0.208167</td>\n",
       "      <td>4.200397</td>\n",
       "      <td>0.115470</td>\n",
       "      <td>5.692978</td>\n",
       "      <td>4.536886</td>\n",
       "      <td>2978.445327</td>\n",
       "      <td>5.686241</td>\n",
       "      <td>0.057735</td>\n",
       "    </tr>\n",
       "    <tr>\n",
       "      <th>min</th>\n",
       "      <td>2.20</td>\n",
       "      <td>5.900000</td>\n",
       "      <td>62.200000</td>\n",
       "      <td>3.200000</td>\n",
       "      <td>4.100000</td>\n",
       "      <td>2.300000</td>\n",
       "      <td>6.100000</td>\n",
       "      <td>6.100000</td>\n",
       "      <td>57.100000</td>\n",
       "      <td>5.100000</td>\n",
       "      <td>64.700000</td>\n",
       "      <td>52.300000</td>\n",
       "      <td>7244.600000</td>\n",
       "      <td>10.600000</td>\n",
       "      <td>2.500000</td>\n",
       "    </tr>\n",
       "    <tr>\n",
       "      <th>25%</th>\n",
       "      <td>2.25</td>\n",
       "      <td>5.950000</td>\n",
       "      <td>62.850000</td>\n",
       "      <td>3.450000</td>\n",
       "      <td>4.100000</td>\n",
       "      <td>2.300000</td>\n",
       "      <td>6.300000</td>\n",
       "      <td>6.250000</td>\n",
       "      <td>57.450000</td>\n",
       "      <td>5.100000</td>\n",
       "      <td>65.550000</td>\n",
       "      <td>55.800000</td>\n",
       "      <td>7462.850000</td>\n",
       "      <td>12.100000</td>\n",
       "      <td>2.500000</td>\n",
       "    </tr>\n",
       "    <tr>\n",
       "      <th>50%</th>\n",
       "      <td>2.30</td>\n",
       "      <td>6.000000</td>\n",
       "      <td>63.500000</td>\n",
       "      <td>3.700000</td>\n",
       "      <td>4.100000</td>\n",
       "      <td>2.300000</td>\n",
       "      <td>6.500000</td>\n",
       "      <td>6.400000</td>\n",
       "      <td>57.800000</td>\n",
       "      <td>5.100000</td>\n",
       "      <td>66.400000</td>\n",
       "      <td>59.300000</td>\n",
       "      <td>7681.100000</td>\n",
       "      <td>13.600000</td>\n",
       "      <td>2.500000</td>\n",
       "    </tr>\n",
       "    <tr>\n",
       "      <th>75%</th>\n",
       "      <td>2.35</td>\n",
       "      <td>6.250000</td>\n",
       "      <td>67.400000</td>\n",
       "      <td>4.000000</td>\n",
       "      <td>4.150000</td>\n",
       "      <td>2.350000</td>\n",
       "      <td>6.500000</td>\n",
       "      <td>6.450000</td>\n",
       "      <td>61.250000</td>\n",
       "      <td>5.200000</td>\n",
       "      <td>70.850000</td>\n",
       "      <td>60.050000</td>\n",
       "      <td>10144.450000</td>\n",
       "      <td>17.600000</td>\n",
       "      <td>2.550000</td>\n",
       "    </tr>\n",
       "    <tr>\n",
       "      <th>max</th>\n",
       "      <td>2.40</td>\n",
       "      <td>6.500000</td>\n",
       "      <td>71.300000</td>\n",
       "      <td>4.300000</td>\n",
       "      <td>4.200000</td>\n",
       "      <td>2.400000</td>\n",
       "      <td>6.500000</td>\n",
       "      <td>6.500000</td>\n",
       "      <td>64.700000</td>\n",
       "      <td>5.300000</td>\n",
       "      <td>75.300000</td>\n",
       "      <td>60.800000</td>\n",
       "      <td>12607.800000</td>\n",
       "      <td>21.600000</td>\n",
       "      <td>2.600000</td>\n",
       "    </tr>\n",
       "  </tbody>\n",
       "</table>\n",
       "</div>"
      ],
      "text/plain": [
       "       FFD-Linf-Unit  BFD-T1-Linf-Unit  MB-WFD-Linf-Unit  WFD-T1-Linf-Unit  \\\n",
       "count           3.00          3.000000          3.000000          3.000000   \n",
       "mean            2.30          6.133333         65.666667          3.733333   \n",
       "std             0.10          0.321455          4.921721          0.550757   \n",
       "min             2.20          5.900000         62.200000          3.200000   \n",
       "25%             2.25          5.950000         62.850000          3.450000   \n",
       "50%             2.30          6.000000         63.500000          3.700000   \n",
       "75%             2.35          6.250000         67.400000          4.000000   \n",
       "max             2.40          6.500000         71.300000          4.300000   \n",
       "\n",
       "       WFD-T1-L2-Unit  FFD-L2-Unit  BFD-T1-L2-Unit  BFD-T1-L2Load-Unit  \\\n",
       "count        3.000000     3.000000        3.000000            3.000000   \n",
       "mean         4.133333     2.333333        6.366667            6.333333   \n",
       "std          0.057735     0.057735        0.230940            0.208167   \n",
       "min          4.100000     2.300000        6.100000            6.100000   \n",
       "25%          4.100000     2.300000        6.300000            6.250000   \n",
       "50%          4.100000     2.300000        6.500000            6.400000   \n",
       "75%          4.150000     2.350000        6.500000            6.450000   \n",
       "max          4.200000     2.400000        6.500000            6.500000   \n",
       "\n",
       "       MB-BFD-L2Load-Unit  WFD-T1-L2Load-Unit  MB-WFD-L2-Unit  MB-WFD-L1-Unit  \\\n",
       "count            3.000000            3.000000        3.000000        3.000000   \n",
       "mean            59.866667            5.166667       68.800000       57.466667   \n",
       "std              4.200397            0.115470        5.692978        4.536886   \n",
       "min             57.100000            5.100000       64.700000       52.300000   \n",
       "25%             57.450000            5.100000       65.550000       55.800000   \n",
       "50%             57.800000            5.100000       66.400000       59.300000   \n",
       "75%             61.250000            5.200000       70.850000       60.050000   \n",
       "max             64.700000            5.300000       75.300000       60.800000   \n",
       "\n",
       "       MB-Pairing-DP3-Unit  BC-DP1-Unit  FFD-L1-Unit  \n",
       "count             3.000000     3.000000     3.000000  \n",
       "mean           9177.833333    15.266667     2.533333  \n",
       "std            2978.445327     5.686241     0.057735  \n",
       "min            7244.600000    10.600000     2.500000  \n",
       "25%            7462.850000    12.100000     2.500000  \n",
       "50%            7681.100000    13.600000     2.500000  \n",
       "75%           10144.450000    17.600000     2.550000  \n",
       "max           12607.800000    21.600000     2.600000  "
      ]
     },
     "execution_count": 91,
     "metadata": {},
     "output_type": "execute_result"
    }
   ],
   "source": [
    "unit_results_P[1].loc[\"8\",500][idxP8].describe()"
   ]
  },
  {
   "cell_type": "code",
   "execution_count": null,
   "id": "2e2c28f7",
   "metadata": {},
   "outputs": [],
   "source": [
    "fname = proj_path / \"plots/algos_unit_P8.pdf\"\n",
    "plot_summary_family(unit_results_P[1].loc[\"8\",500], unit_results_P[0].loc[\"8\",500], alg_names_unit,\n",
    "            \"\", \"Average running time (ms) - log scale\", \"Average % error\",\n",
    "            log_scale=True, filename=fname,\n",
    "            bbox_anchor=(0.64, 0.64), ncols=3)\n",
    "####### legend VOLUNTARILY out of bound here BUT correctly placed in the output PDF"
   ]
  },
  {
   "cell_type": "markdown",
   "id": "31521193",
   "metadata": {},
   "source": [
    "### Class I5"
   ]
  },
  {
   "cell_type": "code",
   "execution_count": null,
   "id": "b8e3948b",
   "metadata": {},
   "outputs": [],
   "source": [
    "idxI5 = unit_results_I[0].loc[\"5\"][alg_names_unit].mean().sort_values().head(15).index"
   ]
  },
  {
   "cell_type": "code",
   "execution_count": null,
   "id": "12d8f5ec",
   "metadata": {},
   "outputs": [],
   "source": [
    "unit_results_I[0].loc[\"5\"][idxI5].mean()"
   ]
  },
  {
   "cell_type": "code",
   "execution_count": null,
   "id": "2cdfce7c",
   "metadata": {},
   "outputs": [],
   "source": [
    "unit_results_I[1].loc[\"5\",500,:][idxI5].describe()"
   ]
  },
  {
   "cell_type": "code",
   "execution_count": null,
   "id": "df578903",
   "metadata": {},
   "outputs": [],
   "source": [
    "fname = proj_path / \"plots/algos_unit_I5.pdf\"\n",
    "plot_summary_family(unit_results_I[1].loc[\"5\"], unit_results_I[0].loc[\"5\"], alg_names_unit,\n",
    "            \"\", \"Average running time (ms) - log scale\", \"Average % error\",\n",
    "            log_scale=True, filename=fname,\n",
    "            bbox_anchor=(0.58, 0.54), ncols=2)\n",
    "           ####### legend VOLUNTARILY out of bound here BUT correctly placed in the output PDF"
   ]
  },
  {
   "cell_type": "markdown",
   "id": "e147418f",
   "metadata": {},
   "source": [
    "### Class TF"
   ]
  },
  {
   "cell_type": "code",
   "execution_count": null,
   "id": "23663c4c",
   "metadata": {},
   "outputs": [],
   "source": [
    "idxTF = unit_results_T[0].loc[\"F\"][alg_names_unit].mean().sort_values().head(15).index"
   ]
  },
  {
   "cell_type": "code",
   "execution_count": null,
   "id": "87467a10",
   "metadata": {},
   "outputs": [],
   "source": [
    "unit_results_T[0].loc[\"F\"][idxTF].mean()"
   ]
  },
  {
   "cell_type": "code",
   "execution_count": null,
   "id": "9f399d64",
   "metadata": {},
   "outputs": [],
   "source": [
    "unit_results_T[1].loc[\"F\",501,:][idxTF].describe()"
   ]
  },
  {
   "cell_type": "code",
   "execution_count": null,
   "id": "49f78a1e",
   "metadata": {},
   "outputs": [],
   "source": [
    "fname = proj_path / \"plots/algos_unit_TF.pdf\"\n",
    "plot_summary_family(unit_results_T[1].loc[\"F\"], unit_results_T[0].loc[\"F\"], alg_names_unit,\n",
    "            \"\", \"Average running time (ms) - log scale\", \"Average % error\",\n",
    "            log_scale=True, filename=fname,\n",
    "            bbox_anchor=(0.64, 0.64), ncols=3)\n",
    "####### legend VOLUNTARILY out of bound here BUT correctly placed in the output PDF"
   ]
  },
  {
   "cell_type": "code",
   "execution_count": null,
   "id": "e8390cdf",
   "metadata": {},
   "outputs": [],
   "source": []
  },
  {
   "cell_type": "markdown",
   "id": "97c91c35",
   "metadata": {},
   "source": [
    "### Count avg items per bin in a class"
   ]
  },
  {
   "cell_type": "code",
   "execution_count": null,
   "id": "3d78cbff",
   "metadata": {},
   "outputs": [],
   "source": [
    "P5 = df_P[df_P['class'] == '5'].index\n",
    "(df_P.iloc[P5]['n'] / df_P.iloc[P5]['LB_or_OPT']).describe()"
   ]
  },
  {
   "cell_type": "code",
   "execution_count": null,
   "id": "c8b6d6fa",
   "metadata": {},
   "outputs": [],
   "source": [
    "P8 = df_P[df_P['class'] == '8'].index\n",
    "(df_P.iloc[P8]['n'] / df_P.iloc[P8]['LB_or_OPT']).describe()"
   ]
  },
  {
   "cell_type": "code",
   "execution_count": null,
   "id": "1ab812ff",
   "metadata": {},
   "outputs": [],
   "source": [
    "I5 = df_I[df_I['class'] == '5'].index\n",
    "(df_I.iloc[I5]['n'] / df_I.iloc[I5]['LB_or_OPT']).describe()"
   ]
  },
  {
   "cell_type": "code",
   "execution_count": null,
   "id": "bee53165",
   "metadata": {},
   "outputs": [],
   "source": []
  },
  {
   "cell_type": "markdown",
   "id": "390fdd29",
   "metadata": {},
   "source": [
    "## Compare two algorithms together"
   ]
  },
  {
   "cell_type": "code",
   "execution_count": null,
   "id": "61449f3a",
   "metadata": {},
   "outputs": [],
   "source": [
    "def my_sup(x):\n",
    "    return x[x > 0].count()\n",
    "\n",
    "def my_eq(x):\n",
    "    return x[x == 0].count()\n",
    "\n",
    "def my_low(x):\n",
    "    return x[x < 0].count()\n",
    "\n",
    "def make_diff(df, list1, list2):\n",
    "    a = df[list1]\n",
    "    b = df[list2]\n",
    "    b.columns = a.columns\n",
    "    df_diff = (a - b).agg(['mean', 'std', my_sup, my_eq, my_low])\n",
    "    return df_diff\n",
    "\n",
    "def make_all_diff(list1, list2):\n",
    "    diff_P = make_diff(big_df_P, list1, list2)\n",
    "    diff_I = make_diff(big_df_I, list1, list2)\n",
    "    diff_T = make_diff(big_df_T, list1, list2)\n",
    "    diff_df = pd.concat([diff_P, diff_I, diff_T], axis=1)\n",
    "    diff_df.columns = [\"diff_P\", \"diff_I\", \"diff_T\"]\n",
    "    return diff_df\n",
    "\n",
    "# When comparing algo A with algo B\n",
    "# Mean is negative when algo A is better than B\n",
    "# my_sup counts when sol of A is worse than B\n",
    "# my_low counts when sol of A is better than B"
   ]
  },
  {
   "cell_type": "code",
   "execution_count": null,
   "id": "c0978de3",
   "metadata": {},
   "outputs": [],
   "source": [
    "df_diff = make_all_diff([\"FFD-SumSq-Unit\"], [\"BFD-T1-SumSq-Unit\"])\n",
    "df_diff"
   ]
  },
  {
   "cell_type": "code",
   "execution_count": null,
   "id": "77c7de22",
   "metadata": {},
   "outputs": [],
   "source": [
    "df_diff = make_all_diff([\"FFD-SumSq-Unit\"], [\"WFD-T1-SumSqLoad-Unit\"])\n",
    "df_diff"
   ]
  },
  {
   "cell_type": "code",
   "execution_count": null,
   "id": "32748b77",
   "metadata": {},
   "outputs": [],
   "source": [
    "df_diff = make_all_diff([\"FFD-SumSq-Unit\"], [\"BCS-DP1-Unit\"])\n",
    "df_diff"
   ]
  },
  {
   "cell_type": "code",
   "execution_count": null,
   "id": "3e2bf938",
   "metadata": {},
   "outputs": [],
   "source": [
    "df_diff = make_all_diff([\"FFD-SumSq-Unit\"], [\"BIM-BS-DP3-Unit\"])\n",
    "df_diff"
   ]
  },
  {
   "cell_type": "code",
   "execution_count": null,
   "id": "da8fb99c",
   "metadata": {},
   "outputs": [],
   "source": [
    "df_diff = make_all_diff([\"BCS-DP1-Unit\"], [\"BIM-BS-DP3-Unit\"])\n",
    "df_diff"
   ]
  },
  {
   "cell_type": "code",
   "execution_count": null,
   "id": "cedcb2e3",
   "metadata": {},
   "outputs": [],
   "source": [
    "df_diff = make_all_diff([\"BCS-DP1-Unit\"], [\"BCS-NormDP-Unit\"])\n",
    "df_diff"
   ]
  },
  {
   "cell_type": "code",
   "execution_count": null,
   "id": "4ab9d3a1",
   "metadata": {},
   "outputs": [],
   "source": [
    "# Find instances with identical result for the 4 algos\n",
    "ddf = big_df_P\n",
    "x = ddf[ddf[\"BCS-DP1-Unit\"] == ddf[\"BIM-BS-DP3-Unit\"]].index\n",
    "y = ddf.loc[x][ddf[\"FFD-SumSq-Unit\"].loc[x] == ddf[\"WFD-T1-SumSqLoad-Unit\"].loc[x]].index\n",
    "z = ddf.loc[y][ddf[\"FFD-SumSq-Unit\"].loc[y] == ddf[\"BCS-DP1-Unit\"].loc[y]]\n",
    "z[[\"class\", \"n\", \"d\", \"FFD-SumSq-Unit\", \"WFD-T1-SumSqLoad-Unit\", \"BCS-DP1-Unit\", \"BIM-BS-DP3-Unit\"]]"
   ]
  },
  {
   "cell_type": "code",
   "execution_count": null,
   "id": "d182ea3b",
   "metadata": {},
   "outputs": [],
   "source": [
    "# Find how many of these instances per class\n",
    "aa = z[[\"class\", \"n\", \"d\", \"FFD-SumSq-Unit\"]].groupby(by=[\"class\", \"n\", \"d\"], as_index=True).count()"
   ]
  },
  {
   "cell_type": "code",
   "execution_count": null,
   "id": "3c35b358",
   "metadata": {},
   "outputs": [],
   "source": [
    "for c in range(1,10):\n",
    "    print(\"class\", c)\n",
    "    print(aa.loc[str(c)].sum())"
   ]
  },
  {
   "cell_type": "code",
   "execution_count": null,
   "id": "e0933f73",
   "metadata": {},
   "outputs": [],
   "source": []
  },
  {
   "cell_type": "code",
   "execution_count": null,
   "id": "c1855503",
   "metadata": {},
   "outputs": [],
   "source": []
  },
  {
   "cell_type": "markdown",
   "id": "8b0f53b9",
   "metadata": {},
   "source": [
    "## Check optimal solution found"
   ]
  },
  {
   "cell_type": "code",
   "execution_count": 74,
   "id": "dea95f29",
   "metadata": {},
   "outputs": [],
   "source": [
    "def print_optimal_found(df, benchmark_name, algo_names, full=False):\n",
    "    if benchmark_name == \"P\":\n",
    "        l = range(1,10)\n",
    "    elif benchmark_name == \"I\":\n",
    "        l = range(1,7)\n",
    "    else: # \"T\"\n",
    "        l = [\"C\", \"F\"]\n",
    "        \n",
    "    sum1 = 0\n",
    "    sum2 = 0\n",
    "        \n",
    "    for c in l:\n",
    "        sub_df = df[df['class'] == str(c)]\n",
    "        best_sol = sub_df[algo_names].min(axis=1)\n",
    "        proved_opt = (sub_df[\"LB\"] == best_sol).sum()\n",
    "        found_opt = (sub_df[\"LB_or_OPT\"] == best_sol).sum()\n",
    "        sum1+=proved_opt\n",
    "        sum2+=found_opt\n",
    "        \n",
    "        if full:\n",
    "            print(f\"Class {c}: {proved_opt} proved optimality (sol = LB) over {sub_df.shape[0]} instances\")\n",
    "            print(f\"\\t {found_opt} optimal solution found\")\n",
    "    \n",
    "    print(f\"Total: {sum1} proved optimality over {df.shape[0]} instances\")\n",
    "    print(f\"Total: {sum2} optimal found over {df.shape[0]} instances\")"
   ]
  },
  {
   "cell_type": "code",
   "execution_count": 75,
   "id": "ea670b5f",
   "metadata": {},
   "outputs": [],
   "source": [
    "centric_unit = [x for x in alg_names_unit if not \"MB-\" in x]"
   ]
  },
  {
   "cell_type": "code",
   "execution_count": 76,
   "id": "5db24fe2",
   "metadata": {},
   "outputs": [
    {
     "name": "stdout",
     "output_type": "stream",
     "text": [
      "--- For Panigrahy instances ---\n",
      "Total: 597 proved optimality over 1620 instances\n",
      "Total: 889 optimal found over 1620 instances\n",
      "\n",
      "--- For New instances ---\n",
      "Total: 84 proved optimality over 1080 instances\n",
      "Total: 197 optimal found over 1080 instances\n",
      "\n",
      "--- For Triplet instances ---\n",
      "Total: 0 proved optimality over 240 instances\n",
      "Total: 0 optimal found over 240 instances\n"
     ]
    }
   ],
   "source": [
    "# With only the iten-centric and bin-centric algos with Unit weights\n",
    "print(\"--- For Panigrahy instances ---\")\n",
    "print_optimal_found(df_P, \"P\", centric_unit)\n",
    "print(\"\\n--- For New instances ---\")\n",
    "print_optimal_found(df_I, \"I\", centric_unit)\n",
    "print(\"\\n--- For Triplet instances ---\")\n",
    "print_optimal_found(df_T, \"T\", centric_unit)"
   ]
  },
  {
   "cell_type": "code",
   "execution_count": 77,
   "id": "27f2df27",
   "metadata": {},
   "outputs": [
    {
     "name": "stdout",
     "output_type": "stream",
     "text": [
      "--- For Panigrahy instances ---\n",
      "Total: 601 proved optimality over 1620 instances\n",
      "Total: 893 optimal found over 1620 instances\n",
      "\n",
      "--- For New instances ---\n",
      "Total: 87 proved optimality over 1080 instances\n",
      "Total: 200 optimal found over 1080 instances\n",
      "\n",
      "--- For Triplet instances ---\n",
      "Total: 0 proved optimality over 240 instances\n",
      "Total: 0 optimal found over 240 instances\n"
     ]
    }
   ],
   "source": [
    "# With all algos with Unit weights\n",
    "print(\"--- For Panigrahy instances ---\")\n",
    "print_optimal_found(df_P, \"P\", alg_names_unit)\n",
    "print(\"\\n--- For New instances ---\")\n",
    "print_optimal_found(df_I, \"I\", alg_names_unit)\n",
    "print(\"\\n--- For Triplet instances ---\")\n",
    "print_optimal_found(df_T, \"T\", alg_names_unit)"
   ]
  },
  {
   "cell_type": "code",
   "execution_count": 78,
   "id": "e3178662",
   "metadata": {},
   "outputs": [
    {
     "name": "stdout",
     "output_type": "stream",
     "text": [
      "275\n"
     ]
    }
   ],
   "source": [
    "centric_all = [x for x in all_algos if not \"MB-\" in x]\n",
    "print(len(centric_all))"
   ]
  },
  {
   "cell_type": "code",
   "execution_count": 79,
   "id": "442ecadc",
   "metadata": {},
   "outputs": [
    {
     "name": "stdout",
     "output_type": "stream",
     "text": [
      "--- For Panigrahy instances ---\n",
      "Total: 637 proved optimality over 1620 instances\n",
      "Total: 985 optimal found over 1620 instances\n",
      "\n",
      "--- For New instances ---\n",
      "Total: 113 proved optimality over 1080 instances\n",
      "Total: 257 optimal found over 1080 instances\n",
      "\n",
      "--- For Triplet instances ---\n",
      "Total: 0 proved optimality over 240 instances\n",
      "Total: 0 optimal found over 240 instances\n"
     ]
    }
   ],
   "source": [
    "# With only item-centric and bin-centric algos with all weights\n",
    "print(\"--- For Panigrahy instances ---\")\n",
    "print_optimal_found(df_P, \"P\", centric_all)\n",
    "print(\"\\n--- For New instances ---\")\n",
    "print_optimal_found(df_I, \"I\", centric_all)\n",
    "print(\"\\n--- For Triplet instances ---\")\n",
    "print_optimal_found(df_T, \"T\", centric_all)"
   ]
  },
  {
   "cell_type": "code",
   "execution_count": 80,
   "id": "0c1088d1",
   "metadata": {},
   "outputs": [
    {
     "name": "stdout",
     "output_type": "stream",
     "text": [
      "--- For Panigrahy instances ---\n",
      "Total: 643 proved optimality over 1620 instances\n",
      "Total: 992 optimal found over 1620 instances\n",
      "\n",
      "--- For New instances ---\n",
      "Total: 116 proved optimality over 1080 instances\n",
      "Total: 260 optimal found over 1080 instances\n",
      "\n",
      "--- For Triplet instances ---\n",
      "Total: 0 proved optimality over 240 instances\n",
      "Total: 0 optimal found over 240 instances\n"
     ]
    }
   ],
   "source": [
    "# With all algos and all weights\n",
    "print(\"--- For Panigrahy instances ---\")\n",
    "print_optimal_found(df_P, \"P\", all_algos)\n",
    "print(\"\\n--- For New instances ---\")\n",
    "print_optimal_found(df_I, \"I\", all_algos)\n",
    "print(\"\\n--- For Triplet instances ---\")\n",
    "print_optimal_found(df_T, \"T\", all_algos)"
   ]
  },
  {
   "cell_type": "code",
   "execution_count": null,
   "id": "2c26997e",
   "metadata": {},
   "outputs": [],
   "source": []
  },
  {
   "cell_type": "markdown",
   "id": "1f588d30",
   "metadata": {},
   "source": [
    "# Comparison with Avg weight"
   ]
  },
  {
   "cell_type": "code",
   "execution_count": 81,
   "id": "ffc64005",
   "metadata": {},
   "outputs": [],
   "source": [
    "# Computing aggregated results once and for all\n",
    "# For all Centric + Multibin algos\n",
    "big_results_P = get_results(df_P, all_algos, ['class', 'n', 'd'], group_as_index=True)\n",
    "big_results_I = get_results(df_I, all_algos, ['class', 'n', 'd'], group_as_index=True)\n",
    "big_results_T = get_results(df_T, all_algos, ['class', 'n', 'd'], group_as_index=True)\n",
    "# results contains: eps, time, diff, diff_best, best, match_LB"
   ]
  },
  {
   "cell_type": "code",
   "execution_count": 82,
   "id": "12e4521a",
   "metadata": {},
   "outputs": [],
   "source": [
    "avg_fam_dict = create_simple_family_dict(alg_names_unit)\n",
    "del avg_fam_dict[\"FF\"]\n",
    "#del avg_fam_dict[\"BFD\"]\n",
    "#del avg_fam_dict[\"WFD\"]"
   ]
  },
  {
   "cell_type": "code",
   "execution_count": 83,
   "id": "7c15f8a7",
   "metadata": {},
   "outputs": [],
   "source": [
    "def augment_algo_list(l):\n",
    "    newl = []\n",
    "    for x in l:\n",
    "        newl.append(x)\n",
    "        newl.append(x.replace('Unit', 'Avg'))\n",
    "        newl.append(x.replace('Unit', 'Avg-Dyn'))\n",
    "    return newl"
   ]
  },
  {
   "cell_type": "markdown",
   "id": "cf459e54",
   "metadata": {},
   "source": [
    "## selected class P5"
   ]
  },
  {
   "cell_type": "code",
   "execution_count": 84,
   "id": "cdc83f2f",
   "metadata": {},
   "outputs": [],
   "source": [
    "temp_list = create_selected_list(unit_results_P[0].loc['5'], avg_fam_dict, with_meta=False)\n",
    "test_unit_P5 = augment_algo_list(temp_list)"
   ]
  },
  {
   "cell_type": "code",
   "execution_count": 35,
   "id": "a243b786",
   "metadata": {},
   "outputs": [
    {
     "data": {
      "text/html": [
       "<div>\n",
       "<style scoped>\n",
       "    .dataframe tbody tr th:only-of-type {\n",
       "        vertical-align: middle;\n",
       "    }\n",
       "\n",
       "    .dataframe tbody tr th {\n",
       "        vertical-align: top;\n",
       "    }\n",
       "\n",
       "    .dataframe thead th {\n",
       "        text-align: right;\n",
       "    }\n",
       "</style>\n",
       "<table border=\"1\" class=\"dataframe\">\n",
       "  <thead>\n",
       "    <tr style=\"text-align: right;\">\n",
       "      <th></th>\n",
       "      <th>FFD-L2-Unit</th>\n",
       "      <th>FFD-L2-Avg</th>\n",
       "      <th>FFD-L2-Avg-Dyn</th>\n",
       "      <th>BFD-T1-L2Load-Unit</th>\n",
       "      <th>BFD-T1-L2Load-Avg</th>\n",
       "      <th>BFD-T1-L2Load-Avg-Dyn</th>\n",
       "      <th>WFD-T1-L2Load-Unit</th>\n",
       "      <th>WFD-T1-L2Load-Avg</th>\n",
       "      <th>WFD-T1-L2Load-Avg-Dyn</th>\n",
       "      <th>BC-L2Norm-Unit</th>\n",
       "      <th>BC-L2Norm-Avg</th>\n",
       "      <th>BC-L2Norm-Avg-Dyn</th>\n",
       "      <th>MB-Pairing-NormDP-Unit</th>\n",
       "      <th>MB-Pairing-NormDP-Avg</th>\n",
       "      <th>MB-Pairing-NormDP-Avg-Dyn</th>\n",
       "      <th>MB-WFD-L2-Unit</th>\n",
       "      <th>MB-WFD-L2-Avg</th>\n",
       "      <th>MB-WFD-L2-Avg-Dyn</th>\n",
       "    </tr>\n",
       "    <tr>\n",
       "      <th>d</th>\n",
       "      <th></th>\n",
       "      <th></th>\n",
       "      <th></th>\n",
       "      <th></th>\n",
       "      <th></th>\n",
       "      <th></th>\n",
       "      <th></th>\n",
       "      <th></th>\n",
       "      <th></th>\n",
       "      <th></th>\n",
       "      <th></th>\n",
       "      <th></th>\n",
       "      <th></th>\n",
       "      <th></th>\n",
       "      <th></th>\n",
       "      <th></th>\n",
       "      <th></th>\n",
       "      <th></th>\n",
       "    </tr>\n",
       "  </thead>\n",
       "  <tbody>\n",
       "    <tr>\n",
       "      <th>3</th>\n",
       "      <td>5.24</td>\n",
       "      <td>4.62</td>\n",
       "      <td>4.31</td>\n",
       "      <td>5.24</td>\n",
       "      <td>4.62</td>\n",
       "      <td>4.31</td>\n",
       "      <td>5.24</td>\n",
       "      <td>4.62</td>\n",
       "      <td>4.31</td>\n",
       "      <td>0.93</td>\n",
       "      <td>1.24</td>\n",
       "      <td>1.24</td>\n",
       "      <td>2.16</td>\n",
       "      <td>1.85</td>\n",
       "      <td>1.85</td>\n",
       "      <td>5.24</td>\n",
       "      <td>4.62</td>\n",
       "      <td>5.55</td>\n",
       "    </tr>\n",
       "    <tr>\n",
       "      <th>5</th>\n",
       "      <td>8.41</td>\n",
       "      <td>7.79</td>\n",
       "      <td>6.83</td>\n",
       "      <td>8.41</td>\n",
       "      <td>7.79</td>\n",
       "      <td>7.15</td>\n",
       "      <td>8.41</td>\n",
       "      <td>7.79</td>\n",
       "      <td>6.83</td>\n",
       "      <td>2.48</td>\n",
       "      <td>2.48</td>\n",
       "      <td>2.48</td>\n",
       "      <td>3.40</td>\n",
       "      <td>3.40</td>\n",
       "      <td>3.40</td>\n",
       "      <td>8.11</td>\n",
       "      <td>7.79</td>\n",
       "      <td>8.43</td>\n",
       "    </tr>\n",
       "    <tr>\n",
       "      <th>10</th>\n",
       "      <td>11.47</td>\n",
       "      <td>10.86</td>\n",
       "      <td>9.33</td>\n",
       "      <td>11.47</td>\n",
       "      <td>11.17</td>\n",
       "      <td>11.48</td>\n",
       "      <td>11.47</td>\n",
       "      <td>11.17</td>\n",
       "      <td>9.33</td>\n",
       "      <td>4.31</td>\n",
       "      <td>4.00</td>\n",
       "      <td>4.00</td>\n",
       "      <td>5.24</td>\n",
       "      <td>5.24</td>\n",
       "      <td>5.24</td>\n",
       "      <td>11.17</td>\n",
       "      <td>10.86</td>\n",
       "      <td>11.48</td>\n",
       "    </tr>\n",
       "  </tbody>\n",
       "</table>\n",
       "</div>"
      ],
      "text/plain": [
       "    FFD-L2-Unit  FFD-L2-Avg  FFD-L2-Avg-Dyn  BFD-T1-L2Load-Unit  \\\n",
       "d                                                                 \n",
       "3          5.24        4.62            4.31                5.24   \n",
       "5          8.41        7.79            6.83                8.41   \n",
       "10        11.47       10.86            9.33               11.47   \n",
       "\n",
       "    BFD-T1-L2Load-Avg  BFD-T1-L2Load-Avg-Dyn  WFD-T1-L2Load-Unit  \\\n",
       "d                                                                  \n",
       "3                4.62                   4.31                5.24   \n",
       "5                7.79                   7.15                8.41   \n",
       "10              11.17                  11.48               11.47   \n",
       "\n",
       "    WFD-T1-L2Load-Avg  WFD-T1-L2Load-Avg-Dyn  BC-L2Norm-Unit  BC-L2Norm-Avg  \\\n",
       "d                                                                             \n",
       "3                4.62                   4.31            0.93           1.24   \n",
       "5                7.79                   6.83            2.48           2.48   \n",
       "10              11.17                   9.33            4.31           4.00   \n",
       "\n",
       "    BC-L2Norm-Avg-Dyn  MB-Pairing-NormDP-Unit  MB-Pairing-NormDP-Avg  \\\n",
       "d                                                                      \n",
       "3                1.24                    2.16                   1.85   \n",
       "5                2.48                    3.40                   3.40   \n",
       "10               4.00                    5.24                   5.24   \n",
       "\n",
       "    MB-Pairing-NormDP-Avg-Dyn  MB-WFD-L2-Unit  MB-WFD-L2-Avg  \\\n",
       "d                                                              \n",
       "3                        1.85            5.24           4.62   \n",
       "5                        3.40            8.11           7.79   \n",
       "10                       5.24           11.17          10.86   \n",
       "\n",
       "    MB-WFD-L2-Avg-Dyn  \n",
       "d                      \n",
       "3                5.55  \n",
       "5                8.43  \n",
       "10              11.48  "
      ]
     },
     "execution_count": 35,
     "metadata": {},
     "output_type": "execute_result"
    }
   ],
   "source": [
    "big_results_P[0].loc['5',500][test_unit_P5]"
   ]
  },
  {
   "cell_type": "code",
   "execution_count": 36,
   "id": "815a4f08",
   "metadata": {},
   "outputs": [
    {
     "data": {
      "text/html": [
       "<div>\n",
       "<style scoped>\n",
       "    .dataframe tbody tr th:only-of-type {\n",
       "        vertical-align: middle;\n",
       "    }\n",
       "\n",
       "    .dataframe tbody tr th {\n",
       "        vertical-align: top;\n",
       "    }\n",
       "\n",
       "    .dataframe thead th {\n",
       "        text-align: right;\n",
       "    }\n",
       "</style>\n",
       "<table border=\"1\" class=\"dataframe\">\n",
       "  <thead>\n",
       "    <tr style=\"text-align: right;\">\n",
       "      <th></th>\n",
       "      <th>FFD-L2-Unit</th>\n",
       "      <th>FFD-L2-Avg</th>\n",
       "      <th>FFD-L2-Avg-Dyn</th>\n",
       "      <th>BFD-T1-L2Load-Unit</th>\n",
       "      <th>BFD-T1-L2Load-Avg</th>\n",
       "      <th>BFD-T1-L2Load-Avg-Dyn</th>\n",
       "      <th>WFD-T1-L2Load-Unit</th>\n",
       "      <th>WFD-T1-L2Load-Avg</th>\n",
       "      <th>WFD-T1-L2Load-Avg-Dyn</th>\n",
       "      <th>BC-L2Norm-Unit</th>\n",
       "      <th>BC-L2Norm-Avg</th>\n",
       "      <th>BC-L2Norm-Avg-Dyn</th>\n",
       "      <th>MB-Pairing-NormDP-Unit</th>\n",
       "      <th>MB-Pairing-NormDP-Avg</th>\n",
       "      <th>MB-Pairing-NormDP-Avg-Dyn</th>\n",
       "      <th>MB-WFD-L2-Unit</th>\n",
       "      <th>MB-WFD-L2-Avg</th>\n",
       "      <th>MB-WFD-L2-Avg-Dyn</th>\n",
       "    </tr>\n",
       "    <tr>\n",
       "      <th>d</th>\n",
       "      <th></th>\n",
       "      <th></th>\n",
       "      <th></th>\n",
       "      <th></th>\n",
       "      <th></th>\n",
       "      <th></th>\n",
       "      <th></th>\n",
       "      <th></th>\n",
       "      <th></th>\n",
       "      <th></th>\n",
       "      <th></th>\n",
       "      <th></th>\n",
       "      <th></th>\n",
       "      <th></th>\n",
       "      <th></th>\n",
       "      <th></th>\n",
       "      <th></th>\n",
       "      <th></th>\n",
       "    </tr>\n",
       "  </thead>\n",
       "  <tbody>\n",
       "    <tr>\n",
       "      <th>3</th>\n",
       "      <td>0.3</td>\n",
       "      <td>0.3</td>\n",
       "      <td>12.0</td>\n",
       "      <td>1.0</td>\n",
       "      <td>1.0</td>\n",
       "      <td>14.0</td>\n",
       "      <td>1.0</td>\n",
       "      <td>1.0</td>\n",
       "      <td>14.0</td>\n",
       "      <td>13.0</td>\n",
       "      <td>13.0</td>\n",
       "      <td>13.0</td>\n",
       "      <td>1821.2</td>\n",
       "      <td>1835.9</td>\n",
       "      <td>1822.4</td>\n",
       "      <td>3.4</td>\n",
       "      <td>3.8</td>\n",
       "      <td>28.6</td>\n",
       "    </tr>\n",
       "    <tr>\n",
       "      <th>5</th>\n",
       "      <td>0.1</td>\n",
       "      <td>0.1</td>\n",
       "      <td>16.0</td>\n",
       "      <td>1.0</td>\n",
       "      <td>1.0</td>\n",
       "      <td>18.0</td>\n",
       "      <td>1.0</td>\n",
       "      <td>1.0</td>\n",
       "      <td>18.0</td>\n",
       "      <td>19.0</td>\n",
       "      <td>19.0</td>\n",
       "      <td>19.0</td>\n",
       "      <td>2817.2</td>\n",
       "      <td>2821.2</td>\n",
       "      <td>2816.1</td>\n",
       "      <td>4.6</td>\n",
       "      <td>4.7</td>\n",
       "      <td>46.1</td>\n",
       "    </tr>\n",
       "    <tr>\n",
       "      <th>10</th>\n",
       "      <td>0.4</td>\n",
       "      <td>0.4</td>\n",
       "      <td>27.8</td>\n",
       "      <td>1.0</td>\n",
       "      <td>1.0</td>\n",
       "      <td>30.1</td>\n",
       "      <td>1.0</td>\n",
       "      <td>1.0</td>\n",
       "      <td>30.8</td>\n",
       "      <td>34.0</td>\n",
       "      <td>34.1</td>\n",
       "      <td>34.4</td>\n",
       "      <td>5357.5</td>\n",
       "      <td>5336.5</td>\n",
       "      <td>5329.7</td>\n",
       "      <td>5.6</td>\n",
       "      <td>6.0</td>\n",
       "      <td>82.9</td>\n",
       "    </tr>\n",
       "  </tbody>\n",
       "</table>\n",
       "</div>"
      ],
      "text/plain": [
       "    FFD-L2-Unit  FFD-L2-Avg  FFD-L2-Avg-Dyn  BFD-T1-L2Load-Unit  \\\n",
       "d                                                                 \n",
       "3           0.3         0.3            12.0                 1.0   \n",
       "5           0.1         0.1            16.0                 1.0   \n",
       "10          0.4         0.4            27.8                 1.0   \n",
       "\n",
       "    BFD-T1-L2Load-Avg  BFD-T1-L2Load-Avg-Dyn  WFD-T1-L2Load-Unit  \\\n",
       "d                                                                  \n",
       "3                 1.0                   14.0                 1.0   \n",
       "5                 1.0                   18.0                 1.0   \n",
       "10                1.0                   30.1                 1.0   \n",
       "\n",
       "    WFD-T1-L2Load-Avg  WFD-T1-L2Load-Avg-Dyn  BC-L2Norm-Unit  BC-L2Norm-Avg  \\\n",
       "d                                                                             \n",
       "3                 1.0                   14.0            13.0           13.0   \n",
       "5                 1.0                   18.0            19.0           19.0   \n",
       "10                1.0                   30.8            34.0           34.1   \n",
       "\n",
       "    BC-L2Norm-Avg-Dyn  MB-Pairing-NormDP-Unit  MB-Pairing-NormDP-Avg  \\\n",
       "d                                                                      \n",
       "3                13.0                  1821.2                 1835.9   \n",
       "5                19.0                  2817.2                 2821.2   \n",
       "10               34.4                  5357.5                 5336.5   \n",
       "\n",
       "    MB-Pairing-NormDP-Avg-Dyn  MB-WFD-L2-Unit  MB-WFD-L2-Avg  \\\n",
       "d                                                              \n",
       "3                      1822.4             3.4            3.8   \n",
       "5                      2816.1             4.6            4.7   \n",
       "10                     5329.7             5.6            6.0   \n",
       "\n",
       "    MB-WFD-L2-Avg-Dyn  \n",
       "d                      \n",
       "3                28.6  \n",
       "5                46.1  \n",
       "10               82.9  "
      ]
     },
     "execution_count": 36,
     "metadata": {},
     "output_type": "execute_result"
    }
   ],
   "source": [
    "big_results_P[1].loc['5',500][test_unit_P5]"
   ]
  },
  {
   "cell_type": "code",
   "execution_count": 48,
   "id": "0a39af7f",
   "metadata": {
    "collapsed": true
   },
   "outputs": [
    {
     "data": {
      "text/plain": [
       "FFD-L2-Unit                     0.266667\n",
       "FFD-L2-Avg                      0.266667\n",
       "FFD-L2-Avg-Dyn                 18.600000\n",
       "BFD-T1-L2Load-Unit              1.000000\n",
       "BFD-T1-L2Load-Avg               1.000000\n",
       "BFD-T1-L2Load-Avg-Dyn          20.700000\n",
       "WFD-T1-L2Load-Unit              1.000000\n",
       "WFD-T1-L2Load-Avg               1.000000\n",
       "WFD-T1-L2Load-Avg-Dyn          20.933333\n",
       "BC-L2Norm-Unit                 22.000000\n",
       "BC-L2Norm-Avg                  22.033333\n",
       "BC-L2Norm-Avg-Dyn              22.133333\n",
       "MB-WFD-L2-Unit                  4.533333\n",
       "MB-WFD-L2-Avg                   4.833333\n",
       "MB-WFD-L2-Avg-Dyn              52.533333\n",
       "MB-Pairing-NormDP-Unit       3331.966667\n",
       "MB-Pairing-NormDP-Avg        3331.200000\n",
       "MB-Pairing-NormDP-Avg-Dyn    3322.733333\n",
       "dtype: float64"
      ]
     },
     "execution_count": 48,
     "metadata": {},
     "output_type": "execute_result"
    }
   ],
   "source": [
    "big_results_P[1].loc['5',500,:][test_unit_P5].mean()"
   ]
  },
  {
   "cell_type": "code",
   "execution_count": 47,
   "id": "2e988742",
   "metadata": {
    "collapsed": true
   },
   "outputs": [
    {
     "data": {
      "text/plain": [
       "FFD-L2-Unit                     0.4\n",
       "FFD-L2-Avg                      0.4\n",
       "FFD-L2-Avg-Dyn                 27.8\n",
       "BFD-T1-L2Load-Unit              1.0\n",
       "BFD-T1-L2Load-Avg               1.0\n",
       "BFD-T1-L2Load-Avg-Dyn          30.1\n",
       "WFD-T1-L2Load-Unit              1.0\n",
       "WFD-T1-L2Load-Avg               1.0\n",
       "WFD-T1-L2Load-Avg-Dyn          30.8\n",
       "BC-L2Norm-Unit                 34.0\n",
       "BC-L2Norm-Avg                  34.1\n",
       "BC-L2Norm-Avg-Dyn              34.4\n",
       "MB-WFD-L2-Unit                  5.6\n",
       "MB-WFD-L2-Avg                   6.0\n",
       "MB-WFD-L2-Avg-Dyn              82.9\n",
       "MB-Pairing-NormDP-Unit       5357.5\n",
       "MB-Pairing-NormDP-Avg        5336.5\n",
       "MB-Pairing-NormDP-Avg-Dyn    5329.7\n",
       "dtype: float64"
      ]
     },
     "execution_count": 47,
     "metadata": {},
     "output_type": "execute_result"
    }
   ],
   "source": [
    "big_results_P[1].loc['5'][test_unit_P5].max()"
   ]
  },
  {
   "cell_type": "code",
   "execution_count": 50,
   "id": "66312bfd",
   "metadata": {
    "collapsed": true
   },
   "outputs": [
    {
     "data": {
      "text/plain": [
       "FFD-L2-Unit                      2.503704\n",
       "FFD-L2-Avg                       2.481481\n",
       "FFD-L2-Avg-Dyn                  20.037037\n",
       "BFD-T1-L2Load-Unit               7.025926\n",
       "BFD-T1-L2Load-Avg                7.025926\n",
       "BFD-T1-L2Load-Avg-Dyn           39.074074\n",
       "WFD-T1-L2Load-Unit               6.014815\n",
       "WFD-T1-L2Load-Avg                6.018519\n",
       "WFD-T1-L2Load-Avg-Dyn           39.696296\n",
       "BC-L2Norm-Unit                  19.648148\n",
       "BC-L2Norm-Avg                   19.577778\n",
       "BC-L2Norm-Avg-Dyn               19.740741\n",
       "MB-WFD-L2-Unit                  57.270370\n",
       "MB-WFD-L2-Avg                   57.259259\n",
       "MB-WFD-L2-Avg-Dyn              110.218519\n",
       "MB-Pairing-NormDP-Unit       11628.062963\n",
       "MB-Pairing-NormDP-Avg        11687.174074\n",
       "MB-Pairing-NormDP-Avg-Dyn    11682.322222\n",
       "dtype: float64"
      ]
     },
     "execution_count": 50,
     "metadata": {},
     "output_type": "execute_result"
    }
   ],
   "source": [
    "big_results_P[1].loc[:,500,:][test_unit_P5].mean()"
   ]
  },
  {
   "cell_type": "code",
   "execution_count": 49,
   "id": "6370aa22",
   "metadata": {
    "collapsed": true
   },
   "outputs": [
    {
     "data": {
      "text/plain": [
       "FFD-L2-Unit                      6.1\n",
       "FFD-L2-Avg                       6.1\n",
       "FFD-L2-Avg-Dyn                  33.4\n",
       "BFD-T1-L2Load-Unit              15.1\n",
       "BFD-T1-L2Load-Avg               15.1\n",
       "BFD-T1-L2Load-Avg-Dyn           84.4\n",
       "WFD-T1-L2Load-Unit              13.1\n",
       "WFD-T1-L2Load-Avg               13.2\n",
       "WFD-T1-L2Load-Avg-Dyn           86.4\n",
       "BC-L2Norm-Unit                  40.1\n",
       "BC-L2Norm-Avg                   39.6\n",
       "BC-L2Norm-Avg-Dyn               40.1\n",
       "MB-WFD-L2-Unit                 101.3\n",
       "MB-WFD-L2-Avg                  101.6\n",
       "MB-WFD-L2-Avg-Dyn              382.7\n",
       "MB-Pairing-NormDP-Unit       31657.9\n",
       "MB-Pairing-NormDP-Avg        32881.0\n",
       "MB-Pairing-NormDP-Avg-Dyn    33070.9\n",
       "dtype: float64"
      ]
     },
     "execution_count": 49,
     "metadata": {},
     "output_type": "execute_result"
    }
   ],
   "source": [
    "big_results_P[1][test_unit_P5].max()"
   ]
  },
  {
   "cell_type": "code",
   "execution_count": null,
   "id": "7a10081d",
   "metadata": {},
   "outputs": [],
   "source": [
    "fname = proj_path / f\"plots/avg_n500d10_P5.pdf\"\n",
    "plot_summary_family(big_results_P[1].loc['5',500,10], big_results_P[0].loc['5',500,10], test_unit_P5,\n",
    "        f\"Panigrahy class 5 - n=500 d=10\", \"Average running time (ms) - log scale\", \"Average % error\",\n",
    "        log_scale=True, filename=fname, do_mean=False,\n",
    "        bbox_anchor=(0.795, 0.42), ncols=1, short_markers=True)"
   ]
  },
  {
   "cell_type": "code",
   "execution_count": null,
   "id": "99f0e6e5",
   "metadata": {},
   "outputs": [],
   "source": []
  },
  {
   "cell_type": "markdown",
   "id": "9f46f43a",
   "metadata": {},
   "source": [
    "### Plot all classes for n=500"
   ]
  },
  {
   "cell_type": "code",
   "execution_count": null,
   "id": "f4418671",
   "metadata": {},
   "outputs": [],
   "source": [
    "for c in range(1,10):\n",
    "    fname = proj_path / f\"plots/all_classes/avg_n500_P{c}.pdf\"\n",
    "    test_avg_P = augment_algo_list(create_selected_list(unit_results_P[0].loc[str(c)], avg_fam_dict, with_meta=False))\n",
    "    plot_summary_family(big_results_P[1].loc[str(c),500], big_results_P[0].loc[str(c),500], test_avg_P,\n",
    "            f\"Panigrahy class {c} - n=500\", \"Average running time (ms) - log scale\", \"Average % error\",\n",
    "            log_scale=True, filename=fname, do_mean=True,\n",
    "            bbox_anchor_y=-0.07, ncols=5, short_markers=True)"
   ]
  },
  {
   "cell_type": "code",
   "execution_count": null,
   "id": "0e996f96",
   "metadata": {},
   "outputs": [],
   "source": [
    "for c in range(1,7):\n",
    "    fname = proj_path / f\"plots/all_classes/avg_n500_I{c}.pdf\"\n",
    "    test_avg_I = augment_algo_list(create_selected_list(unit_results_I[0].loc[str(c)], avg_fam_dict, with_meta=False))\n",
    "    plot_summary_family(big_results_I[1].loc[str(c),500], big_results_I[0].loc[str(c),500], test_avg_I,\n",
    "            f\"New class {c} - n=500\", \"Average running time (ms) - log scale\", \"Average % error to LB\",\n",
    "            log_scale=True, filename=fname, do_mean=True,\n",
    "            bbox_anchor_y=-0.07, ncols=5, short_markers=True)"
   ]
  },
  {
   "cell_type": "code",
   "execution_count": null,
   "id": "cb6a3179",
   "metadata": {},
   "outputs": [],
   "source": [
    "for c in [\"F\", \"C\"]:\n",
    "    fname = proj_path / f\"plots/all_classes/avg_n501_T{c}.pdf\"\n",
    "    test_avg_T = augment_algo_list(create_selected_list(unit_results_T[0].loc[str(c)], avg_fam_dict, with_meta=False))\n",
    "    plot_summary_family(big_results_T[1].loc[str(c),501], big_results_T[0].loc[str(c),501], test_avg_T,\n",
    "            f\"Triplet class {c} - n=501\", \"Average running time (ms) - log scale\", \"Average % error to LB\",\n",
    "            log_scale=True, filename=fname,\n",
    "            bbox_anchor_y=-0.07, ncols=5, short_markers=True)"
   ]
  },
  {
   "cell_type": "markdown",
   "id": "6104cff4",
   "metadata": {},
   "source": [
    "# Comparison with all algos and all weights"
   ]
  },
  {
   "cell_type": "code",
   "execution_count": 91,
   "id": "c563a565",
   "metadata": {},
   "outputs": [],
   "source": [
    "def add_meta_algos(df, alg_names):\n",
    "    centric = [x for x in alg_names if not \"MB-\" in x]\n",
    "    \n",
    "    time_cols_centric = [i+'_timems' for i in centric]\n",
    "    df['meta-centric'] = df[centric].min(axis=1)\n",
    "    df['meta-centric_timems'] = df[time_cols_centric].sum(axis=1)\n",
    "    \n",
    "    time_cols_all = [i+'_timems' for i in alg_names]\n",
    "    df['meta-all'] = df[alg_names].min(axis=1)\n",
    "    df['meta-all_timems'] = df[time_cols_all].sum(axis=1)"
   ]
  },
  {
   "cell_type": "code",
   "execution_count": 92,
   "id": "169bfbc9",
   "metadata": {},
   "outputs": [],
   "source": [
    "add_meta_algos(df_P, all_algos)\n",
    "add_meta_algos(df_I, all_algos)\n",
    "add_meta_algos(df_T, all_algos)"
   ]
  },
  {
   "cell_type": "code",
   "execution_count": 93,
   "id": "6aed0227",
   "metadata": {},
   "outputs": [],
   "source": [
    "algos_with_meta = all_algos + [\"meta-centric\", \"meta-all\"]"
   ]
  },
  {
   "cell_type": "code",
   "execution_count": 94,
   "id": "b8d46f8c",
   "metadata": {},
   "outputs": [],
   "source": [
    "# Computing aggregated results once and for all\n",
    "# For all Centric + Multibin algos\n",
    "big_results_P = get_results(df_P, algos_with_meta, ['class', 'n', 'd'], group_as_index=True)\n",
    "big_results_I = get_results(df_I, algos_with_meta, ['class', 'n', 'd'], group_as_index=True)\n",
    "big_results_T = get_results(df_T, algos_with_meta, ['class', 'n', 'd'], group_as_index=True)\n",
    "\n",
    "# results contains: eps, time, diff, diff_best, best, match_LB"
   ]
  },
  {
   "cell_type": "code",
   "execution_count": 95,
   "id": "ab382e5e",
   "metadata": {},
   "outputs": [],
   "source": [
    "it = [x for x in all_algos if \"MB-\" not in x and \"BCS\" not in x]\n",
    "bi = [x for x in all_algos if \"BCS\" in x]\n",
    "mb = [x for x in all_algos if \"MB-\" in x]"
   ]
  },
  {
   "cell_type": "code",
   "execution_count": null,
   "id": "ef25fb85",
   "metadata": {},
   "outputs": [],
   "source": [
    "print(len(all_algos), len(it), len(bi), len(mb))"
   ]
  },
  {
   "cell_type": "code",
   "execution_count": null,
   "id": "2f5e1e07",
   "metadata": {},
   "outputs": [],
   "source": [
    "df = df_P\n",
    "algs = all_algos\n",
    "\n",
    "nb_instances = df.shape[0]\n",
    "sub_list = algs.copy()\n",
    "new_list = []\n",
    "for i in range(len(algs)):\n",
    "    algo_test = sub_list.pop(0)\n",
    "    new_list.append(algo_test)\n",
    "    # Find algos performing equally to algo_test\n",
    "    counts = df[sub_list].apply(lambda x: x == df[algo_test]).sum()\n",
    "    l = list(counts[counts == nb_instances].index)\n",
    "    if (len(l) != 0):\n",
    "        # If some are found, remove them from the sub_list\n",
    "        print(f\"{algo_test} identical to: {l}\")\n",
    "        sub_list = [x for x in sub_list if not x in l]\n",
    "    if (len(sub_list) == 0):\n",
    "        break\n",
    "# Sub_list contains 'unique' algos\n",
    "print(f\"There are {len(new_list)} 'unique' algos\")"
   ]
  },
  {
   "cell_type": "code",
   "execution_count": 96,
   "id": "7a8912d8",
   "metadata": {},
   "outputs": [],
   "source": [
    "to_remove = ['BCS-NormDP-Avg-Bin', 'MB-Pairing-DP1-UtilRatio',\n",
    "             'MB-Pairing-NormDP-Avg', 'MB-Pairing-NormDP-Avg-Dyn',\n",
    "             'MB-Pairing-DP3-UtilRatio',\n",
    "             'MB-WFD-Linf-UtilRatio',\n",
    "             'MB-WFD-L1-UtilRatio',\n",
    "             'MB-WFD-L2-UtilRatio',\n",
    "             'MB-BFD-L2Load-UtilRatio'\n",
    "            ]\n",
    "new_algos = [x for x in all_algos if not x in to_remove]"
   ]
  },
  {
   "cell_type": "code",
   "execution_count": 97,
   "id": "3d351707",
   "metadata": {},
   "outputs": [],
   "source": [
    "to_remove = [\"BF-\", \"WF-\"] # Need the dash after BF and WF to keep BFD/WFD\n",
    "filtered_algos = filter_algo_list(new_algos, to_remove)"
   ]
  },
  {
   "cell_type": "code",
   "execution_count": 98,
   "id": "4c2dd965",
   "metadata": {},
   "outputs": [],
   "source": [
    "fam_dict = create_family_dict(filtered_algos)"
   ]
  },
  {
   "cell_type": "markdown",
   "id": "00432472",
   "metadata": {},
   "source": [
    "## Plot lines %error as a function of n\n",
    "\n",
    "For each class a selection of algorithms is made using 'create_selected_list'"
   ]
  },
  {
   "cell_type": "code",
   "execution_count": 99,
   "id": "5a8dc9e9",
   "metadata": {},
   "outputs": [],
   "source": [
    "simple_fam_dict = create_simple_family_dict(filtered_algos)\n",
    "del simple_fam_dict[\"FF\"]"
   ]
  },
  {
   "cell_type": "code",
   "execution_count": null,
   "id": "10b93d42",
   "metadata": {},
   "outputs": [],
   "source": [
    "for c in range(1,10):\n",
    "    fname = proj_path / f\"plots/lines/all_lines_P{c}.pdf\"\n",
    "    sel_algos_test = create_selected_list(big_results_P[0].loc[str(c)], simple_fam_dict, with_meta=False)\n",
    "    plot_n_eps([20, 40, 60, 120, 250, 500], big_results_P[0], str(c), sel_algos_test,\n",
    "           f\"Class {c} of Panigrahy\", \"Number of items\", \"Average % error\",\n",
    "           ncols=4, bbox_anchor=(0.5, -0.06), filename=fname)"
   ]
  },
  {
   "cell_type": "code",
   "execution_count": null,
   "id": "24aadbc4",
   "metadata": {},
   "outputs": [],
   "source": [
    "for c in range(1,7):\n",
    "    fname = proj_path / f\"plots/lines/all_lines_I{c}.pdf\"\n",
    "    sel_algos_test = create_selected_list(big_results_I[0].loc[str(c)], simple_fam_dict, with_meta=False)\n",
    "    plot_n_eps([20, 40, 60, 120, 250, 500], big_results_I[0], str(c), sel_algos_test,\n",
    "           f\"Class {c} of New\", \"Number of items\", \"Average % error\",\n",
    "           ncols=4, bbox_anchor=(0.5, -0.06), filename=fname)"
   ]
  },
  {
   "cell_type": "code",
   "execution_count": null,
   "id": "ac2c0003",
   "metadata": {},
   "outputs": [],
   "source": [
    "for c in [\"F\", \"C\"]:\n",
    "    fname = proj_path / f\"plots/lines/all_lines_T{c}.pdf\"\n",
    "    sel_algos_test = create_selected_list(big_results_T[0].loc[str(c)], simple_fam_dict, with_meta=False)\n",
    "    plot_n_eps([60, 120, 249, 501], big_results_T[0], str(c), sel_algos_test,\n",
    "           f\"Class {c} of Triplet\", \"Number of items\", \"Average % error\",\n",
    "           ncols=4, bbox_anchor=(0.5, -0.06), filename=fname)"
   ]
  },
  {
   "cell_type": "markdown",
   "id": "ac95d677",
   "metadata": {},
   "source": [
    "### Class P5"
   ]
  },
  {
   "cell_type": "code",
   "execution_count": 47,
   "id": "e1e5f10b",
   "metadata": {},
   "outputs": [],
   "source": [
    "sel_algos_P5_bis = create_selected_list(big_results_P[0].loc[\"5\"], fam_dict, with_meta=True)"
   ]
  },
  {
   "cell_type": "code",
   "execution_count": 48,
   "id": "e6c471d4",
   "metadata": {
    "collapsed": true
   },
   "outputs": [
    {
     "data": {
      "text/plain": [
       "FF                                11.48\n",
       "FFD-L1-RecipAvg                   10.55\n",
       "FFD-Linf-Avg-Dyn                   8.72\n",
       "BFD-T1-L1-RecipAvg                10.55\n",
       "BFD-T1-Linf-Avg-Dyn                8.72\n",
       "BFD-T2-L1-RecipAvg                10.55\n",
       "BFD-T2-Linf-Avg-Dyn                8.72\n",
       "BFD-T3-L2-Avg-RecipAvg            11.17\n",
       "BFD-T3-Linf-Avg-RecipAvg-Dyn       8.72\n",
       "WFD-T1-L2Load-Avg                 11.17\n",
       "WFD-T1-Linf-Avg-Dyn                9.63\n",
       "WFD-T2-L2Load-Avg                 11.17\n",
       "WFD-T2-Linf-Avg-Dyn                9.01\n",
       "WFD-T3-L2Load-Avg-RecipAvg        11.17\n",
       "WFD-T3-Linf-Avg-RecipAvg-Dyn       9.62\n",
       "BC-TFMin-Expo                      5.24\n",
       "BC-TFMin-RecipAvg-Dyn              4.93\n",
       "BC-L2Norm-Avg-Bin                  4.31\n",
       "MB-Pairing-NormDP-Unit             5.24\n",
       "MB-Pairing-DP3-Avg-Dyn             4.00\n",
       "MB-Pairing-NormDP-RecipAvg-Bin     5.24\n",
       "MB-WFD-L2-Avg                     10.86\n",
       "MB-WFD-L1-Expo-Dyn                11.48\n",
       "meta-centric                       3.38\n",
       "meta-all                           3.38\n",
       "Name: (5, 500, 10), dtype: float64"
      ]
     },
     "execution_count": 48,
     "metadata": {},
     "output_type": "execute_result"
    }
   ],
   "source": [
    "big_results_P[0].loc[\"5\",500,10][sel_algos_P5_bis]"
   ]
  },
  {
   "cell_type": "code",
   "execution_count": 42,
   "id": "d2d96c2a",
   "metadata": {
    "collapsed": true
   },
   "outputs": [
    {
     "data": {
      "text/plain": [
       "FF                                     0.2\n",
       "FFD-L1-RecipAvg                        0.4\n",
       "FFD-Linf-Avg-Dyn                      27.1\n",
       "BFD-T1-L1-RecipAvg                     1.0\n",
       "BFD-T1-Linf-Avg-Dyn                   30.3\n",
       "BFD-T2-L1-RecipAvg                     3.0\n",
       "BFD-T2-Linf-Avg-Dyn                   30.2\n",
       "BFD-T3-L2-Avg-RecipAvg                 3.0\n",
       "BFD-T3-Linf-Avg-RecipAvg-Dyn          30.2\n",
       "WFD-T1-L2Load-Avg                      1.0\n",
       "WFD-T1-Linf-Avg-Dyn                   29.8\n",
       "WFD-T2-L2Load-Avg                      3.9\n",
       "WFD-T2-Linf-Avg-Dyn                   29.9\n",
       "WFD-T3-L2Load-Avg-RecipAvg             4.0\n",
       "WFD-T3-Linf-Avg-RecipAvg-Dyn          30.1\n",
       "BC-TFMin-Expo                         45.9\n",
       "BC-TFMin-RecipAvg-Dyn                 46.0\n",
       "BC-L2Norm-Avg-Bin                     34.7\n",
       "MB-Pairing-NormDP-Unit              5357.5\n",
       "MB-Pairing-DP3-Avg-Dyn              1293.7\n",
       "MB-Pairing-NormDP-RecipAvg-Bin      5329.9\n",
       "MB-WFD-L2-Avg                          6.0\n",
       "MB-WFD-L1-Expo-Dyn                    61.9\n",
       "meta-centric                        5371.9\n",
       "meta-all                          129235.6\n",
       "Name: (5, 500, 10), dtype: float64"
      ]
     },
     "execution_count": 42,
     "metadata": {},
     "output_type": "execute_result"
    }
   ],
   "source": [
    "big_results_P[1].loc[\"5\",500,10][sel_algos_P5_bis]"
   ]
  },
  {
   "cell_type": "code",
   "execution_count": null,
   "id": "c810319b",
   "metadata": {},
   "outputs": [],
   "source": []
  },
  {
   "cell_type": "code",
   "execution_count": null,
   "id": "ca9d106d",
   "metadata": {},
   "outputs": [],
   "source": []
  },
  {
   "cell_type": "code",
   "execution_count": null,
   "id": "6218f97a",
   "metadata": {},
   "outputs": [],
   "source": []
  },
  {
   "cell_type": "code",
   "execution_count": 103,
   "id": "d5a39616",
   "metadata": {},
   "outputs": [],
   "source": [
    "sel_algos_P5 = create_selected_list(big_results_P[0].loc[\"5\"], simple_fam_dict, with_meta=True)"
   ]
  },
  {
   "cell_type": "code",
   "execution_count": 104,
   "id": "2542a313",
   "metadata": {},
   "outputs": [
    {
     "data": {
      "text/html": [
       "<div>\n",
       "<style scoped>\n",
       "    .dataframe tbody tr th:only-of-type {\n",
       "        vertical-align: middle;\n",
       "    }\n",
       "\n",
       "    .dataframe tbody tr th {\n",
       "        vertical-align: top;\n",
       "    }\n",
       "\n",
       "    .dataframe thead th {\n",
       "        text-align: right;\n",
       "    }\n",
       "</style>\n",
       "<table border=\"1\" class=\"dataframe\">\n",
       "  <thead>\n",
       "    <tr style=\"text-align: right;\">\n",
       "      <th></th>\n",
       "      <th>FFD-Linf-Avg-Dyn</th>\n",
       "      <th>BFD-T3-Linf-Avg-Dyn-Unit</th>\n",
       "      <th>WFD-T3-Linf-Avg-Dyn-RecipAvg</th>\n",
       "      <th>BC-TFMin-RecipAvg-Dyn</th>\n",
       "      <th>MB-Pairing-NormDP-RecipAvg-Bin</th>\n",
       "      <th>MB-WFD-L2-Avg</th>\n",
       "      <th>meta-centric</th>\n",
       "      <th>meta-all</th>\n",
       "    </tr>\n",
       "    <tr>\n",
       "      <th>d</th>\n",
       "      <th></th>\n",
       "      <th></th>\n",
       "      <th></th>\n",
       "      <th></th>\n",
       "      <th></th>\n",
       "      <th></th>\n",
       "      <th></th>\n",
       "      <th></th>\n",
       "    </tr>\n",
       "  </thead>\n",
       "  <tbody>\n",
       "    <tr>\n",
       "      <th>3</th>\n",
       "      <td>4.32</td>\n",
       "      <td>4.32</td>\n",
       "      <td>4.62</td>\n",
       "      <td>1.55</td>\n",
       "      <td>2.15</td>\n",
       "      <td>4.62</td>\n",
       "      <td>0.93</td>\n",
       "      <td>0.93</td>\n",
       "    </tr>\n",
       "    <tr>\n",
       "      <th>5</th>\n",
       "      <td>6.19</td>\n",
       "      <td>6.19</td>\n",
       "      <td>6.19</td>\n",
       "      <td>2.48</td>\n",
       "      <td>3.09</td>\n",
       "      <td>7.79</td>\n",
       "      <td>2.48</td>\n",
       "      <td>2.48</td>\n",
       "    </tr>\n",
       "    <tr>\n",
       "      <th>10</th>\n",
       "      <td>8.72</td>\n",
       "      <td>8.72</td>\n",
       "      <td>9.62</td>\n",
       "      <td>4.93</td>\n",
       "      <td>5.24</td>\n",
       "      <td>10.86</td>\n",
       "      <td>3.38</td>\n",
       "      <td>3.38</td>\n",
       "    </tr>\n",
       "  </tbody>\n",
       "</table>\n",
       "</div>"
      ],
      "text/plain": [
       "    FFD-Linf-Avg-Dyn  BFD-T3-Linf-Avg-Dyn-Unit  WFD-T3-Linf-Avg-Dyn-RecipAvg  \\\n",
       "d                                                                              \n",
       "3               4.32                      4.32                          4.62   \n",
       "5               6.19                      6.19                          6.19   \n",
       "10              8.72                      8.72                          9.62   \n",
       "\n",
       "    BC-TFMin-RecipAvg-Dyn  MB-Pairing-NormDP-RecipAvg-Bin  MB-WFD-L2-Avg  \\\n",
       "d                                                                          \n",
       "3                    1.55                            2.15           4.62   \n",
       "5                    2.48                            3.09           7.79   \n",
       "10                   4.93                            5.24          10.86   \n",
       "\n",
       "    meta-centric  meta-all  \n",
       "d                           \n",
       "3           0.93      0.93  \n",
       "5           2.48      2.48  \n",
       "10          3.38      3.38  "
      ]
     },
     "execution_count": 104,
     "metadata": {},
     "output_type": "execute_result"
    }
   ],
   "source": [
    "big_results_P[0].loc[\"5\", 500][sel_algos_P5]"
   ]
  },
  {
   "cell_type": "code",
   "execution_count": 105,
   "id": "79fe83d9",
   "metadata": {
    "collapsed": true
   },
   "outputs": [
    {
     "name": "stdout",
     "output_type": "stream",
     "text": [
      "meta-all\n",
      "\teps: 1.21\n",
      "\ttime 500: 83812.73\t129235.6\n",
      "meta-centric\n",
      "\teps: 1.69\n",
      "\ttime 500: 3618.37\t5371.9\n",
      "MB-Pairing-NormDP-RecipAvg-Bin\n",
      "\teps: 2.14\n",
      "\ttime 500: 3321.10\t5329.9\n",
      "BC-TFMin-RecipAvg-Dyn\n",
      "\teps: 2.61\n",
      "\ttime 500: 29.27\t46.0\n",
      "WFD-T3-Linf-Avg-Dyn-RecipAvg\n",
      "\teps: 4.72\n",
      "\ttime 500: 21.53\t30.1\n",
      "FFD-Linf-Avg-Dyn\n",
      "\teps: 4.73\n",
      "\ttime 500: 19.57\t27.1\n",
      "BFD-T3-Linf-Avg-Dyn-Unit\n",
      "\teps: 4.73\n",
      "\ttime 500: 21.60\t30.0\n",
      "MB-WFD-L2-Avg\n",
      "\teps: 5.50\n",
      "\ttime 500: 4.83\t6.0\n"
     ]
    }
   ],
   "source": [
    "eps_P5 = big_results_P[0].loc[\"5\"][sel_algos_P5]\n",
    "time_P5 = big_results_P[1].loc[\"5\",500,:][sel_algos_P5]\n",
    "idx_P5 = eps_P5[sel_algos_P5].mean().sort_values().index\n",
    "for alg in idx_P5:\n",
    "    print(f\"{alg}\\n\\teps: {eps_P5[alg].mean():.2f}\\n\\ttime 500: {time_P5[alg].mean():.2f}\\t{time_P5[alg].max()}\")"
   ]
  },
  {
   "cell_type": "markdown",
   "id": "3d7b7407",
   "metadata": {},
   "source": [
    "### Class P8"
   ]
  },
  {
   "cell_type": "code",
   "execution_count": 106,
   "id": "cfe63cbe",
   "metadata": {},
   "outputs": [],
   "source": [
    "sel_algos_P8 = create_selected_list(big_results_P[0].loc[\"8\"], simple_fam_dict, with_meta=True)"
   ]
  },
  {
   "cell_type": "code",
   "execution_count": 107,
   "id": "88ff132f",
   "metadata": {},
   "outputs": [
    {
     "data": {
      "text/html": [
       "<div>\n",
       "<style scoped>\n",
       "    .dataframe tbody tr th:only-of-type {\n",
       "        vertical-align: middle;\n",
       "    }\n",
       "\n",
       "    .dataframe tbody tr th {\n",
       "        vertical-align: top;\n",
       "    }\n",
       "\n",
       "    .dataframe thead th {\n",
       "        text-align: right;\n",
       "    }\n",
       "</style>\n",
       "<table border=\"1\" class=\"dataframe\">\n",
       "  <thead>\n",
       "    <tr style=\"text-align: right;\">\n",
       "      <th></th>\n",
       "      <th>FFD-L2-Avg-Dyn</th>\n",
       "      <th>BFD-T1-L2Load-Avg</th>\n",
       "      <th>WFD-T1-L2Load-Avg-Dyn</th>\n",
       "      <th>BC-DP1-Avg-Dyn</th>\n",
       "      <th>MB-Pairing-DP3-Avg</th>\n",
       "      <th>MB-BFD-L2Load-Avg</th>\n",
       "      <th>meta-centric</th>\n",
       "      <th>meta-all</th>\n",
       "    </tr>\n",
       "    <tr>\n",
       "      <th>d</th>\n",
       "      <th></th>\n",
       "      <th></th>\n",
       "      <th></th>\n",
       "      <th></th>\n",
       "      <th></th>\n",
       "      <th></th>\n",
       "      <th></th>\n",
       "      <th></th>\n",
       "    </tr>\n",
       "  </thead>\n",
       "  <tbody>\n",
       "    <tr>\n",
       "      <th>3</th>\n",
       "      <td>0.00</td>\n",
       "      <td>0.00</td>\n",
       "      <td>0.00</td>\n",
       "      <td>0.00</td>\n",
       "      <td>0.20</td>\n",
       "      <td>0.00</td>\n",
       "      <td>0.0</td>\n",
       "      <td>0.0</td>\n",
       "    </tr>\n",
       "    <tr>\n",
       "      <th>5</th>\n",
       "      <td>0.00</td>\n",
       "      <td>0.00</td>\n",
       "      <td>0.00</td>\n",
       "      <td>0.08</td>\n",
       "      <td>0.56</td>\n",
       "      <td>0.00</td>\n",
       "      <td>0.0</td>\n",
       "      <td>0.0</td>\n",
       "    </tr>\n",
       "    <tr>\n",
       "      <th>10</th>\n",
       "      <td>0.04</td>\n",
       "      <td>0.24</td>\n",
       "      <td>0.04</td>\n",
       "      <td>0.36</td>\n",
       "      <td>1.12</td>\n",
       "      <td>0.24</td>\n",
       "      <td>0.0</td>\n",
       "      <td>0.0</td>\n",
       "    </tr>\n",
       "  </tbody>\n",
       "</table>\n",
       "</div>"
      ],
      "text/plain": [
       "    FFD-L2-Avg-Dyn  BFD-T1-L2Load-Avg  WFD-T1-L2Load-Avg-Dyn  BC-DP1-Avg-Dyn  \\\n",
       "d                                                                              \n",
       "3             0.00               0.00                   0.00            0.00   \n",
       "5             0.00               0.00                   0.00            0.08   \n",
       "10            0.04               0.24                   0.04            0.36   \n",
       "\n",
       "    MB-Pairing-DP3-Avg  MB-BFD-L2Load-Avg  meta-centric  meta-all  \n",
       "d                                                                  \n",
       "3                 0.20               0.00           0.0       0.0  \n",
       "5                 0.56               0.00           0.0       0.0  \n",
       "10                1.12               0.24           0.0       0.0  "
      ]
     },
     "execution_count": 107,
     "metadata": {},
     "output_type": "execute_result"
    }
   ],
   "source": [
    "big_results_P[0].loc[\"8\", 500][sel_algos_P8]"
   ]
  },
  {
   "cell_type": "code",
   "execution_count": 108,
   "id": "b79ab093",
   "metadata": {
    "collapsed": true
   },
   "outputs": [
    {
     "name": "stdout",
     "output_type": "stream",
     "text": [
      "meta-centric\n",
      "\teps: 0.16\n",
      "\ttime 500: 5479.93\t7353.5\n",
      "meta-all\n",
      "\teps: 0.16\n",
      "\ttime 500: 494218.33\t527520.2\n",
      "FFD-L2-Avg-Dyn\n",
      "\teps: 1.04\n",
      "\ttime 500: 18.13\t27.1\n",
      "WFD-T1-L2Load-Avg-Dyn\n",
      "\teps: 1.08\n",
      "\ttime 500: 35.77\t48.9\n",
      "MB-BFD-L2Load-Avg\n",
      "\teps: 1.32\n",
      "\ttime 500: 59.73\t65.1\n",
      "BFD-T1-L2Load-Avg\n",
      "\teps: 1.37\n",
      "\ttime 500: 6.33\t6.5\n",
      "BC-DP1-Avg-Dyn\n",
      "\teps: 1.77\n",
      "\ttime 500: 15.43\t21.6\n",
      "MB-Pairing-DP3-Avg\n",
      "\teps: 2.51\n",
      "\ttime 500: 10622.20\t14627.6\n"
     ]
    }
   ],
   "source": [
    "eps_P8 = big_results_P[0].loc[\"8\"][sel_algos_P8]\n",
    "time_P8 = big_results_P[1].loc[\"8\",500,:][sel_algos_P8]\n",
    "idx_P8 = eps_P8[sel_algos_P8].mean().sort_values().index\n",
    "for alg in idx_P8:\n",
    "    print(f\"{alg}\\n\\teps: {eps_P8[alg].mean():.2f}\\n\\ttime 500: {time_P8[alg].mean():.2f}\\t{time_P8[alg].max()}\")"
   ]
  },
  {
   "cell_type": "markdown",
   "id": "f24d5a41",
   "metadata": {},
   "source": [
    "### Class I5"
   ]
  },
  {
   "cell_type": "code",
   "execution_count": 109,
   "id": "a4c1964e",
   "metadata": {},
   "outputs": [],
   "source": [
    "sel_algos_I5 = create_selected_list(big_results_I[0].loc[\"5\"], simple_fam_dict, with_meta=True)"
   ]
  },
  {
   "cell_type": "code",
   "execution_count": 110,
   "id": "f51c93b6",
   "metadata": {},
   "outputs": [
    {
     "data": {
      "text/html": [
       "<div>\n",
       "<style scoped>\n",
       "    .dataframe tbody tr th:only-of-type {\n",
       "        vertical-align: middle;\n",
       "    }\n",
       "\n",
       "    .dataframe tbody tr th {\n",
       "        vertical-align: top;\n",
       "    }\n",
       "\n",
       "    .dataframe thead th {\n",
       "        text-align: right;\n",
       "    }\n",
       "</style>\n",
       "<table border=\"1\" class=\"dataframe\">\n",
       "  <thead>\n",
       "    <tr style=\"text-align: right;\">\n",
       "      <th></th>\n",
       "      <th>FFD-Linf-Avg-Dyn</th>\n",
       "      <th>BFD-T1-L2-Avg</th>\n",
       "      <th>WFD-T3-L2Load-Avg-Dyn-RecipAvg</th>\n",
       "      <th>BC-DP1-Avg-Dyn</th>\n",
       "      <th>MB-Pairing-DP3-Avg</th>\n",
       "      <th>MB-WFD-L2-Avg</th>\n",
       "      <th>meta-centric</th>\n",
       "      <th>meta-all</th>\n",
       "    </tr>\n",
       "    <tr>\n",
       "      <th>d</th>\n",
       "      <th></th>\n",
       "      <th></th>\n",
       "      <th></th>\n",
       "      <th></th>\n",
       "      <th></th>\n",
       "      <th></th>\n",
       "      <th></th>\n",
       "      <th></th>\n",
       "    </tr>\n",
       "  </thead>\n",
       "  <tbody>\n",
       "    <tr>\n",
       "      <th>3</th>\n",
       "      <td>9.21</td>\n",
       "      <td>8.54</td>\n",
       "      <td>8.47</td>\n",
       "      <td>7.40</td>\n",
       "      <td>7.54</td>\n",
       "      <td>8.54</td>\n",
       "      <td>7.11</td>\n",
       "      <td>6.98</td>\n",
       "    </tr>\n",
       "    <tr>\n",
       "      <th>5</th>\n",
       "      <td>21.51</td>\n",
       "      <td>21.58</td>\n",
       "      <td>21.38</td>\n",
       "      <td>19.00</td>\n",
       "      <td>18.99</td>\n",
       "      <td>21.58</td>\n",
       "      <td>18.56</td>\n",
       "      <td>18.56</td>\n",
       "    </tr>\n",
       "    <tr>\n",
       "      <th>10</th>\n",
       "      <td>43.85</td>\n",
       "      <td>44.05</td>\n",
       "      <td>44.19</td>\n",
       "      <td>41.94</td>\n",
       "      <td>42.14</td>\n",
       "      <td>44.05</td>\n",
       "      <td>41.44</td>\n",
       "      <td>41.44</td>\n",
       "    </tr>\n",
       "  </tbody>\n",
       "</table>\n",
       "</div>"
      ],
      "text/plain": [
       "    FFD-Linf-Avg-Dyn  BFD-T1-L2-Avg  WFD-T3-L2Load-Avg-Dyn-RecipAvg  \\\n",
       "d                                                                     \n",
       "3               9.21           8.54                            8.47   \n",
       "5              21.51          21.58                           21.38   \n",
       "10             43.85          44.05                           44.19   \n",
       "\n",
       "    BC-DP1-Avg-Dyn  MB-Pairing-DP3-Avg  MB-WFD-L2-Avg  meta-centric  meta-all  \n",
       "d                                                                              \n",
       "3             7.40                7.54           8.54          7.11      6.98  \n",
       "5            19.00               18.99          21.58         18.56     18.56  \n",
       "10           41.94               42.14          44.05         41.44     41.44  "
      ]
     },
     "execution_count": 110,
     "metadata": {},
     "output_type": "execute_result"
    }
   ],
   "source": [
    "big_results_I[0].loc[\"5\", 500][sel_algos_I5]"
   ]
  },
  {
   "cell_type": "code",
   "execution_count": 111,
   "id": "47e9bb52",
   "metadata": {
    "collapsed": true
   },
   "outputs": [
    {
     "name": "stdout",
     "output_type": "stream",
     "text": [
      "meta-all\n",
      "\teps: 9.14\n",
      "\ttime 500: 611212.53\t885735.7\n",
      "meta-centric\n",
      "\teps: 9.16\n",
      "\ttime 500: 5867.20\t8355.1\n",
      "BC-DP1-Avg-Dyn\n",
      "\teps: 11.14\n",
      "\ttime 500: 17.70\t25.5\n",
      "MB-Pairing-DP3-Avg\n",
      "\teps: 11.17\n",
      "\ttime 500: 9604.03\t15301.5\n",
      "FFD-Linf-Avg-Dyn\n",
      "\teps: 11.57\n",
      "\ttime 500: 21.90\t30.7\n",
      "MB-WFD-L2-Avg\n",
      "\teps: 11.65\n",
      "\ttime 500: 63.40\t84.0\n",
      "BFD-T1-L2-Avg\n",
      "\teps: 11.71\n",
      "\ttime 500: 6.87\t8.4\n",
      "WFD-T3-L2Load-Avg-Dyn-RecipAvg\n",
      "\teps: 12.05\n",
      "\ttime 500: 37.97\t54.9\n"
     ]
    }
   ],
   "source": [
    "eps_I5 = big_results_I[0].loc[\"5\"][sel_algos_I5]\n",
    "time_I5 = big_results_I[1].loc[\"5\",500,:][sel_algos_I5]\n",
    "idx_I5 = eps_I5[sel_algos_I5].mean().sort_values().index\n",
    "for alg in idx_I5:\n",
    "    print(f\"{alg}\\n\\teps: {eps_I5[alg].mean():.2f}\\n\\ttime 500: {time_I5[alg].mean():.2f}\\t{time_I5[alg].max()}\")"
   ]
  },
  {
   "cell_type": "markdown",
   "id": "0f1235a5",
   "metadata": {},
   "source": [
    "### Class TF"
   ]
  },
  {
   "cell_type": "code",
   "execution_count": 112,
   "id": "53929baf",
   "metadata": {},
   "outputs": [],
   "source": [
    "sel_algos_TF = create_selected_list(big_results_T[0].loc[\"F\"], simple_fam_dict, with_meta=True)"
   ]
  },
  {
   "cell_type": "code",
   "execution_count": 113,
   "id": "b639b78c",
   "metadata": {},
   "outputs": [
    {
     "data": {
      "text/html": [
       "<div>\n",
       "<style scoped>\n",
       "    .dataframe tbody tr th:only-of-type {\n",
       "        vertical-align: middle;\n",
       "    }\n",
       "\n",
       "    .dataframe tbody tr th {\n",
       "        vertical-align: top;\n",
       "    }\n",
       "\n",
       "    .dataframe thead th {\n",
       "        text-align: right;\n",
       "    }\n",
       "</style>\n",
       "<table border=\"1\" class=\"dataframe\">\n",
       "  <thead>\n",
       "    <tr style=\"text-align: right;\">\n",
       "      <th></th>\n",
       "      <th>FFD-L2-UtilRatio</th>\n",
       "      <th>BFD-T1-L1-UtilRatio</th>\n",
       "      <th>WFD-T1-L2Load-UtilRatio</th>\n",
       "      <th>BC-DP1-Unit</th>\n",
       "      <th>MB-Pairing-DP1-RecipAvg-Dyn</th>\n",
       "      <th>MB-WFD-L1-Unit</th>\n",
       "      <th>meta-centric</th>\n",
       "      <th>meta-all</th>\n",
       "    </tr>\n",
       "    <tr>\n",
       "      <th>d</th>\n",
       "      <th></th>\n",
       "      <th></th>\n",
       "      <th></th>\n",
       "      <th></th>\n",
       "      <th></th>\n",
       "      <th></th>\n",
       "      <th></th>\n",
       "      <th></th>\n",
       "    </tr>\n",
       "  </thead>\n",
       "  <tbody>\n",
       "    <tr>\n",
       "      <th>3</th>\n",
       "      <td>16.74</td>\n",
       "      <td>16.74</td>\n",
       "      <td>16.74</td>\n",
       "      <td>16.62</td>\n",
       "      <td>8.76</td>\n",
       "      <td>16.32</td>\n",
       "      <td>15.00</td>\n",
       "      <td>8.34</td>\n",
       "    </tr>\n",
       "    <tr>\n",
       "      <th>5</th>\n",
       "      <td>16.80</td>\n",
       "      <td>16.80</td>\n",
       "      <td>16.80</td>\n",
       "      <td>16.80</td>\n",
       "      <td>13.86</td>\n",
       "      <td>16.80</td>\n",
       "      <td>16.68</td>\n",
       "      <td>13.74</td>\n",
       "    </tr>\n",
       "    <tr>\n",
       "      <th>10</th>\n",
       "      <td>16.80</td>\n",
       "      <td>16.80</td>\n",
       "      <td>16.80</td>\n",
       "      <td>16.80</td>\n",
       "      <td>20.70</td>\n",
       "      <td>16.80</td>\n",
       "      <td>16.80</td>\n",
       "      <td>16.80</td>\n",
       "    </tr>\n",
       "  </tbody>\n",
       "</table>\n",
       "</div>"
      ],
      "text/plain": [
       "    FFD-L2-UtilRatio  BFD-T1-L1-UtilRatio  WFD-T1-L2Load-UtilRatio  \\\n",
       "d                                                                    \n",
       "3              16.74                16.74                    16.74   \n",
       "5              16.80                16.80                    16.80   \n",
       "10             16.80                16.80                    16.80   \n",
       "\n",
       "    BC-DP1-Unit  MB-Pairing-DP1-RecipAvg-Dyn  MB-WFD-L1-Unit  meta-centric  \\\n",
       "d                                                                            \n",
       "3         16.62                         8.76           16.32         15.00   \n",
       "5         16.80                        13.86           16.80         16.68   \n",
       "10        16.80                        20.70           16.80         16.80   \n",
       "\n",
       "    meta-all  \n",
       "d             \n",
       "3       8.34  \n",
       "5      13.74  \n",
       "10     16.80  "
      ]
     },
     "execution_count": 113,
     "metadata": {},
     "output_type": "execute_result"
    }
   ],
   "source": [
    "big_results_T[0].loc[\"F\", 501][sel_algos_TF]"
   ]
  },
  {
   "cell_type": "code",
   "execution_count": 114,
   "id": "b429ef6d",
   "metadata": {
    "collapsed": true
   },
   "outputs": [
    {
     "name": "stdout",
     "output_type": "stream",
     "text": [
      "meta-all\n",
      "\teps: 14.52\n",
      "\ttime 501: 523823.90\t692565.0\n",
      "MB-Pairing-DP1-RecipAvg-Dyn\n",
      "\teps: 16.48\n",
      "\ttime 501: 10282.07\t14158.3\n",
      "meta-centric\n",
      "\teps: 16.71\n",
      "\ttime 501: 5830.13\t8104.3\n",
      "BFD-T1-L1-UtilRatio\n",
      "\teps: 17.55\n",
      "\ttime 501: 28.97\t37.5\n",
      "WFD-T1-L2Load-UtilRatio\n",
      "\teps: 17.55\n",
      "\ttime 501: 34.93\t48.1\n",
      "MB-WFD-L1-Unit\n",
      "\teps: 17.56\n",
      "\ttime 501: 47.80\t58.2\n",
      "FFD-L2-UtilRatio\n",
      "\teps: 17.59\n",
      "\ttime 501: 19.93\t29.1\n",
      "BC-DP1-Unit\n",
      "\teps: 17.79\n",
      "\ttime 501: 23.63\t36.3\n"
     ]
    }
   ],
   "source": [
    "eps_TF = big_results_T[0].loc[\"F\"][sel_algos_TF]\n",
    "time_TF = big_results_T[1].loc[\"F\",501,:][sel_algos_TF]\n",
    "idx_TF = eps_TF[sel_algos_TF].mean().sort_values().index\n",
    "for alg in idx_TF:\n",
    "    print(f\"{alg}\\n\\teps: {eps_TF[alg].mean():.2f}\\n\\ttime 501: {time_TF[alg].mean():.2f}\\t{time_TF[alg].max()}\")"
   ]
  },
  {
   "cell_type": "code",
   "execution_count": null,
   "id": "366835ba",
   "metadata": {},
   "outputs": [],
   "source": []
  },
  {
   "cell_type": "markdown",
   "id": "b54415f9",
   "metadata": {},
   "source": [
    "## Plot summary figures for all algos with n=500"
   ]
  },
  {
   "cell_type": "code",
   "execution_count": null,
   "id": "b99cff86",
   "metadata": {},
   "outputs": [],
   "source": [
    "for c in range(1,10):\n",
    "    fname = proj_path / f\"plots/all_classes/all_weights_n500_P{c}.pdf\"\n",
    "    sel_algos = create_selected_list(big_results_P[0].loc[str(c)], fam_dict, with_meta=True)\n",
    "    plot_summary_family(big_results_P[1].loc[str(c),500], big_results_P[0].loc[str(c),500], sel_algos,\n",
    "            f\"Panigrahy class {c} - n=500\", \"Average running time (ms) - log scale\", \"Average % error\",\n",
    "            log_scale=True, filename=fname,\n",
    "            simplify_dict=True, show_legend=True,\n",
    "            bbox_anchor=(0.5,-0.15), ncols=4, short_markers=True)"
   ]
  },
  {
   "cell_type": "code",
   "execution_count": null,
   "id": "5cc9fb23",
   "metadata": {},
   "outputs": [],
   "source": [
    "for c in range(1,7):\n",
    "    fname = proj_path / f\"plots/all_classes/all_weights_n500_I{c}.pdf\"\n",
    "    sel_algos = create_selected_list(big_results_I[0].loc[str(c)], fam_dict, with_meta=True)\n",
    "    plot_summary_family(big_results_I[1].loc[str(c),500], big_results_I[0].loc[str(c),500], sel_algos,\n",
    "            f\"New class {c} - n=500\", \"Average running time (ms) - log scale\", \"Average % error\",\n",
    "            log_scale=True, filename=fname,\n",
    "            simplify_dict=True, show_legend=True,\n",
    "            bbox_anchor=(0.5,-0.15), ncols=4, short_markers=True)"
   ]
  },
  {
   "cell_type": "code",
   "execution_count": null,
   "id": "34d9fbca",
   "metadata": {},
   "outputs": [],
   "source": [
    "for c in [\"C\", \"F\"]:\n",
    "    fname = proj_path / f\"plots/all_classes/all_weights_n501_T{c}.pdf\"\n",
    "    sel_algos = create_selected_list(big_results_T[0].loc[str(c)], fam_dict, with_meta=True)\n",
    "    plot_summary_family(big_results_T[1].loc[str(c),501], big_results_T[0].loc[str(c),501], sel_algos,\n",
    "            f\"Triplet class {c} - n=501\", \"Average running time (ms) - log scale\", \"Average % error\",\n",
    "            log_scale=True, filename=fname,\n",
    "            simplify_dict=True, show_legend=True,\n",
    "            bbox_anchor=(0.5,-0.15), ncols=4, short_markers=True)"
   ]
  },
  {
   "cell_type": "code",
   "execution_count": null,
   "id": "76746ef3",
   "metadata": {},
   "outputs": [],
   "source": []
  },
  {
   "cell_type": "markdown",
   "id": "b0980ea8",
   "metadata": {},
   "source": [
    "## Plots of selected classes with specific n and d\n",
    "### Class P5"
   ]
  },
  {
   "cell_type": "code",
   "execution_count": null,
   "id": "bf2d160f",
   "metadata": {},
   "outputs": [],
   "source": [
    "sel_algos_P5 = create_selected_list(big_results_P[0].loc[\"5\"], fam_dict, with_meta=True)\n",
    "fname = proj_path / \"plots/all_n500d10_P5.pdf\"\n",
    "plot_summary_family(big_results_P[1].loc[\"5\",500,10], big_results_P[0].loc[\"5\",500,10], sel_algos_P5,\n",
    "            \"Panigrahy class 5 - n=500 d=10\", \"Average running time (ms) - log scale\", \"Average % error\",\n",
    "            log_scale=True, filename=fname, do_mean=False,\n",
    "            simplify_dict=True, show_legend=True,\n",
    "            ncols = 2, bbox_anchor=(0.69, 0.57),\n",
    "            legend_size=FONT_SIZE-6, short_markers=True\n",
    "            )"
   ]
  },
  {
   "cell_type": "markdown",
   "id": "eab3b585",
   "metadata": {},
   "source": [
    "### Class P8"
   ]
  },
  {
   "cell_type": "code",
   "execution_count": null,
   "id": "f7d176ed",
   "metadata": {},
   "outputs": [],
   "source": [
    "sel_algos_P8 = create_selected_list(big_results_P[0].loc[\"8\"], fam_dict, with_meta=True)\n",
    "fname = proj_path / \"plots/all_n500d10_P8.pdf\"\n",
    "plot_summary_family(big_results_P[1].loc[\"8\",500,10], big_results_P[0].loc[\"8\",500,10], sel_algos_P8,\n",
    "            \"Panigrahy class 8 - n=500 d=10\", \"Average running time (ms) - log scale\", \"Average % error\",\n",
    "            log_scale=True, filename=fname, do_mean=False,\n",
    "            simplify_dict=True, show_legend=True,\n",
    "            #ncols = 2, bbox_anchor=(0.675, 0.54)\n",
    "            ncols = 1, bbox_anchor=(0.85, 0.25), short_markers=True\n",
    "        ####### legend VOLUNTARILY out of bound here BUT correctly placed in the output PDF\n",
    "            )"
   ]
  },
  {
   "cell_type": "markdown",
   "id": "906c73cb",
   "metadata": {},
   "source": [
    "### class I5"
   ]
  },
  {
   "cell_type": "code",
   "execution_count": null,
   "id": "65d0f187",
   "metadata": {},
   "outputs": [],
   "source": [
    "sel_algos_I5 = create_selected_list(big_results_I[0].loc[\"5\"], fam_dict, with_meta=True)\n",
    "fname = proj_path / \"plots/all_n500d10_I5.pdf\"\n",
    "plot_summary_family(big_results_I[1].loc[\"5\",500,10], big_results_I[0].loc[\"5\",500,10], sel_algos_I5,\n",
    "            \"New class 5 - n=500 d=10\", \"Average running time (ms) - log scale\", \"Average % error\",\n",
    "            log_scale=True, filename=fname, do_mean=False,\n",
    "            simplify_dict=True, show_legend=True,\n",
    "            ncols = 2, bbox_anchor=(0.67, 0.54), short_markers=True\n",
    "            ####### legend VOLUNTARILY out of bound here BUT correctly placed in the output PDF\n",
    "            )"
   ]
  },
  {
   "cell_type": "markdown",
   "id": "c2f5f343",
   "metadata": {},
   "source": [
    "### class TF"
   ]
  },
  {
   "cell_type": "code",
   "execution_count": null,
   "id": "285470b7",
   "metadata": {},
   "outputs": [],
   "source": [
    "sel_algos_TF = create_selected_list(big_results_T[0].loc[\"F\"], fam_dict, with_meta=True)\n",
    "fname = proj_path / \"plots/all_n501d10_TF.pdf\"\n",
    "plot_summary_family(big_results_T[1].loc[\"F\",501,10], big_results_T[0].loc[\"F\",501,10], sel_algos_TF,\n",
    "            \"Triplets of Falkenauer - n=501 d=10\", \"Average running time (ms) - log scale\", \"Average % error\",\n",
    "            log_scale=True, filename=fname, do_mean=False,\n",
    "            simplify_dict=True, show_legend=True,\n",
    "            ncols = 1, bbox_anchor=(0.79, 0.27), short_markers=True\n",
    "            #ncols = 2, bbox_anchor=(0.34, 0.13)\n",
    "            )"
   ]
  },
  {
   "cell_type": "code",
   "execution_count": null,
   "id": "73d4fd54",
   "metadata": {},
   "outputs": [],
   "source": [
    "sel_algos_TF = create_selected_list(big_results_T[0].loc[\"F\"], fam_dict, with_meta=True)\n",
    "fname = proj_path / \"plots/all_n501d5_TF.pdf\"\n",
    "plot_summary_family(big_results_T[1].loc[\"F\",501,5], big_results_T[0].loc[\"F\",501,5], sel_algos_TF,\n",
    "            \"Triplets of Falkenauer - n=501 d=5\", \"Average running time (ms) - log scale\", \"Average % error\",\n",
    "            log_scale=True, filename=fname, do_mean=False,\n",
    "            simplify_dict=True, show_legend=True,\n",
    "            ncols = 1, bbox_anchor=(0.79, 0.27), short_markers=True\n",
    "            #ncols = 2, bbox_anchor=(0.34, 0.13)\n",
    "            )"
   ]
  },
  {
   "cell_type": "code",
   "execution_count": null,
   "id": "9e4831e7",
   "metadata": {},
   "outputs": [],
   "source": [
    "sel_algos_TF = create_selected_list(big_results_T[0].loc[\"F\"], fam_dict, with_meta=True)\n",
    "fname = proj_path / \"plots/all_n501d3_TF.pdf\"\n",
    "plot_summary_family(big_results_T[1].loc[\"F\",501,3], big_results_T[0].loc[\"F\",501,3], sel_algos_TF,\n",
    "            \"Triplets of Falkenauer - n=501 d=3\", \"Average running time (ms) - log scale\", \"Average % error\",\n",
    "            log_scale=True, filename=fname, do_mean=False,\n",
    "            simplify_dict=True, show_legend=True,\n",
    "            ncols = 1, bbox_anchor=(0.79, 0.27), short_markers=True\n",
    "            #ncols = 2, bbox_anchor=(0.34, 0.13)\n",
    "            )"
   ]
  },
  {
   "cell_type": "markdown",
   "id": "57812567",
   "metadata": {},
   "source": [
    "## Check optimal found with all algos and weights"
   ]
  },
  {
   "cell_type": "code",
   "execution_count": 126,
   "id": "aad41f57",
   "metadata": {},
   "outputs": [
    {
     "name": "stdout",
     "output_type": "stream",
     "text": [
      "--- For Panigrahy instances ---\n",
      "Total: 643 proved optimality over 1620 instances\n",
      "Total: 992 optimal found over 1620 instances\n",
      "\n",
      "--- For New instances ---\n",
      "Total: 116 proved optimality over 1080 instances\n",
      "Total: 260 optimal found over 1080 instances\n",
      "\n",
      "--- For Triplet instances ---\n",
      "Total: 0 proved optimality over 240 instances\n",
      "Total: 0 optimal found over 240 instances\n"
     ]
    }
   ],
   "source": [
    "print(\"--- For Panigrahy instances ---\")\n",
    "print_optimal_found(df_P, \"P\", all_algos)\n",
    "print(\"\\n--- For New instances ---\")\n",
    "print_optimal_found(df_I, \"I\", all_algos)\n",
    "print(\"\\n--- For Triplet instances ---\")\n",
    "print_optimal_found(df_T, \"T\", all_algos)"
   ]
  },
  {
   "cell_type": "code",
   "execution_count": 127,
   "id": "9125730d",
   "metadata": {},
   "outputs": [],
   "source": [
    "centric_algos = [x for x in all_algos if \"MB-\" not in x]"
   ]
  },
  {
   "cell_type": "code",
   "execution_count": 128,
   "id": "85ec8eab",
   "metadata": {},
   "outputs": [
    {
     "name": "stdout",
     "output_type": "stream",
     "text": [
      "--- For Panigrahy instances ---\n",
      "Total: 637 proved optimality over 1620 instances\n",
      "Total: 985 optimal found over 1620 instances\n",
      "\n",
      "--- For New instances ---\n",
      "Total: 113 proved optimality over 1080 instances\n",
      "Total: 257 optimal found over 1080 instances\n",
      "\n",
      "--- For Triplet instances ---\n",
      "Total: 0 proved optimality over 240 instances\n",
      "Total: 0 optimal found over 240 instances\n"
     ]
    }
   ],
   "source": [
    "print(\"--- For Panigrahy instances ---\")\n",
    "print_optimal_found(df_P, \"P\", centric_algos)\n",
    "print(\"\\n--- For New instances ---\")\n",
    "print_optimal_found(df_I, \"I\", centric_algos)\n",
    "print(\"\\n--- For Triplet instances ---\")\n",
    "print_optimal_found(df_T, \"T\", centric_algos)"
   ]
  },
  {
   "cell_type": "code",
   "execution_count": null,
   "id": "b9baaac5",
   "metadata": {},
   "outputs": [],
   "source": []
  },
  {
   "cell_type": "markdown",
   "id": "c7ffdd58",
   "metadata": {},
   "source": [
    "# Compare several algorithms"
   ]
  },
  {
   "cell_type": "code",
   "execution_count": null,
   "id": "b30d67ac",
   "metadata": {},
   "outputs": [],
   "source": [
    "def my_sup(x):\n",
    "    return x[x > 0].count()\n",
    "\n",
    "def my_eq(x):\n",
    "    return x[x == 0].count()\n",
    "\n",
    "def my_low(x):\n",
    "    return x[x < 0].count()\n",
    "\n",
    "def make_diff(df, list1, list2):\n",
    "    a = df[list1]\n",
    "    b = df[list2]\n",
    "    b.columns = a.columns\n",
    "    df_diff = (a - b).agg(['mean', 'std', my_sup, my_eq, my_low])\n",
    "    return df_diff\n",
    "\n",
    "def make_diff_classes(algo1, algo2, base_df, bench_name):\n",
    "    if bench_name == \"P\":\n",
    "        l = range(1,10)\n",
    "    elif bench_name == \"I\":\n",
    "        l = range(1,7)\n",
    "    else:\n",
    "        l = [\"C\", \"F\"]\n",
    "        \n",
    "    dfs = []\n",
    "    cols = []\n",
    "    for c in l:\n",
    "        dfs.append(make_diff(base_df[base_df[\"class\"] ==str(c)], [algo1], [algo2]))\n",
    "        cols.append(f\"{algo1}_{c}\")\n",
    "    \n",
    "    diff_df = pd.concat(dfs, axis=1)\n",
    "    diff_df.columns = cols\n",
    "    return diff_df\n",
    "\n",
    "# When comparing algo A with algo B\n",
    "# Mean is negative when algo A is better than B\n",
    "# my_sup counts when sol of A is worse than B\n",
    "# my_low counts when sol of A is better than B"
   ]
  },
  {
   "cell_type": "code",
   "execution_count": null,
   "id": "20277148",
   "metadata": {},
   "outputs": [],
   "source": [
    "alA = \"FFD-Sum-Avg\"\n",
    "alB = \"FFD-SumSq-Avg\"\n",
    "df_diff = make_diff_classes(alA, alB, big_df_P, \"P\")\n",
    "print(df_diff)"
   ]
  },
  {
   "cell_type": "code",
   "execution_count": null,
   "id": "b2a67feb",
   "metadata": {},
   "outputs": [],
   "source": [
    "df_diff = make_diff_classes(alA, alB, big_df_I, \"I\")\n",
    "print(df_diff)"
   ]
  },
  {
   "cell_type": "code",
   "execution_count": null,
   "id": "bcffa518",
   "metadata": {},
   "outputs": [],
   "source": []
  },
  {
   "cell_type": "code",
   "execution_count": null,
   "id": "870dd415",
   "metadata": {},
   "outputs": [],
   "source": [
    "df_diff = make_diff_classes(\"BCS-DP1-Expo\", \"BCS-DP2-Avg-Dyn\", big_df_P, \"P\")\n",
    "print(df_diff)"
   ]
  },
  {
   "cell_type": "code",
   "execution_count": null,
   "id": "e8ed4c7b",
   "metadata": {},
   "outputs": [],
   "source": [
    "df_diff = make_diff_classes(\"BIM-BS-DP3-Avg\", \"BIM-BS-DP1-DivAvg-Dyn\", big_df_T, \"T\")\n",
    "print(df_diff)"
   ]
  },
  {
   "cell_type": "code",
   "execution_count": null,
   "id": "d933fa27",
   "metadata": {},
   "outputs": [],
   "source": []
  },
  {
   "cell_type": "code",
   "execution_count": null,
   "id": "ec9e81bf",
   "metadata": {},
   "outputs": [],
   "source": [
    "df_diff = make_diff_classes(\"FFD-Sum-Avg-Dyn\", \"WFD-T1-SumSqLoad-Avg-Dyn\", big_df_P, \"P\")\n",
    "print(df_diff)"
   ]
  },
  {
   "cell_type": "code",
   "execution_count": null,
   "id": "c43bd527",
   "metadata": {},
   "outputs": [],
   "source": []
  },
  {
   "cell_type": "code",
   "execution_count": null,
   "id": "b821243c",
   "metadata": {},
   "outputs": [],
   "source": []
  },
  {
   "cell_type": "code",
   "execution_count": null,
   "id": "60ea54bf",
   "metadata": {},
   "outputs": [],
   "source": [
    "df_diff = make_diff(big_df_P, [\"FFD-SumSq-Unit\", \"FFD-Sum-Unit\"],[\"FFD-SumSq-Avg\", \"FFD-Sum-Avg\"])\n",
    "print(df_diff)"
   ]
  },
  {
   "cell_type": "code",
   "execution_count": null,
   "id": "28a30419",
   "metadata": {},
   "outputs": [],
   "source": [
    "df_diff = make_all_diff([\"FFD-SumSq-Unit\", \"FFD-Sum-Unit\"],\n",
    "                        [\"FFD-SumSq-Avg\", \"FFD-Sum-Avg\"])\n",
    "df_diff"
   ]
  },
  {
   "cell_type": "code",
   "execution_count": null,
   "id": "081c427e",
   "metadata": {},
   "outputs": [],
   "source": [
    "df_diff = make_all_diff([\"FFD-SumSq-Unit\"],\n",
    "                        [\"FFD-SumSq-Avg\"])\n",
    "df_diff"
   ]
  },
  {
   "cell_type": "code",
   "execution_count": null,
   "id": "4b355b11",
   "metadata": {},
   "outputs": [],
   "source": []
  },
  {
   "cell_type": "markdown",
   "id": "9179ca1e",
   "metadata": {},
   "source": [
    "# OLD CELLS"
   ]
  },
  {
   "cell_type": "markdown",
   "id": "6140adc8",
   "metadata": {},
   "source": [
    "## For Latex tables"
   ]
  },
  {
   "cell_type": "code",
   "execution_count": null,
   "id": "ce14d39a",
   "metadata": {},
   "outputs": [],
   "source": [
    "def create_table_df(main_df, results, alg_names):\n",
    "    sub_df = main_df[['class', 'n', 'd', 'best_sol']].copy()\n",
    "    sub_df[\"best_opt\"] = sub_df[\"best_sol\"] == main_df[\"LB_or_OPT\"]\n",
    "    sub_df[\"best_eps\"] = round(sub_df[\"best_sol\"] / main_df[\"LB_or_OPT\"] - 1, 3)*100\n",
    "\n",
    "    avg_best = sub_df[['class', 'n', 'd', 'best_sol']].groupby(by=['class', 'n', 'd'], as_index=True).mean()\n",
    "    opt_best = sub_df[['class', 'n', 'd', 'best_opt']].groupby(by=['class', 'n', 'd'], as_index=True).sum()\n",
    "    eps_best = sub_df[['class', 'n', 'd', 'best_eps']].groupby(by=['class', 'n', 'd'], as_index=True).mean()\n",
    "\n",
    "    eps, time, _, diff_best, _, match_LB = results\n",
    "    time_best = time.sum(axis=1) # The cumulated time taken by all algorithms\n",
    "    list_df = [avg_best, opt_best, eps_best, time_best]\n",
    "    cols = [\"avg_best\", \"opt_best\", \"eps_best\", \"time_best\"]\n",
    "    for alg in alg_names:\n",
    "        list_df.append(eps[alg])\n",
    "        list_df.append(diff_best[alg])\n",
    "        list_df.append(match_LB[alg])\n",
    "        list_df.append(time[alg])\n",
    "        cols.extend([alg+\"_eps\", alg+\"_diff\", alg+\"_opt\", alg+\"_time\"])\n",
    "        \n",
    "    res_df = pd.concat(list_df, axis=1)\n",
    "    res_df.columns = cols\n",
    "    return res_df"
   ]
  },
  {
   "cell_type": "code",
   "execution_count": null,
   "id": "13e3e5a4",
   "metadata": {},
   "outputs": [],
   "source": [
    "table_path = proj_path / \"results/tables\"\n",
    "print(table_path)\n",
    "\n",
    "def write_table(filename, s):\n",
    "    with open(filename, 'w') as f:\n",
    "        f.write(s)"
   ]
  },
  {
   "cell_type": "markdown",
   "id": "8d449802",
   "metadata": {},
   "source": [
    "### Tables for Unit weights"
   ]
  },
  {
   "cell_type": "code",
   "execution_count": null,
   "id": "2029eeff",
   "metadata": {},
   "outputs": [],
   "source": [
    "def simple_name_unit(alg_name):\n",
    "    v = alg_name.split('-')\n",
    "    if len(v) < 2:\n",
    "        return alg_name\n",
    "    \n",
    "    if 'T1' in alg_name or 'BS' in alg_name:\n",
    "        return f\"{v[0]}-{v[2]}\"\n",
    "    \n",
    "    return f\"{v[0]}-{v[1]}\""
   ]
  },
  {
   "cell_type": "code",
   "execution_count": null,
   "id": "ff41f566",
   "metadata": {},
   "outputs": [],
   "source": [
    "def generate_table_unit(df, algo_list, class_range, n_range,\n",
    "                       stitle, slabel):\n",
    "    shead = \"\\\\begin{landscape}\\n\\\\begin{table}\\n\\\\footnotesize\\n\\\\centering\\n\\\\caption{\" + stitle + \"}\"\n",
    "    shead+= \"\\label{\" + slabel + \"}\\n\"\n",
    "    shead+= \"\\\\begin{tabular}{|lrrr|rrr|\" + \"rrr|\"*(len(algo_list)) + \"}\\n\"\n",
    "    shead+= \"\\\\hline\\n\"\n",
    "    shead+= \" & & & & \\multicolumn{3}{c|}{Combined best}\"\n",
    "    salgs = \"\\\\rule{0pt}{.4cm}Class & n & d & Avg.Bins & \\%err & Time & \\#opt\"\n",
    "    for alg in algo_list:\n",
    "        shead+= \" & \\multicolumn{3}{c|}{\" + simple_name_unit(alg) + \"}\"\n",
    "        salgs += \" & \\%err & Diff & Time\"\n",
    "    shead+= \"\\\\\\\\\\n\" + salgs + \"\\\\\\\\\\n\\hline\\n\"\n",
    "\n",
    "    sbody = \"\"\n",
    "    for c in class_range:\n",
    "        cfirst = str(c)\n",
    "        sbody+= cfirst\n",
    "        for n in n_range:\n",
    "            sbody+= \"\\\\rule{0pt}{.6cm} & \" + str(n)\n",
    "            smid = \" &\"\n",
    "            for d in [3, 5, 10]:\n",
    "                avg_best = df.loc[cfirst,n,d]['avg_best']\n",
    "                eps_best = df.loc[cfirst,n,d]['eps_best']\n",
    "                opt_best = df.loc[cfirst,n,d]['opt_best']\n",
    "                time_best = df.loc[cfirst,n,d]['time_best']\n",
    "                smid+= f\" {d} & {avg_best:.1f} & {eps_best:.1f} & {time_best:.1f} & {opt_best:.0f}\"\n",
    "                for alg in algo_list:\n",
    "                    smid+= f\" & {df.loc[cfirst,n,d][alg+'_eps']:.1f} & {df.loc[cfirst,n,d][alg+'_diff']:.1f}\"\n",
    "                    smid+= f\" & {df.loc[cfirst,n,d][alg+'_time']:.1f}\"\n",
    "                sbody+= smid + \"\\\\\\\\\\n\"\n",
    "                smid = \" & &\"\n",
    "\n",
    "        sbody+= \"\\multicolumn{4}{|c|}{\\\\rule{0pt}{.5cm}Summary over all instances}\"\n",
    "        sbody+= f\" & {df.loc[cfirst]['eps_best'].mean():.1f} & {df.loc[cfirst]['time_best'].mean():.1f}\"\n",
    "        sbody+= f\" & {df.loc[cfirst]['opt_best'].sum():.0f}\"\n",
    "        for alg in algo_list:\n",
    "            sbody+= f\" & {df.loc[cfirst][alg+'_eps'].mean():.1f} & {df.loc[cfirst][alg+'_diff'].mean():.1f}\"\n",
    "            sbody+= f\" & {df.loc[cfirst][alg+'_time'].mean():.1f}\"\n",
    "        sbody+= \"\\\\\\\\\\n\" + \"\\\\hline\\n\"\n",
    "        \n",
    "    sfull = shead + sbody + \"\\end{tabular}\\n\\end{table}\\n\\end{landscape}\"\n",
    "    \n",
    "    return sfull"
   ]
  },
  {
   "cell_type": "code",
   "execution_count": null,
   "id": "a7d66cb1",
   "metadata": {},
   "outputs": [],
   "source": [
    "table_df_P = create_table_df(big_df_P, big_results_P, all_algos)\n",
    "table_df_I = create_table_df(big_df_I, big_results_I, all_algos)\n",
    "table_df_T = create_table_df(big_df_T, big_results_T, all_algos)\n",
    "#table_df_Q = create_table_df(big_df_Q, big_results_Q, all_algos)"
   ]
  },
  {
   "cell_type": "code",
   "execution_count": null,
   "id": "40aa6cb2",
   "metadata": {},
   "outputs": [],
   "source": [
    "# Panigrahy instances\n",
    "s1 = generate_table_unit(table_df_P,\n",
    "        [\"FFD-Max-Unit\", \"FFD-Sum-Unit\", \"FFD-SumSq-Unit\", \"BCS-DP1-Unit\", \"BIM-BS-DP3-Unit\"],\n",
    "        [1, 2, 3],\n",
    "        [20, 120, 500],\n",
    "        #[20, 40, 60, 120, 250, 500],\n",
    "        \"Unit weights - Panigrahy instances\", \"tab:unit-P11\")\n",
    "write_table(table_path / \"unit-P11.tex\", s1)\n",
    "\n",
    "\n",
    "###\n",
    "s2 = generate_table_unit(table_df_P,\n",
    "        [\"FFD-Max-Unit\", \"FFD-Sum-Unit\", \"FFD-SumSq-Unit\", \"BCS-DP1-Unit\", \"BIM-BS-DP3-Unit\"],\n",
    "        [4, 5, 6],\n",
    "        [20, 120, 500],\n",
    "        #[20, 40, 60, 120, 250, 500],\n",
    "        \"Unit weights - Panigrahy instances\", \"tab:unit-P21\")\n",
    "write_table(table_path / \"unit-P21.tex\", s2)\n",
    "\n",
    "\n",
    "###\n",
    "s3 = generate_table_unit(table_df_P,\n",
    "        [\"FFD-Max-Unit\", \"FFD-Sum-Unit\", \"FFD-SumSq-Unit\", \"BCS-DP1-Unit\", \"BIM-BS-DP3-Unit\"],\n",
    "        [7, 8, 9],\n",
    "        [20, 120, 500],\n",
    "        #[20, 40, 60, 120, 250, 500],\n",
    "        \"Unit weights - Panigrahy instances\", \"tab:unit-P31\")\n",
    "write_table(table_path / \"unit-P31.tex\", s3)"
   ]
  },
  {
   "cell_type": "code",
   "execution_count": null,
   "id": "d8ba7f4e",
   "metadata": {},
   "outputs": [],
   "source": [
    "# New instances\n",
    "s1 = generate_table_unit(table_df_I,\n",
    "        [\"FFD-Max-Unit\", \"FFD-Sum-Unit\", \"FFD-SumSq-Unit\", \"BCS-DP1-Unit\", \"BIM-BS-DP3-Unit\"],\n",
    "        [1, 2, 3],\n",
    "        [20, 120, 500],\n",
    "        #[20, 40, 60, 120, 250, 500],\n",
    "        \"Unit weights - New instances\", \"tab:unit-I11\")\n",
    "write_table(table_path / \"unit-I11.tex\", s1)\n",
    "\n",
    "s2 = generate_table_unit(table_df_I,\n",
    "        [\"FFD-Max-Unit\", \"FFD-Sum-Unit\", \"FFD-SumSq-Unit\", \"BCS-DP1-Unit\", \"BIM-BS-DP3-Unit\"],\n",
    "        [4, 5, 6],\n",
    "        [20, 120, 500],\n",
    "        #[20, 40, 60, 120, 250, 500],\n",
    "        \"Unit weights - New instances\", \"tab:unit-I21\")\n",
    "write_table(table_path / \"unit-I21.tex\", s2)"
   ]
  },
  {
   "cell_type": "code",
   "execution_count": null,
   "id": "4fd6c3dd",
   "metadata": {},
   "outputs": [],
   "source": [
    "# Triplet instances\n",
    "s1 = generate_table_unit(table_df_T,\n",
    "        [\"FFD-Max-Unit\", \"FFD-Sum-Unit\", \"FFD-SumSq-Unit\", \"BCS-DP1-Unit\", \"BIM-BS-DP3-Unit\"],\n",
    "        ['C', 'F'],\n",
    "        [60, 120, 249, 501],\n",
    "        \"Unit weights - Triplet instances\", \"tab:unit-T11\")\n",
    "write_table(table_path / \"unit-T11.tex\", s1)"
   ]
  },
  {
   "cell_type": "code",
   "execution_count": null,
   "id": "4a3578b7",
   "metadata": {},
   "outputs": [],
   "source": []
  },
  {
   "cell_type": "markdown",
   "id": "bb4a72d4",
   "metadata": {},
   "source": [
    "### Generate summary table with average over all n and d for each class"
   ]
  },
  {
   "cell_type": "code",
   "execution_count": null,
   "id": "2b97b597",
   "metadata": {},
   "outputs": [],
   "source": [
    "def generate_table_unit_average(df, algo_list, class_range,\n",
    "                       stitle, slabel):\n",
    "    shead = \"\\\\begin{landscape}\\n\\\\begin{table}\\n\\\\footnotesize\\n\\\\centering\\n\\\\caption{\" + stitle + \"}\"\n",
    "    shead+= \"\\label{\" + slabel + \"}\\n\"\n",
    "    shead+= \"\\\\begin{tabular}{|lr|rrr|\" + \"rrr|\"*(len(algo_list)) + \"}\\n\"\n",
    "    shead+= \"\\\\hline\\n\"\n",
    "    shead+= \" & & \\multicolumn{3}{c|}{Combined best}\"\n",
    "    salgs = \"\\multicolumn{2}{|l|}{Class} & \\%err & Time & \\#opt\"\n",
    "    for alg in algo_list:\n",
    "        shead+= \" & \\multicolumn{3}{c|}{\" + simple_name_unit(alg) + \"}\"\n",
    "        salgs += \" & \\%err & Diff & Time\"\n",
    "    shead+= \"\\\\\\\\\\n\" + salgs + \"\\\\\\\\\\n\\hline\\n\"\n",
    "\n",
    "    sbody = \"Panigrahy\"\n",
    "    for c in class_range:\n",
    "        cfirst = str(c)\n",
    "        \n",
    "        sbody+= \"\\\\rule{0pt}{.5cm} & \" + cfirst\n",
    "        sbody+= f\" & {df.loc[cfirst]['eps_best'].mean():.1f} & {df.loc[cfirst]['time_best'].mean():.1f}\"\n",
    "        sbody+= f\" & {df.loc[cfirst]['opt_best'].sum():.0f}\"\n",
    "        for alg in algo_list:\n",
    "            sbody+= f\" & {df.loc[cfirst][alg+'_eps'].mean():.1f} & {df.loc[cfirst][alg+'_diff'].mean():.1f}\"\n",
    "            sbody+= f\" & {df.loc[cfirst][alg+'_time'].mean():.1f}\"\n",
    "        sbody+= \"\\\\\\\\\\n\"\n",
    "        \n",
    "    \n",
    "        \n",
    "    sfull = shead + sbody + \"\\\\hline\\n\\end{tabular}\\n\\end{table}\\n\\end{landscape}\"\n",
    "    \n",
    "    return sfull"
   ]
  },
  {
   "cell_type": "code",
   "execution_count": null,
   "id": "1b2b80fd",
   "metadata": {},
   "outputs": [],
   "source": [
    "# Panigrahy instances\n",
    "s1 = generate_table_unit_average(table_df_P,\n",
    "        [\"FFD-SumSq-Unit\", \"WFD-T1-SumSqLoad-Unit\", \"BCS-DP1-Unit\", \"BIM-BS-DP3-Unit\"],\n",
    "        range(1,10),\n",
    "        \"Unit weights - Panigrahy instances\", \"tab:summary-unit-P\")\n",
    "write_table(table_path / \"summary-unit-P.tex\", s1)\n"
   ]
  },
  {
   "cell_type": "markdown",
   "id": "51ef13a3",
   "metadata": {},
   "source": [
    "## Generate Latex tables for comparing Avg weights"
   ]
  },
  {
   "cell_type": "code",
   "execution_count": null,
   "id": "debe4870",
   "metadata": {},
   "outputs": [],
   "source": [
    "table_df_P = create_table_df(big_df_P, big_results_P, all_algos)\n",
    "table_df_I = create_table_df(big_df_I, big_results_I, all_algos)\n",
    "table_df_T = create_table_df(big_df_T, big_results_T, all_algos)"
   ]
  },
  {
   "cell_type": "code",
   "execution_count": null,
   "id": "42fe0ecf",
   "metadata": {},
   "outputs": [],
   "source": [
    "def generate_algo_shortnames(alg_name):\n",
    "    s = alg_name.split('-')\n",
    "    if 'T1' in alg_name or 'BS' in alg_name:\n",
    "        s.pop(1)\n",
    "    a1 = '-'.join(s)\n",
    "    a2 = \"/-Avg\"\n",
    "    a3 = \"/-Avg-Dyn\"\n",
    "    return [a1, a2, a3]"
   ]
  },
  {
   "cell_type": "code",
   "execution_count": null,
   "id": "51fd9189",
   "metadata": {},
   "outputs": [],
   "source": [
    "def generate_algo_names(alg_name):\n",
    "    s = alg_name.split('-')\n",
    "    a1 = '-'.join(s)\n",
    "    s[-1] = \"Avg\"\n",
    "    a2 = '-'.join(s)\n",
    "    s.append(\"Dyn\")\n",
    "    a3 = '-'.join(s)\n",
    "    return [a1, a2, a3]"
   ]
  },
  {
   "cell_type": "code",
   "execution_count": null,
   "id": "8a05eacb",
   "metadata": {},
   "outputs": [],
   "source": [
    "def generate_table_avg(df, algo_list, class_range, n_range,\n",
    "                       stitle, slabel):\n",
    "    shead = \"\\\\begin{landscape}\\n\\\\begin{table}\\n\\\\footnotesize\\n\\\\centering\\n\\\\caption{\" + stitle + \"}\"\n",
    "    shead+= \"\\label{\" + slabel + \"}\\n\"\n",
    "    shead+= \"\\\\begin{tabular}{|lrrr|\" + \"rrr|\"*(len(algo_list)*3) + \"}\\n\"\n",
    "    shead+= \"\\\\hline\\n\"\n",
    "    shead+= \" & & &\"\n",
    "    salgs = \"\\\\rule{0pt}{.4cm}Class & n & d & Avg.Bins\"\n",
    "    for alg in algo_list:\n",
    "        a1, a2, a3 = generate_algo_shortnames(alg)\n",
    "        shead+= \" & \\multicolumn{3}{c|}{\" + a1 + \"} & \\multicolumn{3}{c|}{\" + a2 + \"} & \\multicolumn{3}{c|}{\" + a3 + \"}\"\n",
    "        salgs += \" & \\%err & Diff & Time & \\%err & Diff & Time & \\%err & Diff & Time\"\n",
    "    shead+= \"\\\\\\\\\\n\" + salgs + \"\\\\\\\\\\n\\hline\\n\"\n",
    "\n",
    "    sbody = \"\"\n",
    "    for c in class_range:\n",
    "        cfirst = str(c)\n",
    "        sbody+= cfirst\n",
    "        for n in n_range:\n",
    "            sbody+= \"\\\\rule{0pt}{.6cm} & \" + str(n)\n",
    "            smid = \" &\"\n",
    "            for d in [3, 5, 10]:\n",
    "                smid+= f\" {d} & {df.loc[cfirst,n,d]['avg_best']:.1f}\"\n",
    "                for base_alg in algo_list:\n",
    "                    l = generate_algo_names(base_alg)\n",
    "                    for alg in l:\n",
    "                        smid+= f\" & {df.loc[cfirst,n,d][alg+'_eps']:.1f} & {df.loc[cfirst,n,d][alg+'_diff']:.1f}\"\n",
    "                        smid+= f\" & {df.loc[cfirst,n,d][alg+'_time']:.1f}\"\n",
    "                sbody+= smid + \"\\\\\\\\\\n\"\n",
    "                smid = \" & &\"\n",
    "\n",
    "        sbody+= \"\\multicolumn{4}{|c|}{\\\\rule{0pt}{.5cm}Summary over all instances}\"\n",
    "        for base_alg in algo_list:\n",
    "            l = generate_algo_names(base_alg)\n",
    "            for alg in l:\n",
    "                sbody+= f\" & {df.loc[cfirst][alg+'_eps'].mean():.1f} & {df.loc[cfirst][alg+'_diff'].mean():.1f}\"\n",
    "                sbody+= f\" & {df.loc[cfirst][alg+'_time'].mean():.1f}\"\n",
    "        sbody+= \"\\\\\\\\\\n\" + \"\\\\hline\\n\"\n",
    "        \n",
    "    sfull = shead + sbody + \"\\end{tabular}\\n\\end{table}\\n\\end{landscape}\"\n",
    "    \n",
    "    return sfull"
   ]
  },
  {
   "cell_type": "code",
   "execution_count": null,
   "id": "8dc5d5c4",
   "metadata": {},
   "outputs": [],
   "source": [
    "# Panigrahy instances\n",
    "s1 = generate_table_avg(table_df_P,\n",
    "        [\"FFD-SumSq-Unit\", \"WFD-T1-SumSqLoad-Unit\"],\n",
    "        [1, 2, 3],\n",
    "        [20, 120, 500],\n",
    "        #[20, 40, 60, 120, 250, 500],\n",
    "        \"Unit and Average weights - Panigrahy instances\", \"tab:avg-P11\")\n",
    "write_table(table_path / \"avg-P11.tex\", s1)\n",
    "\n",
    "# Panigrahy instances\n",
    "s2 = generate_table_avg(table_df_P,\n",
    "        [\"FFD-SumSq-Unit\", \"WFD-T1-SumSqLoad-Unit\"],\n",
    "        [4, 5, 6],\n",
    "        [20, 120, 500],\n",
    "        #[20, 40, 60, 120, 250, 500],\n",
    "        \"Unit and Average weights - Panigrahy instances\", \"tab:avg-P21\")\n",
    "write_table(table_path / \"avg-P21.tex\", s2)\n",
    "\n",
    "# Panigrahy instances\n",
    "s3 = generate_table_avg(table_df_P,\n",
    "        [\"FFD-SumSq-Unit\", \"WFD-T1-SumSqLoad-Unit\"],\n",
    "        [7, 8, 9],\n",
    "        [20, 120, 500],\n",
    "        #[20, 40, 60, 120, 250, 500],\n",
    "        \"Unit and Average weights - Panigrahy instances\", \"tab:avg-P31\")\n",
    "write_table(table_path / \"avg-P31.tex\", s3)\n",
    "\n",
    "\n",
    "\n",
    "# Panigrahy instances\n",
    "s1 = generate_table_avg(table_df_P,\n",
    "        [\"BCS-DP1-Unit\", \"BIM-BS-DP3-Unit\"],\n",
    "        [1, 2, 3],\n",
    "        [20, 120, 500],\n",
    "        #[20, 40, 60, 120, 250, 500],\n",
    "        \"Unit and Average weights - Panigrahy instances\", \"tab:avg-P12\")\n",
    "write_table(table_path / \"avg-P12.tex\", s1)\n",
    "\n",
    "# Panigrahy instances\n",
    "s2 = generate_table_avg(table_df_P,\n",
    "        [\"BCS-DP1-Unit\", \"BIM-BS-DP3-Unit\"],\n",
    "        [4, 5, 6],\n",
    "        [20, 120, 500],\n",
    "        #[20, 40, 60, 120, 250, 500],\n",
    "        \"Unit and Average weights - Panigrahy instances\", \"tab:avg-P22\")\n",
    "write_table(table_path / \"avg-P22.tex\", s2)\n",
    "\n",
    "# Panigrahy instances\n",
    "s3 = generate_table_avg(table_df_P,\n",
    "        [\"BCS-DP1-Unit\", \"BIM-BS-DP3-Unit\"],\n",
    "        [7, 8, 9],\n",
    "        [20, 120, 500],\n",
    "        #[20, 40, 60, 120, 250, 500],\n",
    "        \"Unit and Average weights - Panigrahy instances\", \"tab:avg-P32\")\n",
    "write_table(table_path / \"avg-P32.tex\", s3)"
   ]
  },
  {
   "cell_type": "code",
   "execution_count": null,
   "id": "3dc729ec",
   "metadata": {},
   "outputs": [],
   "source": [
    "# New instances\n",
    "s1 = generate_table_avg(table_df_I,\n",
    "        [\"FFD-SumSq-Unit\", \"WFD-T1-SumSqLoad-Unit\"],\n",
    "        [1, 2, 3],\n",
    "        [20, 120, 500],\n",
    "        #[20, 40, 60, 120, 250, 500],\n",
    "        \"Unit and Average weights - New instances\", \"tab:avg-I11\")\n",
    "write_table(table_path / \"avg-I11.tex\", s1)\n",
    "\n",
    "s2 = generate_table_avg(table_df_I,\n",
    "        [\"FFD-SumSq-Unit\", \"WFD-T1-SumSqLoad-Unit\"],\n",
    "        [4, 5, 6],\n",
    "        [20, 120, 500],\n",
    "        #[20, 40, 60, 120, 250, 500],\n",
    "        \"Unit and Average weights - New instances\", \"tab:avg-I21\")\n",
    "write_table(table_path / \"avg-I21.tex\", s2)\n",
    "\n",
    "\n",
    "\n",
    "# New instances\n",
    "s1 = generate_table_avg(table_df_I,\n",
    "        [\"BCS-DP1-Unit\", \"BIM-BS-DP3-Unit\"],\n",
    "        [1, 2, 3],\n",
    "        [20, 120, 500],\n",
    "        #[20, 40, 60, 120, 250, 500],\n",
    "        \"Unit and Average weights - New instances\", \"tab:avg-I12\")\n",
    "write_table(table_path / \"avg-I12.tex\", s1)\n",
    "\n",
    "s2 = generate_table_avg(table_df_I,\n",
    "        [\"BCS-DP1-Unit\", \"BIM-BS-DP3-Unit\"],\n",
    "        [4, 5, 6],\n",
    "        [20, 120, 500],\n",
    "        #[20, 40, 60, 120, 250, 500],\n",
    "        \"Unit and Average weights - New instances\", \"tab:avg-I22\")\n",
    "write_table(table_path / \"avg-I22.tex\", s2)\n"
   ]
  },
  {
   "cell_type": "code",
   "execution_count": null,
   "id": "53eda608",
   "metadata": {},
   "outputs": [],
   "source": [
    "# Triplet instances\n",
    "s1 = generate_table_avg(table_df_T,\n",
    "        [\"FFD-SumSq-Unit\", \"WFD-T1-SumSqLoad-Unit\"],\n",
    "        ['C', 'F'],\n",
    "        [60, 120, 249, 501],\n",
    "        \"Unit and Average weights - Triplet instances\", \"tab:avg-T11\")\n",
    "write_table(table_path / \"avg-T11.tex\", s1)\n",
    "\n",
    "\n",
    "# Triplet instances\n",
    "s1 = generate_table_avg(table_df_T,\n",
    "        [\"BCS-DP1-Unit\", \"BIM-BS-DP3-Unit\"],\n",
    "        ['C', 'F'],\n",
    "        [60, 120, 249, 501],\n",
    "        \"Unit and Average weights - Triplet instances\", \"tab:avg-T12\")\n",
    "write_table(table_path / \"avg-T12.tex\", s1)"
   ]
  },
  {
   "cell_type": "code",
   "execution_count": null,
   "id": "9128aec6",
   "metadata": {},
   "outputs": [],
   "source": []
  },
  {
   "cell_type": "markdown",
   "id": "5a17c134",
   "metadata": {},
   "source": [
    "# Seminar plots"
   ]
  },
  {
   "cell_type": "code",
   "execution_count": 40,
   "id": "92cb92da",
   "metadata": {},
   "outputs": [
    {
     "data": {
      "text/plain": [
       "343"
      ]
     },
     "execution_count": 40,
     "metadata": {},
     "output_type": "execute_result"
    }
   ],
   "source": [
    "len(new_algos)"
   ]
  },
  {
   "cell_type": "code",
   "execution_count": 41,
   "id": "d918dae0",
   "metadata": {},
   "outputs": [],
   "source": [
    "algos_centric = [x for x in new_algos if \"MB-\" not in x]"
   ]
  },
  {
   "cell_type": "code",
   "execution_count": 42,
   "id": "6b1dba5c",
   "metadata": {},
   "outputs": [
    {
     "data": {
      "text/plain": [
       "275"
      ]
     },
     "execution_count": 42,
     "metadata": {},
     "output_type": "execute_result"
    }
   ],
   "source": [
    "len(algos_centric)"
   ]
  },
  {
   "cell_type": "code",
   "execution_count": null,
   "id": "295ef397",
   "metadata": {},
   "outputs": [],
   "source": [
    "fname = proj_path / \"plots/seminar_all_I3.pdf\"\n",
    "plot_summary_family(big_results_I[1].loc[\"3\"], big_results_I[0].loc[\"3\"], algos_centric,\n",
    "            \"Average over class 3 of Irregular instances\", \"Average running time (ms)\", \"Average % error to LB\",\n",
    "            log_scale=False, filename=None,\n",
    "            simplify_dict=True, show_legend=True,\n",
    "            ncols = 6, bbox_anchor=(0.2, -1),#(0.70, 0.57),\n",
    "            legend_size=FONT_SIZE-6\n",
    "            )"
   ]
  },
  {
   "cell_type": "code",
   "execution_count": null,
   "id": "2dc692f0",
   "metadata": {},
   "outputs": [],
   "source": [
    "fname = proj_path / \"plots/seminar_all_P5.pdf\"\n",
    "plot_summary_family(big_results_P[1].loc[\"5\"], big_results_P[0].loc[\"5\"], algos_centric,\n",
    "            \"Average over class 5 of Panigrahy instances\", \"Average running time (ms)\", \"Average % error to LB\",\n",
    "            log_scale=False, filename=fname,\n",
    "            simplify_dict=True, show_legend=False,\n",
    "            ncols = 6, bbox_anchor=(0.2, -0.2),#(0.70, 0.57),\n",
    "            legend_size=FONT_SIZE-6\n",
    "            )"
   ]
  },
  {
   "cell_type": "code",
   "execution_count": null,
   "id": "c2bde610",
   "metadata": {},
   "outputs": [],
   "source": []
  },
  {
   "cell_type": "code",
   "execution_count": null,
   "id": "0d2f24a8",
   "metadata": {},
   "outputs": [],
   "source": []
  },
  {
   "cell_type": "code",
   "execution_count": null,
   "id": "a4cba9be",
   "metadata": {},
   "outputs": [],
   "source": []
  },
  {
   "cell_type": "code",
   "execution_count": 48,
   "id": "ae0448b2",
   "metadata": {},
   "outputs": [],
   "source": [
    "seminar_fam_dict = create_family_dict(algos_centric)"
   ]
  },
  {
   "cell_type": "code",
   "execution_count": 52,
   "id": "3504e3a4",
   "metadata": {},
   "outputs": [],
   "source": [
    "simple_sem_dict = simplify_family_dict(seminar_fam_dict)"
   ]
  },
  {
   "cell_type": "code",
   "execution_count": 55,
   "id": "6d884d19",
   "metadata": {},
   "outputs": [],
   "source": [
    "seminar_algos_P5 = create_selected_list(big_results_P[0].loc[\"5\"], seminar_fam_dict, with_meta=False)"
   ]
  },
  {
   "cell_type": "code",
   "execution_count": 62,
   "id": "1b09f584",
   "metadata": {},
   "outputs": [],
   "source": [
    "seminar_P5 = [\n",
    "    'FF', 'FFD-L1-Avg', 'BFD-T1-L1-Avg', 'WFD-T1-L2Load-Avg', 'FFD-Linf-Avg-Dyn', 'BFD-T1-Linf-Avg-Dyn',\n",
    "    'WFD-T1-Linf-Avg-Dyn', 'BC-DP1-Avg', 'BC-DP1-Avg-Dyn',\n",
    "]"
   ]
  },
  {
   "cell_type": "code",
   "execution_count": 65,
   "id": "6120c62e",
   "metadata": {},
   "outputs": [],
   "source": [
    "seminar_algos_I3 = create_selected_list(big_results_I[0].loc[\"3\"], seminar_fam_dict, with_meta=False)"
   ]
  },
  {
   "cell_type": "code",
   "execution_count": 70,
   "id": "8efc6392",
   "metadata": {},
   "outputs": [],
   "source": [
    "seminar_I3 = [\n",
    "    'FF', 'FFD-L2-RecipAvg', 'BFD-T1-L2Load-Unit', 'WFD-T1-L2Load-Unit',\n",
    "    'FFD-L2-Avg-Dyn', 'BFD-T1-Linf-Avg-Dyn',\n",
    "    'WFD-T1-L2Load-Avg-Dyn', 'BC-DP1-Avg', 'BC-DP1-Avg-Dyn',\n",
    "]"
   ]
  },
  {
   "cell_type": "code",
   "execution_count": null,
   "id": "8b2ceefe",
   "metadata": {},
   "outputs": [],
   "source": [
    "fname = proj_path / \"plots/seminar_sel_I3.pdf\"\n",
    "plot_summary_family(big_results_I[1].loc[\"3\"], big_results_I[0].loc[\"3\"], seminar_I3,\n",
    "            \"Average over class 3 of Irregular instances\", \"Average running time (ms)\", \"Average % error to LB\",\n",
    "            log_scale=False, filename=fname,\n",
    "            simplify_dict=True, show_legend=False,\n",
    "            ncols = 2, bbox_anchor=(0.20, -0.2),\n",
    "            legend_size=FONT_SIZE-6\n",
    "            )"
   ]
  },
  {
   "cell_type": "code",
   "execution_count": null,
   "id": "e4e280ea",
   "metadata": {},
   "outputs": [],
   "source": [
    "fname = proj_path / \"plots/seminar_sel_P5.pdf\"\n",
    "plot_summary_family(big_results_P[1].loc[\"5\"], big_results_P[0].loc[\"5\"], seminar_P5,\n",
    "            \"Average over class 5 of Panigrahy instances\", \"Average running time (ms)\", \"Average % error to LB\",\n",
    "            log_scale=False, filename=fname,\n",
    "            simplify_dict=True, show_legend=False,\n",
    "            ncols = 2, bbox_anchor=(0.20, -0.2),\n",
    "            legend_size=FONT_SIZE-6\n",
    "            )"
   ]
  },
  {
   "cell_type": "code",
   "execution_count": null,
   "id": "553170ee",
   "metadata": {},
   "outputs": [],
   "source": []
  },
  {
   "cell_type": "markdown",
   "id": "ae89802b",
   "metadata": {},
   "source": [
    "### Now add MB algos"
   ]
  },
  {
   "cell_type": "code",
   "execution_count": 76,
   "id": "c966e710",
   "metadata": {},
   "outputs": [],
   "source": [
    "seminarMB_fam_dict = create_family_dict(new_algos)"
   ]
  },
  {
   "cell_type": "code",
   "execution_count": 78,
   "id": "a223368f",
   "metadata": {},
   "outputs": [],
   "source": [
    "seminar_algosMB_P5 = create_selected_list(big_results_P[0].loc[\"5\"], seminarMB_fam_dict, with_meta=False)"
   ]
  },
  {
   "cell_type": "code",
   "execution_count": 98,
   "id": "d6f17185",
   "metadata": {},
   "outputs": [],
   "source": [
    "seminarMB_P5 = [\n",
    "    'FF', 'FFD-L1-Avg', 'BFD-T1-L1-Avg', 'WFD-T1-L2Load-Avg', 'FFD-Linf-Avg-Dyn', 'BFD-T1-Linf-Avg-Dyn',\n",
    "    'WFD-T1-Linf-Avg-Dyn', 'BC-DP1-Avg', 'BC-DP1-Avg-Dyn',\n",
    "    'MB-WFD-L2-Avg', 'MB-WFD-L1-Expo-Dyn',\n",
    "    'MB-Pairing-DP1-Unit', 'MB-Pairing-DP3-Avg-Dyn',\n",
    "]"
   ]
  },
  {
   "cell_type": "code",
   "execution_count": null,
   "id": "c54be8d9",
   "metadata": {},
   "outputs": [],
   "source": [
    "fname = proj_path / \"plots/seminar_selMB_P5.pdf\"\n",
    "plot_summary_family(big_results_P[1].loc[\"5\"], big_results_P[0].loc[\"5\"], seminarMB_P5,\n",
    "            \"Average over class 5 of Panigrahy instances\", \"Average running time (ms) - log scale\", \"Average % error to LB\",\n",
    "            log_scale=True, filename=fname,\n",
    "            simplify_dict=True, show_legend=False,\n",
    "            ncols = 2, bbox_anchor=(0.20, -0.2),\n",
    "            legend_size=FONT_SIZE-6\n",
    "            )"
   ]
  },
  {
   "cell_type": "code",
   "execution_count": 101,
   "id": "12594a66",
   "metadata": {},
   "outputs": [],
   "source": [
    "seminar_algosMB_I3 = create_selected_list(big_results_I[0].loc[\"3\"], seminarMB_fam_dict, with_meta=False)"
   ]
  },
  {
   "cell_type": "code",
   "execution_count": 105,
   "id": "7d13743b",
   "metadata": {},
   "outputs": [],
   "source": [
    "seminarMB_I3 = [\n",
    "    'FF', 'FFD-L2-RecipAvg', 'BFD-T1-L2Load-Unit', 'WFD-T1-L2Load-Unit',\n",
    "    'FFD-L2-Avg-Dyn', 'BFD-T1-Linf-Avg-Dyn',\n",
    "    'WFD-T1-L2Load-Avg-Dyn', 'BC-DP1-Avg', 'BC-DP1-Avg-Dyn',\n",
    "    'MB-Pairing-DP3-Avg', 'MB-Pairing-DP3-Expo-Dyn',\n",
    "    'MB-BFD-L2Load-Unit'\n",
    "]"
   ]
  },
  {
   "cell_type": "code",
   "execution_count": null,
   "id": "d16065b8",
   "metadata": {},
   "outputs": [],
   "source": [
    "fname = proj_path / \"plots/seminar_selMB_I3.pdf\"\n",
    "plot_summary_family(big_results_I[1].loc[\"3\"], big_results_I[0].loc[\"3\"], seminarMB_I3,\n",
    "            \"Average over class 3 of Irregular instances\", \"Average running time (ms) - log scale\", \"Average % error to LB\",\n",
    "            log_scale=True, filename=fname,\n",
    "            simplify_dict=True, show_legend=False,\n",
    "            ncols = 2, bbox_anchor=(0.20, -0.2),\n",
    "            legend_size=FONT_SIZE-6\n",
    "            )"
   ]
  },
  {
   "cell_type": "code",
   "execution_count": null,
   "id": "ba89b1aa",
   "metadata": {},
   "outputs": [],
   "source": []
  }
 ],
 "metadata": {
  "kernelspec": {
   "display_name": "Python 3",
   "language": "python",
   "name": "python3"
  },
  "language_info": {
   "codemirror_mode": {
    "name": "ipython",
    "version": 3
   },
   "file_extension": ".py",
   "mimetype": "text/x-python",
   "name": "python",
   "nbconvert_exporter": "python",
   "pygments_lexer": "ipython3",
   "version": "3.10.9"
  }
 },
 "nbformat": 4,
 "nbformat_minor": 5
}
